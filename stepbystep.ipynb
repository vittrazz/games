{
 "cells": [
  {
   "cell_type": "code",
   "execution_count": null,
   "metadata": {},
   "outputs": [],
   "source": [
    "import math"
   ]
  },
  {
   "cell_type": "code",
   "execution_count": null,
   "metadata": {},
   "outputs": [],
   "source": [
    "a, b = int(input()), int(input())\n",
    "print(a + b)\n",
    "print(a - b)\n",
    "print(a* b)\n",
    "print(a / b)\n",
    "print(a // b)\n",
    "print(a % b)\n",
    "print((a**10 + b**10)**0.5)"
   ]
  },
  {
   "cell_type": "code",
   "execution_count": null,
   "metadata": {},
   "outputs": [],
   "source": [
    "weight = float(input())\n",
    "height = float(input())\n",
    "imt = weight / height**2\n",
    "if imt < 18.5:\n",
    "    print('Недостаточная масса')\n",
    "elif imt > 25:\n",
    "    print('Избыточная масса')\n",
    "else:\n",
    "    print(\"Оптимальная масса\")\n"
   ]
  },
  {
   "cell_type": "code",
   "execution_count": null,
   "metadata": {},
   "outputs": [],
   "source": [
    "text = input()\n",
    "sum = 60 * len(text)\n",
    "rub = sum // 100\n",
    "kop = sum % 100\n",
    "print(f'{rub} р. {kop} коп.')"
   ]
  },
  {
   "cell_type": "code",
   "execution_count": null,
   "metadata": {},
   "outputs": [],
   "source": [
    "num = int(input())\n",
    "year = ['Обезьяна', 'Петух', 'Собака', 'Свинья', 'Крыса', 'Бык', 'Тигр', 'Заяц', 'Дракон', 'Змея', 'Лошадь', 'Овца']\n",
    "print(year[num % 12])"
   ]
  },
  {
   "cell_type": "code",
   "execution_count": null,
   "metadata": {},
   "outputs": [],
   "source": [
    "num1 = int(input())\n",
    "num2 = str(num1)[::-1]\n",
    "if len(num2) == 5:\n",
    "    print(int(num2))\n",
    "else:\n",
    "    print(str(num1)[0] + num2[:-1])"
   ]
  },
  {
   "cell_type": "code",
   "execution_count": null,
   "metadata": {},
   "outputs": [],
   "source": [
    "n = input()\n",
    "count = 0\n",
    "new_n = ''\n",
    "for i in range(len(n)-1, -1, -1):\n",
    "    count += 1\n",
    "    if count != 4:\n",
    "        new_n = n[i] + new_n\n",
    "    elif count == 4:\n",
    "     new_n = n[i] + ',' + new_n\n",
    "     count = 1\n",
    "print(new_n)"
   ]
  },
  {
   "cell_type": "code",
   "execution_count": null,
   "metadata": {},
   "outputs": [],
   "source": [
    "num = input()\n",
    "for idx in range(len(num) - 3, 0, -3):\n",
    "    num = num[:idx] + ',' + num[idx:]\n",
    "print(num)"
   ]
  },
  {
   "cell_type": "code",
   "execution_count": null,
   "metadata": {},
   "outputs": [],
   "source": [
    "word_list2 = ['КЛЮЧ', 'КНИГА', 'ЕНОТ', 'МАШИНКА', 'КОРОВА', 'ТЕЛЕЖКА', 'ШЛЕМ', 'КНОПКА', 'ШНУР', 'ЧЕРНЫЙ', \n",
    "'ВЛАСТЕЛИН', 'СКАЙП', 'ДУБ', 'ЧАСЫ', 'ТРУБА', 'ЕЛКА', 'ИНСТИТУТ', 'КОРОБКА', 'ТАБЛИЧКА', 'ВОДА', 'СКОВОРОДА', \n",
    "'МНОГОНОЖКА', 'ЕВРЕЙ', 'ТЕРМИТ', 'КАЧЕК', 'РУЛОН', 'МАГНИТОФОН', 'НОГА', 'СЛОН', 'МИКРОВОЛНОВКА', 'ТОРТ', 'МАК', \n",
    "'ДЫМ', 'ЧАЙКА', 'ВАЛЕТ', 'ПЛИНТУС', 'ШАПКА', 'ДИНОЗАВР', 'ТОРШЕР', 'БАЛАЛАЙКА', 'БАНКА', 'ЯХТА', 'ОВЦА', 'БАНАН', \n",
    "'ДУБ', 'АНИМЕ', 'РАДУГА', 'БУКВА', 'ВЕЛОСИПЕД', 'БАНДЖО', 'ГОЛУБЬ', 'ВИНТОВКА', 'КУБОК', 'ЖАСМИН', 'ТЕЛЕФОН', \n",
    "'АНДРОИД', 'ГОРА', 'ХАЛАТ', 'ЖЕТОН', 'ОБОД', 'МЫЛО', 'ЙОГ', 'ШИШКА', 'ДОЛЛАР', 'КОЛОНКА', 'КУБИК', 'ОМАР', \n",
    "'РАКЕТА', 'МОРКОВКА', 'ЗЕРКАЛО', 'МОЛОТ', 'ВОЗДУХ', 'ЗМЕЙ', 'ЁЖ', 'ПАЛЬМА', 'МАСЛО', 'ДИДЖЕЙ', 'МЕШОК', 'ТЮБИК', \n",
    "'МОЗГ', 'ПОЕЗД', 'РОЗЕТКА', 'ПАРАШЮТИСТ', 'БЕЛКА', 'ШПРОТЫ', 'САМОСВАЛ', 'ПАЗЛ', 'БУТЫЛКА', 'КРЕМЛЬ', 'ПИЦЦА', \n",
    "'МАКАРОНЫ', 'КОВЕР', 'ЗУБЫ', 'ЯРЛЫК', 'КАШАЛОТ', 'МАРС', 'ШАКАЛ', 'ПОМАДА', 'ДЖИП', 'ЛЕЩ', 'КАМЕНЬ', 'ДИСК']"
   ]
  },
  {
   "cell_type": "code",
   "execution_count": null,
   "metadata": {},
   "outputs": [],
   "source": [
    "word_list = ['год', 'человек', 'время', 'дело', 'жизнь', 'день', 'рука', 'раз', 'работа', 'слово', 'место', 'лицо', 'друг', 'глаз', 'вопрос', 'дом', 'сторона', 'страна', 'мир', 'случай', 'голова', 'ребенок', 'сила', 'конец', 'вид', 'система', 'часть', 'город', 'отношение', 'женщина', 'деньги', 'земля', 'машина', 'вода', 'отец', 'проблема', 'час', 'право', 'нога', 'решение', 'дверь', 'образ', 'история', 'власть', 'закон', 'война', 'бог', 'голос', 'тысяча', 'книга', 'возможность', 'результат', 'ночь', 'стол', 'имя', 'область', 'статья', 'число', 'компания', 'народ', 'жена', 'группа', 'развитие', 'процесс', 'суд', 'условие', 'средство', 'начало', 'свет', 'пора', 'путь', 'душа', 'уровень', 'форма', 'связь', 'минута', 'улица', 'вечер', 'качество', 'мысль', 'дорога', 'мать', 'действие', 'месяц', 'государство', 'язык', 'любовь', 'взгляд', 'мама', 'век', 'школа', 'цель', 'общество', 'деятельность', 'организация', 'президент', 'комната', 'порядок', 'момент', 'театр', 'письмо', 'утро', 'помощь', 'ситуация', 'роль', 'рубль', 'смысл', 'состояние', 'квартира', 'орган', 'внимание', 'тело', 'труд', 'сын', 'мера', 'смерть', 'рынок', 'программа', 'задача', 'предприятие', 'окно', 'разговор', 'правительство', 'семья', 'производство', 'информация', 'положение', 'центр', 'ответ', 'муж', 'автор', 'стена', 'интерес', 'федерация', 'правило', 'управление', 'мужчина', 'идея', 'партия', 'совет', 'счет', 'сердце', 'движение', 'вещь', 'материал', 'неделя', 'чувство', 'глава', 'наука', 'ряд', 'газета', 'причина', 'плечо', 'цена', 'план', 'речь', 'точка', 'основа', 'товарищ', 'культура', 'данные', 'мнение', 'документ', 'институт', 'ход', 'проект', 'встреча', 'директор', 'срок', 'палец', 'опыт', 'служба', 'судьба', 'девушка', 'очередь', 'лес', 'состав', 'член', 'количество', 'событие', 'объект', 'зал', 'создание', 'значение', 'период', 'шаг', 'брат', 'искусство', 'структура', 'номер', 'пример', 'исследование', 'гражданин', 'игра', 'начальник', 'рост', 'тема', 'принцип', 'метод', 'тип', 'фильм', 'край', 'гость', 'воздух', 'характер', 'борьба', 'использование', 'размер', 'образование', 'мальчик', 'кровь', 'район', 'небо', 'армия', 'класс', 'представитель', 'участие', 'девочка', 'политика', 'герой', 'картина', 'доллар', 'спина', 'территория', 'пол', 'поле', 'изменение', 'направление', 'рисунок', 'течение', 'церковь', 'банк', 'сцена', 'население', 'большинство', 'музыка', 'правда', 'свобода', 'память', 'команда', 'союз', 'врач', 'договор', 'дерево', 'факт', 'хозяин', 'природа', 'угол', 'телефон', 'позиция', 'двор', 'писатель', 'самолет', 'объем', 'род', 'солнце', 'вера', 'берег', 'спектакль', 'фирма', 'способ', 'завод', 'цвет', 'журнал', 'руководитель', 'специалист', 'оценка', 'регион', 'песня', 'процент', 'родитель', 'море', 'требование', 'основание', 'половина', 'роман', 'круг', 'анализ', 'стихи', 'автомобиль', 'экономика', 'литература', 'бумага', 'поэт', 'степень', 'господин', 'надежда', 'предмет', 'вариант', 'министр', 'граница', 'дух', 'модель', 'операция', 'пара', 'сон', 'название', 'ум', 'повод', 'старик', 'миллион', 'успех', 'счастье', 'ребята', 'кабинет', 'магазин', 'пространство', 'выход', 'удар', 'база', 'знание', 'текст', 'защита', 'руководство', 'площадь', 'сознание', 'возраст', 'участник', 'участок', 'пункт', 'линия', 'желание', 'папа', 'доктор', 'губа', 'дочь', 'среда', 'председатель', 'представление', 'солдат', 'художник', 'волос', 'оружие', 'соответствие', 'ветер', 'парень', 'зрение', 'генерал', 'огонь', 'понятие', 'строительство', 'ухо', 'грудь', 'нос', 'страх', 'услуга', 'содержание', 'радость', 'безопасность', 'продукт', 'комплекс', 'бизнес', 'сад', 'сотрудник', 'лето', 'курс', 'предложение', 'рот', 'технология', 'реформа', 'отсутствие', 'собака', 'камень', 'будущее', 'рассказ', 'контроль', 'река', 'продукция', 'сумма', 'техника', 'здание', 'сфера', 'необходимость', 'фонд', 'подготовка', 'лист', 'республика', 'хозяйство', 'воля', 'бюджет', 'снег', 'деревня', 'мужик', 'элемент', 'обстоятельство', 'немец', 'победа', 'источник', 'звезда', 'выбор', 'масса', 'итог', 'сестра', 'практика', 'проведение', 'карман', 'слава', 'кухня', 'определение', 'функция', 'войско', 'комиссия', 'применение', 'капитан', 'работник', 'обеспечение', 'офицер', 'фамилия', 'предел', 'выборы', 'ученый', 'бутылка', 'бой', 'теория', 'зона', 'отдел', 'зуб', 'разработка', 'личность', 'гора', 'товар', 'метр', 'праздник', 'влияние', 'читатель', 'удовольствие', 'актер', 'слеза', 'ответственность', 'учитель', 'акт', 'боль', 'множество', 'особенность', 'показатель', 'корабль', 'звук', 'впечатление', 'частность', 'детство', 'вывод', 'профессор', 'доля', 'норма', 'прошлое', 'командир', 'коридор', 'поддержка', 'рамка', 'враг', 'этап', 'черт', 'дед', 'собрание', 'прием', 'болезнь', 'клетка', 'кожа', 'заявление', 'попытка', 'сравнение', 'расчет', 'депутат', 'комитет', 'знак', 'дядя', 'учет', 'хлеб', 'чай', 'режим', 'целое', 'вирус', 'выражение', 'здоровье', 'зима', 'десяток', 'глубина', 'сеть', 'студент', 'секунда', 'скорость', 'поиск', 'суть', 'налог', 'ошибка', 'доход', 'режиссер', 'поверхность', 'ощущение', 'карта', 'клуб', 'станция', 'революция', 'колено', 'министерство', 'стекло', 'этаж', 'высота', 'бабушка', 'трубка', 'газ', 'мастер', 'поведение', 'столица', 'механизм', 'передача', 'способность', 'подход', 'энергия', 'существование', 'исполнение', 'кино', 'сожаление', 'заместитель', 'ресурс', 'акция', 'рождение', 'администрация', 'стоимость', 'улыбка', 'артист', 'сосед', 'фраза', 'фигура', 'субъект', 'реакция', 'список', 'фотография', 'журналист', 'май', 'нарушение', 'заседание', 'толпа', 'больница', 'существо', 'свойство', 'долг', 'поколение', 'животное', 'схема', 'усилие', 'отличие', 'остров', 'противник', 'волна', 'реализация', 'страница', 'формирование', 'житель', 'красота', 'птица', 'растение', 'тень', 'явление', 'храм', 'запах', 'водка', 'наличие', 'ужас', 'одежда', 'кресло', 'больной', 'поезд', 'университет', 'традиция', 'адрес', 'декабрь', 'ладонь', 'сведение', 'цветок', 'лидер', 'октябрь', 'занятие', 'сентябрь', 'помещение', 'январь', 'зритель', 'редакция', 'стиль', 'весна', 'фактор', 'август', 'известие', 'зависимость', 'охрана', 'оборудование', 'концерт', 'отделение', 'расход', 'выставка', 'милиция', 'переход', 'эпоха', 'запад', 'произведение', 'родина', 'собственность', 'тайна', 'трава', 'лагерь', 'имущество', 'кровать', 'аппарат', 'середина', 'март', 'клиент', 'дама', 'фронт', 'отрасль', 'стул', 'беседа', 'законодательство', 'продажа', 'повышение', 'музей', 'след', 'полковник', 'сомнение', 'понимание', 'апрель', 'князь', 'рыба', 'дума', 'кодекс', 'сутки', 'чудо', 'шея', 'судья', 'крыша', 'настроение', 'поток', 'должность', 'преступление', 'мозг', 'честь', 'пост', 'еврей', 'июнь', 'сотня', 'дождь', 'лестница', 'дача', 'установка', 'появление', 'получение', 'образец', 'труба', 'главное', 'осень', 'костюм', 'баба', 'ценность', 'обязанность', 'пьеса', 'таблица', 'вино', 'воспоминание', 'лошадь', 'коллега', 'организм', 'ученик', 'учреждение', 'открытие', 'том', 'черта', 'характеристика', 'выполнение', 'оборона', 'выступление', 'температура', 'перспектива', 'подруга', 'приказ', 'жертва', 'ресторан', 'километр', 'спор', 'вкус', 'признак', 'промышленность', 'американец', 'лоб', 'заключение', 'восток', 'исключение', 'ключ', 'постановление', 'слой', 'бок', 'июль', 'перевод', 'секретарь', 'кусок', 'слух', 'польза', 'звонок', 'обстановка', 'чиновник', 'соглашение', 'деталь', 'русский', 'тишина', 'зарплата', 'билет', 'подарок', 'тюрьма', 'ящик', 'конкурс', 'книжка', 'изучение', 'просьба', 'царь', 'публика', 'смех', 'сообщение', 'угроза', 'беда', 'блок', 'достижение', 'назначение', 'реклама', 'портрет', 'масло', 'стакан', 'урок', 'часы', 'крик', 'творчество', 'телевизор', 'инструмент', 'концепция', 'лейтенант', 'экран', 'дно', 'реальность', 'канал', 'мясо', 'знакомый', 'щека', 'конфликт', 'переговоры', 'запись', 'вагон', 'площадка', 'последствие', 'сотрудничество', 'зеркало', 'тон', 'академия', 'палата', 'потребность', 'ноябрь', 'увеличение', 'дурак', 'поездка', 'обед', 'потеря', 'февраль', 'мероприятие', 'парк', 'принятие', 'устройство', 'вещество', 'категория', 'сезон', 'гостиница', 'издание', 'объединение', 'темнота', 'человечество', 'колесо', 'опасность', 'разрешение', 'воздействие', 'коллектив', 'камера', 'запас', 'следствие', 'длина', 'крыло', 'округ', 'фон', 'кандидат', 'родственник', 'давление', 'присутствие', 'взаимодействие', 'доска', 'партнер', 'двигатель', 'шум', 'достоинство', 'грех', 'нож', 'полёт', 'страсть', 'испытание', 'истина', 'оплата', 'разница', 'водитель', 'пакет', 'снижение', 'формула', 'живот', 'капитал', 'мост', 'новость', 'эффект', 'вход', 'губернатор', 'доклад', 'смена', 'убийство', 'эксперт', 'автобус', 'платье', 'кадр', 'тетя', 'общение', 'психология', 'лев', 'порог', 'проверка', 'процедура', 'рабочий', 'ремонт', 'обращение', 'обучение', 'ожидание', 'памятник', 'корень', 'наблюдение', 'буква', 'доказательство', 'признание', 'постель', 'штаб', 'владелец', 'компьютер', 'инженер', 'старуха', 'лодка', 'ракета', 'серия', 'шутка', 'вершина', 'выпуск', 'кулак', 'лед', 'торговля', 'нефть', 'молодежь', 'цифра', 'корпус', 'недостаток', 'сапог', 'сущность', 'талант', 'эффективность', 'кофе', 'полоса', 'основное', 'рассмотрение', 'сбор', 'штат', 'следователь', 'жилье', 'мешок', 'описание', 'куст', 'отказ', 'замок', 'редактор', 'дворец', 'забота', 'пиво', 'диван', 'столик', 'эксперимент', 'печать', 'кольцо', 'пистолет', 'воспитание', 'начальство', 'профессия', 'ворота', 'добро', 'дружба', 'покой', 'риск', 'окончание', 'дым', 'брак', 'величина', 'записка', 'инициатива', 'совесть', 'активность', 'кость', 'спорт', 'кредит', 'господь', 'майор', 'конференция', 'потолок', 'библиотека', 'помощник', 'конструкция', 'отдых', 'ручка', 'металл', 'молоко', 'прокурор', 'транспорт', 'поэзия', 'соединение', 'краска', 'расстояние', 'мечта', 'село', 'еда', 'зло', 'подразделение', 'сюжет', 'рубеж', 'сигнал', 'атмосфера', 'крест', 'вес', 'взрыв', 'контакт', 'сигарета', 'восторг', 'золото', 'почва', 'премия', 'король', 'подъезд', 'шанс', 'автомат', 'заказ', 'мальчишка', 'очки', 'миг', 'штука', 'чтение', 'поселок', 'свидетель', 'ставка', 'сумка', 'удивление', 'хвост', 'песок', 'поворот', 'возвращение', 'мгновение', 'статус', 'озеро', 'строй', 'параметр', 'сказка', 'тенденция', 'вина', 'дыхание', 'версия', 'масштаб', 'монастырь', 'хозяйка', 'дочка', 'танец', 'эксплуатация', 'коммунист', 'пенсия', 'приятель', 'объяснение', 'набор', 'производитель', 'пыль', 'философия', 'мощность', 'обязательство', 'уход', 'горло', 'кризис', 'указание', 'плата', 'яблоко', 'препарат', 'действительность', 'москвич', 'остаток', 'изображение', 'сделка', 'сочинение', 'покупатель', 'танк', 'затрата', 'строка', 'единица']"
   ]
  },
  {
   "cell_type": "code",
   "execution_count": null,
   "metadata": {},
   "outputs": [],
   "source": [
    "import random"
   ]
  },
  {
   "cell_type": "code",
   "execution_count": null,
   "metadata": {},
   "outputs": [],
   "source": [
    "indx = random.randint(0, len(word_list) + 1)"
   ]
  },
  {
   "cell_type": "code",
   "execution_count": null,
   "metadata": {},
   "outputs": [],
   "source": [
    "def get_word(num):\n",
    "    return word_list[num].upper()"
   ]
  },
  {
   "cell_type": "code",
   "execution_count": null,
   "metadata": {},
   "outputs": [],
   "source": [
    "word = get_word(indx)\n",
    "print(word)"
   ]
  },
  {
   "cell_type": "code",
   "execution_count": null,
   "metadata": {},
   "outputs": [],
   "source": [
    "def display_hangman(tries):\n",
    "    stages = [  # финальное состояние: голова, торс, обе руки, обе ноги\n",
    "                '''\n",
    "                   --------\n",
    "                   |      |\n",
    "                   |      O\n",
    "                   |     \\\\|/\n",
    "                   |      |\n",
    "                   |     / \\\\\n",
    "                   -\n",
    "                ''',\n",
    "                # голова, торс, обе руки, одна нога\n",
    "                '''\n",
    "                   --------\n",
    "                   |      |\n",
    "                   |      O\n",
    "                   |     \\\\|/\n",
    "                   |      |\n",
    "                   |     / \n",
    "                   -\n",
    "                ''',\n",
    "                # голова, торс, обе руки\n",
    "                '''\n",
    "                   --------\n",
    "                   |      |\n",
    "                   |      O\n",
    "                   |     \\\\|/\n",
    "                   |      |\n",
    "                   |      \n",
    "                   -\n",
    "                ''',\n",
    "                # голова, торс и одна рука\n",
    "                '''\n",
    "                   --------\n",
    "                   |      |\n",
    "                   |      O\n",
    "                   |     \\\\|\n",
    "                   |      |\n",
    "                   |     \n",
    "                   -\n",
    "                ''',\n",
    "                # голова и торс\n",
    "                '''\n",
    "                   --------\n",
    "                   |      |\n",
    "                   |      O\n",
    "                   |      |\n",
    "                   |      |\n",
    "                   |     \n",
    "                   -\n",
    "                ''',\n",
    "                # голова\n",
    "                '''\n",
    "                   --------\n",
    "                   |      |\n",
    "                   |      O\n",
    "                   |    \n",
    "                   |      \n",
    "                   |     \n",
    "                   -\n",
    "                ''',\n",
    "                # начальное состояние\n",
    "                '''\n",
    "                   --------\n",
    "                   |      |\n",
    "                   |      \n",
    "                   |    \n",
    "                   |      \n",
    "                   |     \n",
    "                   -\n",
    "                '''\n",
    "    ]\n",
    "    return stages[tries]"
   ]
  },
  {
   "cell_type": "code",
   "execution_count": null,
   "metadata": {},
   "outputs": [],
   "source": [
    "#print(display_hangman(6))"
   ]
  },
  {
   "cell_type": "code",
   "execution_count": null,
   "metadata": {},
   "outputs": [],
   "source": [
    "def play(word):\n",
    "    # тело функции\n",
    "    word = list(word)\n",
    "    print('Давайте играть в угадайку слов!')\n",
    "    word_completion = list('_' * len(word))  # строка, содержащая символы _ на каждую букву задуманного слова\n",
    "    guessed = False                          # сигнальная метка\n",
    "    guessed_letters = []                      # список уже названных букв\n",
    "    guessed_words = []                       # список уже названных слов\n",
    "    tries = 6                                # количество попыток\n",
    "    print(*word_completion)\n",
    "    print(f'количество попыток: {tries}')\n",
    "    print(display_hangman(tries))\n",
    "    while guessed == False and tries > 0:\n",
    "        letter = input('Введите букву или слово: ').upper()\n",
    "        \n",
    "        if len(letter) > 1:\n",
    "            guessed_words.append(letter)\n",
    "            if letter == word:\n",
    "                guessed = True\n",
    "                break\n",
    "            else:\n",
    "                tries -= 1\n",
    "                print('not')\n",
    "                print(f'количество попыток: {tries}')\n",
    "                print(display_hangman(tries))\n",
    "                continue\n",
    "        else:\n",
    "            guessed_letters.append(letter)\n",
    "            if letter in word:\n",
    "                print('Правильная буква!')\n",
    "                while letter in word:\n",
    "                    i = word.index(letter)\n",
    "                    word_completion[i] = letter\n",
    "                    word[i] = '*'\n",
    "                print(*word_completion, sep=' ')\n",
    "            else:\n",
    "                tries -= 1\n",
    "                print('not')\n",
    "                print(f'количество попыток: {tries}')\n",
    "                print(display_hangman(tries))\n",
    "                continue\n",
    "        if word_completion == word:\n",
    "            guessed = True\n",
    "    if guessed == True:\n",
    "        print('Вы угадали!')\n",
    "    elif guessed == False and tries == 0:\n",
    "        print('Вы проиграли!')\n",
    "        print(f'Загаданное слово: {word}')\n",
    "        print(f'Осталось попыток: {tries}')\n",
    "        print(display_hangman(tries))\n",
    "    \n",
    "    "
   ]
  },
  {
   "cell_type": "code",
   "execution_count": null,
   "metadata": {},
   "outputs": [],
   "source": [
    "play(word)"
   ]
  },
  {
   "cell_type": "code",
   "execution_count": null,
   "metadata": {},
   "outputs": [],
   "source": [
    "numbers = [10, 20, 30, 40, 50]\n",
    "numbers.pop()\n",
    "print(numbers)\n",
    "\n",
    "numbers.pop(2)\n",
    "print(numbers)"
   ]
  },
  {
   "cell_type": "code",
   "execution_count": null,
   "metadata": {},
   "outputs": [],
   "source": [
    "letters = ['a', 'b', 'c', 'd']"
   ]
  },
  {
   "cell_type": "code",
   "execution_count": null,
   "metadata": {},
   "outputs": [],
   "source": [
    "new_letters = copy(letters)"
   ]
  },
  {
   "cell_type": "code",
   "execution_count": null,
   "metadata": {},
   "outputs": [],
   "source": [
    "new_letters"
   ]
  },
  {
   "cell_type": "code",
   "execution_count": null,
   "metadata": {},
   "outputs": [],
   "source": [
    "numbers = [10, 20, 30, 40]\n",
    "del numbers[0:6]\n",
    "print(numbers)"
   ]
  },
  {
   "cell_type": "code",
   "execution_count": null,
   "metadata": {},
   "outputs": [],
   "source": [
    "my_list = [[12, 221, 3], [41, 5, 633], [71, 8, 99]]\n",
    "\n",
    "maximum = my_list[0][0]\n",
    "minimum = my_list[0][0]\n",
    "\n",
    "for row in my_list:\n",
    "    maximum = max(row)\n",
    "    minimum = min(row)\n",
    "\n",
    "print(maximum, minimum)\n"
   ]
  },
  {
   "cell_type": "code",
   "execution_count": null,
   "metadata": {},
   "outputs": [],
   "source": [
    "n = int(input())\n",
    "list1 = []\n",
    "for i in range(1, n+1):\n",
    "    list1.append(i)\n",
    "    print(list1)\n"
   ]
  },
  {
   "cell_type": "code",
   "execution_count": null,
   "metadata": {},
   "outputs": [],
   "source": [
    "n = int(input())\n",
    "result = []\n",
    "\n",
    "for i in range(1, n + 1):\n",
    "    result.append(list(range(1, i + 1)))\n",
    "\n",
    "print(result)"
   ]
  },
  {
   "cell_type": "code",
   "execution_count": null,
   "metadata": {},
   "outputs": [],
   "source": [
    "n = int(input())\n",
    "result = []\n",
    "\n",
    "for _ in range(n):\n",
    "    result.append(list(range(1, n + 1)))\n",
    "\n",
    "print(*result, sep='\\n')"
   ]
  },
  {
   "cell_type": "code",
   "execution_count": null,
   "metadata": {},
   "outputs": [],
   "source": [
    "n = int(input())\n",
    "list1 = []\n",
    "for i in range(n):\n",
    "    list1.append(list(range(1, i + 1)))\n",
    "print(list1)"
   ]
  },
  {
   "cell_type": "code",
   "execution_count": null,
   "metadata": {},
   "outputs": [],
   "source": [
    "num = int(input())\n",
    "anton = []\n",
    "for i in range(1, num + 1):\n",
    "    name = input()\n",
    "    for j in range(len(name)):\n",
    "        if name[j] == 'a' and anton == []:\n",
    "            anton.append(name[j])\n",
    "        elif name[j] == 'n' and (anton[0] == 'a' or anton[3] == 'o'):\n",
    "            anton.append(name[j])\n",
    "        elif name[j] == 't' and anton[1] == 'n':\n",
    "            anton.append(name[j])\n",
    "        elif name[j] == 'o' and anton[2] == 't':\n",
    "            anton.append(name[j])\n",
    "        elif name[j] == 'n' and anton[3] == 'o':\n",
    "            anton.append(name[j])\n",
    "    anton = ''.join(anton)\n",
    "    if anton == 'anton':\n",
    "        print(i, end=' ')\n",
    "    "
   ]
  },
  {
   "cell_type": "code",
   "execution_count": null,
   "metadata": {},
   "outputs": [],
   "source": [
    "num = int(input())\n",
    "counter = []\n",
    "for i in range(1, num + 1):\n",
    "    anton=[]\n",
    "    name = input()\n",
    "    for j in range(len(name)):\n",
    "        if name[j] == 'a' and anton == []:\n",
    "            anton.append(name[j])\n",
    "        if name[j] == 'n' and (anton == ['a'] or anton == ['a', 'n', 't', 'o']):\n",
    "            anton.append(name[j])\n",
    "        if name[j] == 't' and anton == ['a', 'n']:\n",
    "            anton.append(name[j])\n",
    "        if name[j] == 'o' and anton == ['a', 'n', 't']:\n",
    "            anton.append(name[j])\n",
    "    anton = ''.join(anton)\n",
    "    if anton == 'anton':\n",
    "        counter.append(i)\n",
    "print(*counter)"
   ]
  },
  {
   "cell_type": "code",
   "execution_count": null,
   "metadata": {},
   "outputs": [],
   "source": [
    "n = int(input())\n",
    "for i in range(n):\n",
    "    seq = [\"a\", \"n\", \"t\", \"o\", \"n\"]\n",
    "    s = list(input())\n",
    "\n",
    "    while seq and s:  # пока у нас непустые список из букв строки и список слова \"anton\"\n",
    "        if seq[0] == s[0]:  # если буквы равны, то вырываем и там, и там\n",
    "            seq.pop(0)\n",
    "            s.pop(0)\n",
    "        else:  # иначе вырываем только из списка букв строки\n",
    "            s.pop(0)\n",
    "\n",
    "    # если список букв слова \"anton\" пустой, значит вырвали все буквы,\n",
    "    # значит в строке встретились все эти буквы в нужном нам порядке\n",
    "    if not seq:\n",
    "        print(i + 1, end=\" \")"
   ]
  },
  {
   "cell_type": "code",
   "execution_count": null,
   "metadata": {},
   "outputs": [],
   "source": [
    "text = input().split()\n",
    "num = int(input())\n",
    "new_list = []\n",
    "result = []\n",
    "while text:\n",
    "    for i in range(num):\n",
    "        if text == []:\n",
    "            break\n",
    "        else:\n",
    "            new_list.append(text[0])\n",
    "            text.pop(0)\n",
    "    result.append(new_list)\n",
    "    new_list = []\n",
    "    \n",
    "print(result)"
   ]
  },
  {
   "cell_type": "code",
   "execution_count": null,
   "metadata": {},
   "outputs": [],
   "source": [
    "def chunked(symbols, n):\n",
    "    result = []\n",
    "    for i in range(0, len(symbols), n):\n",
    "        result.append(symbols[i:i + n])\n",
    "    return result\n",
    "\n",
    "symbols = input().split()\n",
    "n = int(input())\n",
    "\n",
    "print(chunked(symbols, n))"
   ]
  },
  {
   "cell_type": "code",
   "execution_count": null,
   "metadata": {},
   "outputs": [],
   "source": [
    "text = input().split()\n",
    "new=[[]]\n",
    "for i in range(1, len(text) + 1):\n",
    "    for j in range(len(text) - i + 1):\n",
    "        new.append(text[j:j+i])\n",
    "print(new)"
   ]
  },
  {
   "cell_type": "code",
   "execution_count": null,
   "metadata": {},
   "outputs": [],
   "source": [
    "tuples = [(10, 20, 40), (40, 50, 60), (70, 80, 90), (10, 90), (1, 2, 3, 4), (5, 6, 10, 2, 1, 77)]\n",
    "new_tuples = []\n",
    "for t in tuples:\n",
    "    t = list(t)\n",
    "    t[-1] = 100\n",
    "    t = tuple(t)\n",
    "    new_tuples.append(t)\n",
    "    \n",
    "\n",
    "\n",
    "\n",
    "\n",
    "\n",
    "\n",
    "print(new_tuples)"
   ]
  },
  {
   "cell_type": "code",
   "execution_count": null,
   "metadata": {},
   "outputs": [],
   "source": [
    "tuples = [(10, 20, 40), (40, 50, 60), (70, 80, 90), (10, 90), (1, 2, 3, 4), (5, 6, 10, 2, 1, 77)]\n",
    "new_tuples = [t[:-1] + (100,) for t in tuples]\n",
    "print(new_tuples)"
   ]
  },
  {
   "cell_type": "code",
   "execution_count": null,
   "metadata": {},
   "outputs": [],
   "source": [
    "poets = [\n",
    "    (\"Есенин\", 13),\n",
    "    (\"Тургенев\", 14),\n",
    "    (\"Маяковский\", 28),\n",
    "    (\"Лермонтов\", 20),\n",
    "    (\"Фет\", 15),\n",
    "]\n",
    "\n",
    "for i in range(len(poets)):\n",
    "    for j in range(i + 1, len(poets)):\n",
    "        if poets[i][1] > poets[j][1]:\n",
    "            poets[i], poets[j] = poets[j], poets[i]\n",
    "\n",
    "print(poets[0])\n",
    "print(poets[-1])"
   ]
  },
  {
   "cell_type": "code",
   "execution_count": null,
   "metadata": {},
   "outputs": [],
   "source": [
    "poets = [\n",
    "    (\"Тургенев\", 14),\n",
    "    (\"Есенин\", 13),\n",
    "    (\"Маяковский\", 28),\n",
    "    (\"Фет\", 15),\n",
    "    (\"Лермонтов\", 20),\n",
    "]\n",
    "\n",
    "for i in range(len(poets)):\n",
    "    for j in range(i + 1, len(poets)):\n",
    "        if poets[i] > poets[j]:\n",
    "            poets[i], poets[j] = poets[j], poets[i]\n",
    "\n",
    "print(poets[0])\n",
    "print(poets[-1])"
   ]
  },
  {
   "cell_type": "code",
   "execution_count": null,
   "metadata": {},
   "outputs": [],
   "source": [
    "numbers = (2, 3, 5, 7, -11, 13, 17, 19, 23, 29, 31, -6, 41, 43, 47, 53, 59, 61, -96, 71, 1000, -1)\n",
    "multy = 1\n",
    "for t in numbers:\n",
    "    multy *= t\n",
    "print(multy)"
   ]
  },
  {
   "cell_type": "code",
   "execution_count": null,
   "metadata": {},
   "outputs": [],
   "source": [
    "poet_data = ('Пушкин', 1799, 'Санкт-Петербург')\n",
    "poet_data_list = list(poet_data)\n",
    "poet_data_list[-1] = 'Москва'\n",
    "poet_data = tuple(poet_data_list)\n",
    "\n",
    "print(poet_data)"
   ]
  },
  {
   "cell_type": "code",
   "execution_count": null,
   "metadata": {},
   "outputs": [],
   "source": [
    "numbers = ((10, 10, 10, 12), (30, 45, 56, 45), (81, 80, 39, 32), (1, 2, 3, 4), (90, 10))\n",
    "avg_list = []\n",
    "for t in range(len(numbers)):\n",
    "    a = sum(numbers[t]) / len(numbers[t])\n",
    "    avg_list.append(a)\n",
    "print(avg_list)\n",
    "    "
   ]
  },
  {
   "cell_type": "code",
   "execution_count": null,
   "metadata": {},
   "outputs": [],
   "source": [
    "a = int(input())\n",
    "b = int(input())\n",
    "c = int(input())\n",
    "coor = (((-1)*b)/(2*a), (4*a*c - b**2)/(4*a))\n",
    "print(coor)"
   ]
  },
  {
   "cell_type": "code",
   "execution_count": null,
   "metadata": {},
   "outputs": [],
   "source": [
    "n = int(input())\n",
    "list1 = [input().split() for _ in range(n)]\n",
    "for row in list1:\n",
    "    print(*row)\n",
    "print()\n",
    "for i in range(len(list1)):\n",
    "    if int(list1[i][-1]) >= 4:\n",
    "        print(*list1[i])"
   ]
  },
  {
   "cell_type": "code",
   "execution_count": null,
   "metadata": {},
   "outputs": [],
   "source": [
    "a, b, c = 10, 20, 30\n",
    "c, b, a = a + b, b*2, a + b + c\n",
    "\n",
    "print(a, b, c)"
   ]
  },
  {
   "cell_type": "code",
   "execution_count": null,
   "metadata": {},
   "outputs": [],
   "source": [
    "a = [1, 1, 1]\n",
    "n = int(input())\n",
    "for i in range(n - 3):\n",
    "    if n - 3 > 0:\n",
    "        a.append(a[-1] + a[-2] + a[-3])\n",
    "print(*a[:n])    "
   ]
  },
  {
   "cell_type": "code",
   "execution_count": null,
   "metadata": {},
   "outputs": [],
   "source": [
    "beggin = ('пожалуйста', 'можна', 'нинада')  \n",
    "\n",
    "print(beggin[0][2].upper(), beggin[1][1].upper(), beggin[0][0].upper(), beggin[2][-1].upper())"
   ]
  },
  {
   "cell_type": "code",
   "execution_count": null,
   "metadata": {},
   "outputs": [],
   "source": [
    "n = int(input()) #sea \n",
    "m = int(input()) #ville\n",
    "k = int(input()) #mountains\n",
    "x = int(input()) #vill+sea\n",
    "y = int(input()) #vill+mountains\n",
    "z = int(input()) #null \n",
    "s = m + k - y + n - x\n",
    "print(s)"
   ]
  },
  {
   "cell_type": "code",
   "execution_count": null,
   "metadata": {},
   "outputs": [],
   "source": [
    "n = int(input()) #1 book\n",
    "m = int(input()) #2 book\n",
    "k = int(input()) #3 book\n",
    "x = int(input()) #n + m\n",
    "y = int(input()) #k + m\n",
    "z = int(input()) #n + k\n",
    "t = int(input())\n",
    "a = int(input()) #all\n",
    "b1_2 = n + m - x - t\n",
    "b2_3 = k + m - y - t\n",
    "b3_1 = n + k - z - t\n",
    "nully = a - (n + (m - b1_2 - t - b2_3) + (k - b3_1 - t))\n",
    "two = b1_2 + b2_3 + b3_1\n",
    "one = a - t - nully - two\n",
    "print(one, two, nully, sep='\\n')"
   ]
  },
  {
   "cell_type": "code",
   "execution_count": null,
   "metadata": {},
   "outputs": [],
   "source": [
    "myset3 = set('abcd')\n",
    "myset3"
   ]
  },
  {
   "cell_type": "code",
   "execution_count": null,
   "metadata": {},
   "outputs": [],
   "source": [
    "numbers = {1.414, 12.5, 3.1415, 2.718, 9.8, 1.414, 1.1618, 1.324, 2.718, 1.324}\n",
    "\n",
    "print(min(numbers) + max(numbers))"
   ]
  },
  {
   "cell_type": "code",
   "execution_count": null,
   "metadata": {},
   "outputs": [],
   "source": [
    "print(len(set(input())))"
   ]
  },
  {
   "cell_type": "code",
   "execution_count": null,
   "metadata": {},
   "outputs": [],
   "source": [
    "text = input()\n",
    "text1 = set(text)\n",
    "if len(text1) == len(text):\n",
    "    print('YES')\n",
    "else:\n",
    "    print('NO')"
   ]
  },
  {
   "cell_type": "code",
   "execution_count": null,
   "metadata": {},
   "outputs": [],
   "source": [
    "a = set(input())\n",
    "b = set(input())\n",
    "flag = \"YES\"\n",
    "for i in a:\n",
    "    if i not in b:\n",
    "        flag = 'NO'\n",
    "        break\n",
    "print(flag)"
   ]
  },
  {
   "cell_type": "code",
   "execution_count": null,
   "metadata": {},
   "outputs": [],
   "source": [
    "a, b, c = input().split()\n",
    "print(('NO', 'YES')[set(a) == set(b) == set(c)])"
   ]
  },
  {
   "cell_type": "code",
   "execution_count": null,
   "metadata": {},
   "outputs": [],
   "source": [
    "print(a, b, c)"
   ]
  },
  {
   "cell_type": "code",
   "execution_count": null,
   "metadata": {},
   "outputs": [],
   "source": [
    "n = int(input())\n",
    "for i in range(n):\n",
    "    i = input()\n",
    "    print(len(set(i)))"
   ]
  },
  {
   "cell_type": "code",
   "execution_count": null,
   "metadata": {},
   "outputs": [],
   "source": [
    "n = int(input())\n",
    "print(*[len(set(input().lower())) for _ in range(n)], sep='\\n')"
   ]
  },
  {
   "cell_type": "code",
   "execution_count": null,
   "metadata": {},
   "outputs": [],
   "source": [
    "items = [10, '30', 30, 10, '56', 34, '12', 90, 89, 34, 45, '67', 12, 10, 90, 23, '45', 56, '56', 1, 5, '6', 5]\n",
    "a = {int(i) for i in items}\n",
    "print(a)"
   ]
  },
  {
   "cell_type": "code",
   "execution_count": null,
   "metadata": {},
   "outputs": [],
   "source": [
    "words = ['Plum', 'Grapefruit', 'apple', 'orange', 'pomegranate', 'Cranberry', 'lime', 'Lemon', 'grapes', 'persimmon', 'tangerine', 'Watermelon', 'currant', 'Almond']\n",
    "w = {i[0].lower() for i in words}\n",
    "print(*sorted(w))"
   ]
  },
  {
   "cell_type": "code",
   "execution_count": null,
   "metadata": {},
   "outputs": [],
   "source": [
    "sentence = '''My very photogenic mother died in a freak accident (picnic, lightning) when I was three, and, save for a pocket of warmth in the darkest past, nothing of her subsists within the hollows and dells of memory, over which, if you can still stand my style (I am writing under observation), the sun of my infancy had set: surely, you all know those redolent remnants of day suspended, with the midges, about some hedge in bloom or suddenly entered and traversed by the rambler, at the bottom of a hill, in the summer dusk; a furry warmth, golden midges.'''\n",
    "a = {i.lower() for i in sentence.split() if i.isalpha()}\n",
    "print(*sorted(a))"
   ]
  },
  {
   "cell_type": "code",
   "execution_count": null,
   "metadata": {},
   "outputs": [],
   "source": [
    "sentence = '''My very photogenic mother died in a freak accident (picnic, lightning) when I was three, and, save for a pocket of warmth in the darkest past, nothing of her subsists within the hollows and dells of memory, over which, if you can still stand my style (I am writing under observation), the sun of my infancy had set: surely, you all know those redolent remnants of day suspended, with the midges, about some hedge in bloom or suddenly entered and traversed by the rambler, at the bottom of a hill, in the summer dusk; a furry warmth, golden midges.'''\n",
    "a = {i.lower().strip(':,.!?();') for i in sentence.split()}\n",
    "print(*sorted(a))"
   ]
  },
  {
   "cell_type": "code",
   "execution_count": null,
   "metadata": {},
   "outputs": [],
   "source": [
    "sentence = '''My very photogenic mother died in a freak accident (picnic, lightning) when I was three, and, save for a pocket of warmth in the darkest past, nothing of her subsists within the hollows and dells of memory, over which, if you can still stand my style (I am writing under observation), the sun of my infancy had set: surely, you all know those redolent remnants of day suspended, with the midges, about some hedge in bloom or suddenly entered and traversed by the rambler, at the bottom of a hill, in the summer dusk; a furry warmth, golden midges.'''\n",
    "a = [i.lower().strip(':,.!?();') for i in sentence.split()]\n",
    "b = {i for i in a if len(i) < 4}\n",
    "print(*sorted(b))\n"
   ]
  },
  {
   "cell_type": "code",
   "execution_count": null,
   "metadata": {},
   "outputs": [],
   "source": [
    "files = ['python.png', 'qwerty.py', 'stepik.png', 'beegeek.org', 'windows.pnp', 'pen.txt', 'phone.py', 'book.txT', 'board.pNg', 'keyBoard.jpg', 'Python.PNg', 'apple.jpeg', 'png.png', 'input.tXt', 'split.pop', 'solution.Py', 'stepik.org', 'kotlin.ko', 'github.git']\n",
    "ssss = {i.lower() for i in files if i.lower().endswith('.png')}\n",
    "print(ssss)"
   ]
  },
  {
   "cell_type": "code",
   "execution_count": null,
   "metadata": {},
   "outputs": [],
   "source": [
    "files = ['python.png', 'qwerty.py', 'stepik.png', 'beegeek.org', 'windows.pnp', 'pen.txt', 'phone.py', 'book.txT', 'board.pNg', 'keyBoard.jpg', 'Python.PNg', 'apple.jpeg', 'png.png', 'input.tXt', 'split.pop', 'solution.Py', 'stepik.org', 'kotlin.ko', 'github.git']\n",
    "\n",
    "png_files = {i.lower() for i in files if i.lower().endswith('.png')}\n",
    "print(*sorted(png_files))"
   ]
  },
  {
   "cell_type": "code",
   "execution_count": null,
   "metadata": {},
   "outputs": [],
   "source": [
    "set1 = {'a', 't', 'f', 'p'}\n",
    "set2 = {'a', 't', 'f'}\n",
    "\n",
    "print(set1 - set2)"
   ]
  },
  {
   "cell_type": "code",
   "execution_count": null,
   "metadata": {},
   "outputs": [],
   "source": [
    "n, m, p, k = (int(input()) for _ in range(4))\n",
    "good = n - (m - p) - k\n",
    "print(good)"
   ]
  },
  {
   "cell_type": "code",
   "execution_count": null,
   "metadata": {},
   "outputs": [],
   "source": [
    "mytext = input().split()\n",
    "myset = set(mytext)\n",
    "print(len(mytext) - len(myset))\n"
   ]
  },
  {
   "cell_type": "code",
   "execution_count": null,
   "metadata": {},
   "outputs": [],
   "source": [
    "num = int(input())\n",
    "cities = {input() for _ in range(num)}\n",
    "print(('OK', 'REPEAT')[input() in cities])"
   ]
  },
  {
   "cell_type": "code",
   "execution_count": null,
   "metadata": {},
   "outputs": [],
   "source": [
    "m = int(input())\n",
    "n = int(input())\n",
    "home = {input() for _ in range(m)}\n",
    "school = {input() for _ in range(n)}\n",
    "for i in school:\n",
    "    if i in home:\n",
    "        print('YES')\n",
    "    else:\n",
    "        (print('NO'))"
   ]
  },
  {
   "cell_type": "code",
   "execution_count": null,
   "metadata": {},
   "outputs": [],
   "source": [
    "one = {int(i) for i in input().split()}\n",
    "two = {int(i) for i in input().split()}\n",
    "if len(one & two) > 0:\n",
    "    print(*sorted((one & two), reverse = True))\n",
    "else:\n",
    "    print('BAD DAY')"
   ]
  },
  {
   "cell_type": "code",
   "execution_count": null,
   "metadata": {},
   "outputs": [],
   "source": [
    "one = {int(i) for i in input().split()}\n",
    "two = {int(i) for i in input().split()}\n",
    "print(('NO', 'YES')[one == two])"
   ]
  },
  {
   "cell_type": "code",
   "execution_count": null,
   "metadata": {},
   "outputs": [],
   "source": [
    "m = int(input())\n",
    "n = int(input())\n",
    "setm = {input() for _ in range(m)}\n",
    "setn = {input() for _ in range(n)}\n",
    "print(len(setm - setn))"
   ]
  },
  {
   "cell_type": "code",
   "execution_count": null,
   "metadata": {},
   "outputs": [],
   "source": [
    "m = int(input())\n",
    "n = int(input())\n",
    "setm = {input() for _ in range(m)}\n",
    "setn = {input() for _ in range(n)}\n",
    "print((len(setm - setn) + len(setn - setm)) if (len(setm - setn) + len(setn - setm)) > 0 else 'NO')"
   ]
  },
  {
   "cell_type": "code",
   "execution_count": null,
   "metadata": {},
   "outputs": [],
   "source": [
    "set1 = set(input().split())\n",
    "set2 = set(input().split())\n",
    "set3 = set1.union(set2)\n",
    "print(set3)"
   ]
  },
  {
   "cell_type": "code",
   "execution_count": null,
   "metadata": {},
   "outputs": [],
   "source": [
    "m = int(input())\n",
    "n = int(input())\n",
    "mylist = [input() for _ in range(m + n)]\n",
    "myset = set(mylist)\n",
    "two = len(mylist) - len(myset)\n",
    "print((len(myset) - two) if (len(myset) - two) > 0 else 'NO')"
   ]
  },
  {
   "cell_type": "code",
   "execution_count": null,
   "metadata": {},
   "outputs": [],
   "source": [
    "m = int(input())\n",
    "n = int(input())\n",
    "set1 = {input() for _ in range(n)}\n",
    "set2 = set()\n",
    "for _ in range(m - 1):\n",
    "    n2 = int(input())\n",
    "    \n",
    "    for i in range(n2):\n",
    "        i = {input()}\n",
    "        set2.update(i)\n",
    "    set1.intersection_update(set2)\n",
    "    set2 = set()\n",
    "print(*sorted(set1), sep='\\n')"
   ]
  },
  {
   "cell_type": "code",
   "execution_count": null,
   "metadata": {},
   "outputs": [],
   "source": [
    "set1 = {input()}\n",
    "set1"
   ]
  },
  {
   "cell_type": "code",
   "execution_count": null,
   "metadata": {},
   "outputs": [],
   "source": [
    "users = [{'name': 'Todd', 'phone': '551-1414', 'email': 'todd@gmail.com'},\n",
    "         {'name': 'Helga', 'phone': '555-1618'},\n",
    "         {'name': 'Olivia', 'phone': '449-3141', 'email': ''},\n",
    "         {'name': 'LJ', 'phone': '555-2718', 'email': 'lj@gmail.net'},\n",
    "         {'name': 'Ruslan', 'phone': '422-145-9098', 'email': 'rus-lan.cha@yandex.ru'},\n",
    "         {'name': 'John', 'phone': '233-421-32', 'email': ''},\n",
    "         {'name': 'Lara', 'phone': '+7998-676-2532', 'email': 'g.lara89@gmail.com'},\n",
    "         {'name': 'Alina', 'phone': '+7948-799-2434'},\n",
    "         {'name': 'Robert', 'phone': '420-2011', 'email': ''},\n",
    "         {'name': 'Riyad', 'phone': '128-8890-128', 'email': 'r.mahrez@mail.net'},\n",
    "         {'name': 'Khabib', 'phone': '+7995-600-9080', 'email': 'kh.nurmag@gmail.com'},\n",
    "         {'name': 'Olga', 'phone': '6449-314-1213', 'email': ''},\n",
    "         {'name': 'Roman', 'phone': '+7459-145-8059'},\n",
    "         {'name': 'Maria', 'phone': '12-129-3148', 'email': 'm.sharapova@gmail.com'},\n",
    "         {'name': 'Fedor', 'phone': '+7445-341-0545', 'email': ''},\n",
    "         {'name': 'Tim', 'phone': '242-449-3141', 'email': 'timm.ggg@yandex.ru'}]\n",
    "\n",
    "        \n",
    "a = list([user['name'] for user in users if 'email' in user and user['email'] == ''])\n",
    "b = list([user['name'] for user in users if 'email' not in user])\n",
    "all = a + b\n",
    "print(*sorted(all))      "
   ]
  },
  {
   "cell_type": "markdown",
   "metadata": {},
   "source": [
    "0Номер курса (ключ)\tНомер аудитории (значение)\tПреподаватель (значение)\tВремя (значение)\n",
    "CS101\t3004\tХайнс\t8:00\n",
    "CS102\t4501\tАльварадо\t9:00\n",
    "CS103\t6755\tРич\t10:00\n",
    "NT110\t1244\tБерк\t11:00\n",
    "CM241\t1411\tЛи\t13:00"
   ]
  },
  {
   "cell_type": "code",
   "execution_count": null,
   "metadata": {},
   "outputs": [],
   "source": [
    "my_dict = {0 : 'zero', 1 : 'one', 2 : 'two', 3 : 'three', 4 : 'four', 5 : 'five', 6 :'six', 7 :'seven', 8 : 'eight', 9 : 'nine'}\n",
    "num = input()\n",
    "for i in num:\n",
    "    print(my_dict[int(i)], end=' ')"
   ]
  },
  {
   "cell_type": "code",
   "execution_count": null,
   "metadata": {},
   "outputs": [],
   "source": [
    "my_dict = {'CS101' : ['3004', 'Хайнс', '8:00'], \n",
    "           'CS102' : ['4501', 'Альварадо', '9:00'], \n",
    "           'CS103' : ['6755', 'Рич', '10:00'], \n",
    "           'NT110' : ['1244', 'Берк', '11:00'], \n",
    "           'CM241' : ['1411', 'Ли', '13:00']}\n",
    "a = input()\n",
    "print(f'{a}: {my_dict[a][0]}, {my_dict[a][1]}, {my_dict[a][2]}')\n"
   ]
  },
  {
   "cell_type": "code",
   "execution_count": null,
   "metadata": {},
   "outputs": [],
   "source": [
    "a = ''\n",
    "my_dict = {\n",
    "    \"1\": \".,?!:\",\n",
    "    \"2\": \"ABC\",\n",
    "    \"3\": \"DEF\",\n",
    "    \"4\": \"GHI\",\n",
    "    \"5\": \"JKL\",\n",
    "    \"6\": \"MNO\",\n",
    "    \"7\": \"PQRS\",\n",
    "    \"8\": \"TUV\",\n",
    "    \"9\": \"WXYZ\",\n",
    "    \"0\": \" \"\n",
    "}\n",
    "\n",
    "text = input()\n",
    "\n",
    "for i in text.upper():\n",
    "    for key, value in my_dict.items():\n",
    "        if i in str(value):\n",
    "            a += key * (str(value).index(i) + 1)\n",
    "print(a)  "
   ]
  },
  {
   "cell_type": "code",
   "execution_count": null,
   "metadata": {},
   "outputs": [],
   "source": [
    "letters = [c for c in 'ABCDEFGHIJKLMNOPQRSTUVWXYZ0123456789']\n",
    "morse = ['.-', '-...', '-.-.', '-..', '.', '..-.', '--.', '....', '..', '.---', '-.-', '.-..', '--', '-.', '---', '.--.', '--.-', '.-.', '...', '-', '..-', '...-', '.--', '-..-', '-.--', '--..', '-----', '.----', '..---', '...--', '....-', '.....', '-....', '--...', '---..', '----.']\n",
    "#text = input()\n",
    "for i in text:\n",
    "    if i in letters:\n",
    "        print(morse[letters.index(i)], end='')\n",
    "        \n",
    "        \n",
    "print(letters)"
   ]
  },
  {
   "cell_type": "code",
   "execution_count": null,
   "metadata": {},
   "outputs": [],
   "source": [
    "letters = [c for c in 'ABCDEFGHIJKLMNOPQRSTUVWXYZ0123456789']\n",
    "morse = ['.-', '-...', '-.-.', '-..', '.', '..-.', '--.', '....', '..', '.---', '-.-', '.-..', '--', '-.', '---', '.--.', '--.-', '.-.', '...', '-', '..-', '...-', '.--', '-..-', '-.--', '--..', '-----', '.----', '..---', '...--', '....-', '.....', '-....', '--...', '---..', '----.']\n",
    "text = input()\n",
    "for i in text.upper():\n",
    "    if i in letters:\n",
    "        print(morse[letters.index(i)], end='')\n",
    "        \n",
    "        \n"
   ]
  },
  {
   "cell_type": "code",
   "execution_count": null,
   "metadata": {},
   "outputs": [],
   "source": [
    "res = {i : i**2 for i in range(1, 16)}"
   ]
  },
  {
   "cell_type": "code",
   "execution_count": null,
   "metadata": {},
   "outputs": [],
   "source": [
    "pets = [('Hatiko', 'Parker', 'Wilson', 50),\n",
    "        ('Rusty', 'Josh', 'King', 25),\n",
    "        ('Fido', 'John', 'Smith', 28),\n",
    "        ('Butch', 'Jake', 'Smirnoff', 18),\n",
    "        ('Odi', 'Emma', 'Wright', 18),\n",
    "        ('Balto', 'Josh', 'King', 25),\n",
    "        ('Barry', 'Josh', 'King', 25),\n",
    "        ('Snape', 'Hannah', 'Taylor', 40),\n",
    "        ('Horry', 'Martha', 'Robinson', 73),\n",
    "        ('Giro', 'Alex', 'Martinez', 65),\n",
    "        ('Zooma', 'Simon', 'Nevel', 32),\n",
    "        ('Lassie', 'Josh', 'King', 25),\n",
    "        ('Chase', 'Martha', 'Robinson', 73),\n",
    "        ('Ace', 'Martha', 'Williams', 38),\n",
    "        ('Rocky', 'Simon', 'Nevel', 32)]\n",
    "result = {}\n",
    "for elem in pets:\n",
    "  result.setdefault(elem[1:], []).append(elem[0])"
   ]
  },
  {
   "cell_type": "code",
   "execution_count": null,
   "metadata": {},
   "outputs": [],
   "source": [
    "pets = [\n",
    "    ('Hatiko', 'Parker', 'Wilson', 50),\n",
    "    ('Rusty', 'Josh', 'King', 25),\n",
    "    ('Fido', 'John', 'Smith', 28),\n",
    "    ('Butch', 'Jake', 'Smirnoff', 18),\n",
    "    ('Odi', 'Emma', 'Wright', 18),\n",
    "    ('Balto', 'Josh', 'King', 25),\n",
    "    ('Barry', 'Josh', 'King', 25),\n",
    "    ('Snape', 'Hannah', 'Taylor', 40),\n",
    "    ('Horry', 'Martha', 'Robinson', 73),\n",
    "    ('Giro', 'Alex', 'Martinez', 65),\n",
    "    ('Zooma', 'Simon', 'Nevel', 32),\n",
    "    ('Lassie', 'Josh', 'King', 25),\n",
    "    ('Chase', 'Martha', 'Robinson', 73),\n",
    "    ('Ace', 'Martha', 'Williams', 38),\n",
    "    ('Rocky', 'Simon', 'Nevel', 32),\n",
    "]\n",
    "\n",
    "result = {}\n",
    "for pet, first_name, second_name, age in pets:\n",
    "    owner = (first_name, second_name, age)\n",
    "\n",
    "    result.setdefault(owner, []).append(pet)"
   ]
  },
  {
   "cell_type": "code",
   "execution_count": null,
   "metadata": {},
   "outputs": [],
   "source": [
    "pets = [\n",
    "    ('Hatiko', 'Parker', 'Wilson', 50),\n",
    "    ('Rusty', 'Josh', 'King', 25),\n",
    "    ('Fido', 'John', 'Smith', 28),\n",
    "    ('Butch', 'Jake', 'Smirnoff', 18),\n",
    "    ('Odi', 'Emma', 'Wright', 18),\n",
    "    ('Balto', 'Josh', 'King', 25),\n",
    "    ('Barry', 'Josh', 'King', 25),\n",
    "    ('Snape', 'Hannah', 'Taylor', 40),\n",
    "    ('Horry', 'Martha', 'Robinson', 73),\n",
    "    ('Giro', 'Alex', 'Martinez', 65),\n",
    "    ('Zooma', 'Simon', 'Nevel', 32),\n",
    "    ('Lassie', 'Josh', 'King', 25),\n",
    "    ('Chase', 'Martha', 'Robinson', 73),\n",
    "    ('Ace', 'Martha', 'Williams', 38),\n",
    "    ('Rocky', 'Simon', 'Nevel', 32),\n",
    "]\n",
    "\n",
    "result = {}\n",
    "for pet, first_name, second_name, age in pets:\n",
    "    owner = (first_name, second_name, age)\n",
    "\n",
    "    result[owner] = result.get(owner, []) + [pet]"
   ]
  },
  {
   "cell_type": "code",
   "execution_count": null,
   "metadata": {},
   "outputs": [],
   "source": [
    "pets = [('Hatiko', 'Parker', 'Wilson', 50),\n",
    "        ('Rusty', 'Josh', 'King', 25),\n",
    "        ('Fido', 'John', 'Smith', 28),\n",
    "        ('Butch', 'Jake', 'Smirnoff', 18),\n",
    "        ('Odi', 'Emma', 'Wright', 18),\n",
    "        ('Balto', 'Josh', 'King', 25),\n",
    "        ('Barry', 'Josh', 'King', 25),\n",
    "        ('Snape', 'Hannah', 'Taylor', 40),\n",
    "        ('Horry', 'Martha', 'Robinson', 73),\n",
    "        ('Giro', 'Alex', 'Martinez', 65),\n",
    "        ('Zooma', 'Simon', 'Nevel', 32),\n",
    "        ('Lassie', 'Josh', 'King', 25),\n",
    "        ('Chase', 'Martha', 'Robinson', 73),\n",
    "        ('Ace', 'Martha', 'Williams', 38),\n",
    "        ('Rocky', 'Simon', 'Nevel', 32)]\n",
    "\n",
    "\n",
    "result = {}\n",
    "for elem in pets:\n",
    "    result.setdefault(elem[1:], []).append(elem[0])"
   ]
  },
  {
   "cell_type": "code",
   "execution_count": null,
   "metadata": {},
   "outputs": [],
   "source": [
    "result"
   ]
  },
  {
   "cell_type": "code",
   "execution_count": null,
   "metadata": {},
   "outputs": [],
   "source": [
    "text = [i.strip('.,!?:;-') for i in input().lower().split()]\n",
    "result = {}\n",
    "for word in text:\n",
    "    result[word] = result.get(word, 0)+1\n",
    "mini = len(text)\n",
    "for key, value in sorted(result.items()):\n",
    "    if value < mini:\n",
    "        mini = value\n",
    "        a = key\n",
    "print(a)\n",
    "\n"
   ]
  },
  {
   "cell_type": "markdown",
   "metadata": {},
   "source": [
    "a b c a a d c"
   ]
  },
  {
   "cell_type": "code",
   "execution_count": null,
   "metadata": {},
   "outputs": [],
   "source": [
    "text = input().split()\n",
    "result = {}\n",
    "for key in text:\n",
    "    result[key] = result.get(key, 0) + 1\n",
    "    if result[key] == 1:\n",
    "        print(key, end = ' ')\n",
    "    else:\n",
    "        i = result[key] - 1\n",
    "        print(key + '_' +str(i), end = ' ')"
   ]
  },
  {
   "cell_type": "code",
   "execution_count": null,
   "metadata": {},
   "outputs": [],
   "source": [
    "d, res = {}, []\n",
    "for w in input().split():\n",
    "    n = d[w] = d.get(w, -1) + 1\n",
    "    res.append(f'{w}_{n}' if n > 0 else w)\n",
    "print(*res)"
   ]
  },
  {
   "cell_type": "code",
   "execution_count": null,
   "metadata": {},
   "outputs": [],
   "source": [
    "m = int(input())\n",
    "my_dict = {}\n",
    "for _ in range(m):\n",
    "    word, value = input().split(': ')\n",
    "    my_dict[word] = my_dict.get(word, value)\n",
    "n = int(input())\n",
    "for _ in range(n):\n",
    "    key = input()\n",
    "    key[0] = key[0].upper()\n",
    "    print(my_dict.get(key, \"Не найдено\"))"
   ]
  },
  {
   "cell_type": "code",
   "execution_count": null,
   "metadata": {},
   "outputs": [],
   "source": [
    "m = int(input())\n",
    "my_dict = {}\n",
    "for _ in range(m):\n",
    "    word, value = input().split(': ')\n",
    "    word = word.lower()\n",
    "    my_dict[word] = my_dict.get(word, value)\n",
    "n = int(input())\n",
    "for _ in range(n):\n",
    "    key = input().lower()\n",
    "    print(my_dict.get(key, \"Не найдено\"))"
   ]
  },
  {
   "cell_type": "code",
   "execution_count": null,
   "metadata": {},
   "outputs": [],
   "source": [
    "n, m = input(), input()\n",
    "nd, md = {}, {}\n",
    "for key, key1 in zip(n, m):\n",
    "    nd[key] = nd.get(key, 0) + 1\n",
    "    md[key1] = md.get(key1, 0) + 1\n",
    "\n",
    "flag = \"YES\"\n",
    "for key in nd:\n",
    "    if (sorted(nd)).popitem() != (sorted(md)).popitem():\n",
    "        flag = \"NO\"\n",
    "        break\n",
    "print(flag)\n",
    "    \n",
    "n, m = input(), input()\n",
    "nd, md = {}, {}\n",
    "for key, key1 in zip(n, m):\n",
    "    nd[key] = nd.get(key, 0) + 1\n",
    "    md[key1] = md.get(key1, 0) + 1"
   ]
  },
  {
   "cell_type": "code",
   "execution_count": null,
   "metadata": {},
   "outputs": [],
   "source": [
    "\n",
    "n, m = input(), input()\n",
    "nd, md = {}, {}\n",
    "for key, key1 in zip(n, m):\n",
    "    nd[key] = nd.get(key, 0) + 1\n",
    "    md[key1] = md.get(key1, 0) + 1\n",
    "    \n",
    "flag = \"YES\" if nd == md else \"NO\"\n",
    "print(flag)"
   ]
  },
  {
   "cell_type": "markdown",
   "metadata": {},
   "source": [
    "С мая весной!"
   ]
  },
  {
   "cell_type": "code",
   "execution_count": null,
   "metadata": {},
   "outputs": [],
   "source": [
    "blist = []\n",
    "alist = []\n",
    "for word in input().lower().split():\n",
    "    alist.extend(word.strip('.,!?:;-'))\n",
    "for word in input().lower().split():\n",
    "    blist.extend(word.strip('.,!?:;-'))\n",
    "print(('NO', 'YES')[sorted(alist) == sorted(blist)])"
   ]
  },
  {
   "cell_type": "code",
   "execution_count": null,
   "metadata": {},
   "outputs": [],
   "source": [
    "mydict = {}\n",
    "for _ in range(int(input())):\n",
    "   key, value = input().split()\n",
    "   mydict[key] = value\n",
    "text = input()   \n",
    "for key, value in mydict.items():\n",
    "    if text == key:\n",
    "        print(value)\n",
    "        break\n",
    "    if text == value:\n",
    "        print(key)"
   ]
  },
  {
   "cell_type": "code",
   "execution_count": null,
   "metadata": {},
   "outputs": [],
   "source": [
    "words = {}\n",
    "for _ in range(int(input())):\n",
    "    a, b = input().split()\n",
    "    words[a], words[b] = b, a\n",
    "print(words[input()])"
   ]
  },
  {
   "cell_type": "code",
   "execution_count": null,
   "metadata": {},
   "outputs": [],
   "source": [
    "num = int(input())\n",
    "book = {}\n",
    "for _ in range(num):\n",
    "    list1 = input().split()\n",
    "    a, b = list1[1].lower(), list1[0]\n",
    "    book.setdefault(a, []).append(b)\n",
    "for _ in range(int(input())):\n",
    "    name = input()\n",
    "    print(*book.get(name, ['абонент не найден']))\n",
    "    "
   ]
  },
  {
   "cell_type": "code",
   "execution_count": null,
   "metadata": {},
   "outputs": [],
   "source": [
    "word_dict = {}\n",
    "word = input()\n",
    "for key in word:\n",
    "    word_dict[key] = word_dict.get(key, 0) + 1\n",
    "num = int(input())\n",
    "letter = {}\n",
    "for _ in range(num):\n",
    "    key, value = input().split(': ')\n",
    "    letter[key] = int(value)\n",
    "for key in word_dict:\n",
    "    for key1 in letter:\n",
    "        if word_dict[key] == letter[key1]:\n",
    "            word_dict[key] = key1\n",
    "for key in word:\n",
    "    print(word_dict[key], end='')"
   ]
  },
  {
   "cell_type": "code",
   "execution_count": null,
   "metadata": {},
   "outputs": [],
   "source": [
    "numbers = [34, 10, -4, 6, 10, 23, -90, 100, 21, -35, -95, 1, 36, -38, -19, 1, 6, 87]\n",
    "print(len(numbers))\n",
    "result = {numbers[i]: (numbers[i])**2 for i in range(len(numbers))}\n",
    "print(result)"
   ]
  },
  {
   "cell_type": "code",
   "execution_count": null,
   "metadata": {},
   "outputs": [],
   "source": [
    "colors = {'c1': 'Red', 'c2': 'Grey', 'c3': None, 'c4': 'Green', 'c5': 'Yellow', 'c6': 'Pink', 'c7': 'Orange', 'c8': None, 'c9': 'White', 'c10': 'Black', 'c11': 'Violet', 'c12': 'Gold', 'c13': None, 'c14': 'Amber', 'c15': 'Azure', 'c16': 'Beige', 'c17': 'Bronze', 'c18': None, 'c19': 'Lilac', 'c20': 'Pearl', 'c21': None, 'c22': 'Sand', 'c23': None}\n",
    "\n",
    "result = {i: colors[i] for i in colors if colors[i] != None}\n",
    "result"
   ]
  },
  {
   "cell_type": "code",
   "execution_count": null,
   "metadata": {},
   "outputs": [],
   "source": [
    "favorite_numbers = {'timur': 17, 'ruslan': 7, 'larisa': 19, 'roman': 123, 'rebecca': 293, 'ronald': 76, 'dorothy': 62, 'harold': 36, 'matt': 314, 'kim': 451, 'rosaly': 18, 'rustam': 89, 'soltan': 111, 'amir': 654, 'dima': 390, 'amiran': 777, 'geor': 999, 'sveta': 75, 'rita': 909, 'kirill': 404, 'olga': 271, 'anna': 55, 'madlen': 876}\n",
    "\n",
    "result = {i: favorite_numbers[i] for i in favorite_numbers if 100 > favorite_numbers[i] > 9}\n",
    "result"
   ]
  },
  {
   "cell_type": "code",
   "execution_count": null,
   "metadata": {},
   "outputs": [],
   "source": [
    "months = {1: 'January', 2: 'February', 3: 'March', 4: 'April', 5: 'May', 6: 'June', 7: 'July', 8: 'August', 9: 'September', 10: 'October', 11: 'November', 12: 'December'}\n",
    "\n",
    "result = {months[i] : i for i in months}\n",
    "result"
   ]
  },
  {
   "cell_type": "code",
   "execution_count": null,
   "metadata": {},
   "outputs": [],
   "source": [
    "s = '1:men 2:kind 90:number 0:sun 34:book 56:mountain 87:wood 54:car 3:island 88:power 7:box 17:star 101:ice'\n",
    "s = s.split()\n",
    "result = {int(i.split(':')[0]): str(i.split(':')[1]) for i in s}\n",
    "result"
   ]
  },
  {
   "cell_type": "code",
   "execution_count": null,
   "metadata": {},
   "outputs": [],
   "source": [
    "numbers = [34, 10, 4, 6, 10, 23, 90, 100, 21, 35, 95, 1, 36, 38, 19, 1, 6, 87, 1000, 13456, 360]\n",
    "result = {i: [j for j in range(1, i + 1) if i % j == 0] for i in numbers}\n",
    "result"
   ]
  },
  {
   "cell_type": "code",
   "execution_count": null,
   "metadata": {},
   "outputs": [],
   "source": [
    "import random\n",
    "coin = ('Решка', 'Орел')\n",
    "for _ in range(int(input())):\n",
    "    print(coin[random.randint(0, 1)])"
   ]
  },
  {
   "cell_type": "code",
   "execution_count": null,
   "metadata": {},
   "outputs": [],
   "source": [
    "import random\n",
    "for _ in range(int(input())):\n",
    "    print(random.randrange(1, 7))"
   ]
  },
  {
   "cell_type": "code",
   "execution_count": null,
   "metadata": {},
   "outputs": [],
   "source": [
    "import random\n",
    "\n",
    "length = int(input()) \n",
    "while length > 0:\n",
    "    i = random.randint(65, 122)\n",
    "    if i not in [91, 92, 93, 95, 95, 96]:\n",
    "        print(chr(i), end='')\n",
    "        length -= 1\n",
    "    else:\n",
    "        continue\n",
    "    "
   ]
  },
  {
   "cell_type": "code",
   "execution_count": null,
   "metadata": {},
   "outputs": [],
   "source": [
    "import random\n",
    "\n",
    "length = int(input())    # длина пароля\n",
    "password = ''\n",
    "for i in range(length):\n",
    "    password += [chr(random.randint(65, 90)), chr(random.randint(97, 122))][random.randint(0, 1)]\n",
    "print(password)"
   ]
  },
  {
   "cell_type": "code",
   "execution_count": null,
   "metadata": {},
   "outputs": [],
   "source": [
    "import random\n",
    "a = set()\n",
    "while len(a) < 7:\n",
    "    i = random.randint(1, 49)\n",
    "    a.add(i)\n",
    "print(*sorted(a))"
   ]
  },
  {
   "cell_type": "code",
   "execution_count": null,
   "metadata": {},
   "outputs": [],
   "source": [
    "from random import randint as r\n",
    "def generate_ip():\n",
    "    return '.'.join([str(r(0, 255)) for _ in range(4)])\n",
    "print(generate_ip())"
   ]
  },
  {
   "cell_type": "code",
   "execution_count": null,
   "metadata": {},
   "outputs": [],
   "source": [
    "from random import randint as r\n",
    "def generate_index():\n",
    "    a = chr(r(65, 90)) + chr(r(65, 90))\n",
    "    b = chr(r(65, 90)) + chr(r(65, 90))\n",
    "    c = str(r(0, 9)) + str(r(0, 9))\n",
    "    d = str(r(0, 9)) + str(r(0, 9))\n",
    "    return f'{a}{c}_{d}{b}'"
   ]
  },
  {
   "cell_type": "code",
   "execution_count": null,
   "metadata": {},
   "outputs": [],
   "source": [
    "generate_index()"
   ]
  },
  {
   "cell_type": "code",
   "execution_count": null,
   "metadata": {},
   "outputs": [],
   "source": [
    "import random\n",
    "matrix = [[1, 2, 3, 4],\n",
    "          [5, 6, 7, 8],\n",
    "          [9, 10, 11, 12],\n",
    "          [13, 14, 15, 16]]\n",
    "random.shuffle(matrix)"
   ]
  },
  {
   "cell_type": "code",
   "execution_count": null,
   "metadata": {},
   "outputs": [],
   "source": [
    "print(matrix)"
   ]
  },
  {
   "cell_type": "code",
   "execution_count": null,
   "metadata": {},
   "outputs": [],
   "source": [
    "import random\n",
    "for _ in range(2):\n",
    "    a = str(random.randint(1, 9)) + ''.join([str(random.randint(0, 9)) for _ in range(6)])\n",
    "    print(a)"
   ]
  },
  {
   "cell_type": "code",
   "execution_count": null,
   "metadata": {},
   "outputs": [],
   "source": [
    "import random\n",
    "a = [i for i in input()]\n",
    "random.shuffle(a)\n",
    "print(''.join(a))\n",
    "    "
   ]
  },
  {
   "cell_type": "code",
   "execution_count": null,
   "metadata": {},
   "outputs": [],
   "source": [
    "matrix = set()\n",
    "while len(matrix) < 25:\n",
    "    matrix.add(random.randint(1, 75))\n",
    "matrix = list(matrix)\n",
    "matrix = [matrix[i:i + 5] for i in range(0, len(matrix), 5)]\n",
    "matrix[2][2] = 0\n",
    "for row in matrix:\n",
    "    formatted_row = ' '.join([str(num).ljust(3) for num in row])\n",
    "    print(formatted_row)"
   ]
  },
  {
   "cell_type": "code",
   "execution_count": null,
   "metadata": {},
   "outputs": [],
   "source": [
    "from random import sample\n",
    "\n",
    "numbers = sample(list(range(1, 76)), 25)\n",
    "bingo = [numbers[i:i + 5] for i in range(0, 21, 5)]\n",
    "bingo[2][2] = 0\n",
    "\n",
    "for i in range(5):\n",
    "    for j in range(5):\n",
    "        print(str(bingo[i][j]).ljust(3), end=' ')\n",
    "    print()"
   ]
  },
  {
   "cell_type": "code",
   "execution_count": null,
   "metadata": {},
   "outputs": [],
   "source": [
    "dict1 = {i : input() for i in range(int(input()))}"
   ]
  },
  {
   "cell_type": "code",
   "execution_count": null,
   "metadata": {},
   "outputs": [],
   "source": [
    "dict1"
   ]
  },
  {
   "cell_type": "code",
   "execution_count": null,
   "metadata": {},
   "outputs": [],
   "source": [
    "import random\n",
    "list1 = [input() for _ in range(int(input()))]\n",
    "list2 = random.sample([i for i in range(len(list1))], len(list1))\n",
    "friends = [list1[i] for i in list2]\n",
    "cnt = 0\n",
    "while cnt < len(list1):\n",
    "    for i in range(len(friends)):\n",
    "        if friends[i] == list1[i]:\n",
    "            list2 = random.sample([i for i in range(len(list1))], len(list1))\n",
    "            friends = [list1[i] for i in list2]\n",
    "        else:\n",
    "            cnt += 1\n",
    "    if cnt == len(list1):\n",
    "        break\n",
    "    else:\n",
    "        cnt = 0\n",
    "for i in range(len(friends)):\n",
    "    print(list1[i], '-', friends[i])\n",
    "    "
   ]
  },
  {
   "cell_type": "code",
   "execution_count": null,
   "metadata": {},
   "outputs": [],
   "source": [
    "from random import choice\n",
    "\n",
    "names, rel, tmp = {input() for _ in range(int(input()))}, {}, 0\n",
    "for name in names.copy():\n",
    "    if names == {name}:\n",
    "        rel[tmp], rel[name] = name, rel[tmp]\n",
    "    else:\n",
    "        rand_name = choice(list(names - {name}))\n",
    "        rel[name] = rand_name\n",
    "        names -= {rand_name}\n",
    "        tmp = name\n",
    "[print(k, '-', v) for k, v in rel.items()]"
   ]
  },
  {
   "cell_type": "code",
   "execution_count": null,
   "metadata": {},
   "outputs": [],
   "source": [
    "import random\n",
    "\n",
    "n = int(input())  \n",
    "students = [input() for _ in range(n)]  # считываем\n",
    "random.shuffle(students)                # перемешиваем\n",
    "\n",
    "# создаем словарь с измененным шагом индексов на 1\n",
    "couples = {students[i-1]: students[i] for i in range(n)} \n",
    "\n",
    "# выводим\n",
    "for key in couples:\n",
    "    print(f'{key} - {couples[key]}')"
   ]
  },
  {
   "cell_type": "code",
   "execution_count": null,
   "metadata": {},
   "outputs": [],
   "source": [
    "import string\n",
    "import random\n",
    "\n",
    "def generate_password(length):\n",
    "    letters_up = set(string.ascii_uppercase) -  set('lIoO')\n",
    "    digits = set(string.digits) -  set('10')\n",
    "    letters_low = set(string.ascii_lowercase) -  set('lIoO')\n",
    "    parol = ''.join(random.sample(letters_low, length - 2)) + random.choice(digits) + random.choice(letters_up)\n",
    "    return parol\n",
    "def generate_passwords(counts, length):\n",
    "    a = [generate_password(length) for _ in range(counts)]\n",
    "    return a\n",
    "print (*generate_passwords(int(input()), int(input())), sep='\\n')      \n"
   ]
  },
  {
   "cell_type": "code",
   "execution_count": null,
   "metadata": {},
   "outputs": [],
   "source": [
    "import string\n",
    "import random\n",
    "\n",
    "def generate_password(length):\n",
    "    letters = [i for i in string.ascii_lowercase if i not in 'lIoO']\n",
    "    digits = [str(i) for i in string.digits if str(i) not in '10']\n",
    "    letters_2 = [i for i in string.ascii_uppercase if i not in 'lIoO']\n",
    "    parol = ''.join(random.sample(letters, length - 2)) + random.choice(letters_2) + random.choice(digits)\n",
    "    return parol\n",
    "def generate_passwords(counts, length):\n",
    "    a = [generate_password(length) for _ in range(counts)]\n",
    "    return a\n",
    "print (*generate_passwords(int(input()), int(input())), sep='\\n')"
   ]
  },
  {
   "cell_type": "code",
   "execution_count": null,
   "metadata": {},
   "outputs": [],
   "source": [
    "import string\n",
    "from random import choice, shuffle\n",
    "\n",
    "chars1 = [с for с in string.ascii_uppercase if с not in 'OI']\n",
    "chars2 = [с for с in string.ascii_lowercase if с not in 'ol']\n",
    "chars3 = list(string.digits[2:])\n",
    "chars = chars1 + chars2 + chars3\n",
    "\n",
    "def generate_password(length):\n",
    "    result = [choice(i) for i in (chars1, chars2, chars3)] + [choice(chars) for _ in range(3, length)]\n",
    "    shuffle(result)\n",
    "    return ''.join(result)\n",
    "\n",
    "def generate_passwords(count, length):\n",
    "    result = set()\n",
    "    while len(result) < count:\n",
    "        result.add(generate_password(length))\n",
    "    return list(result)\n",
    "\n",
    "for i in generate_passwords(int(input()), int(input())):\n",
    "    print(i)"
   ]
  },
  {
   "cell_type": "code",
   "execution_count": null,
   "metadata": {},
   "outputs": [],
   "source": [
    "string.ascii_letters)\n",
    "(string.digits)"
   ]
  },
  {
   "cell_type": "code",
   "execution_count": null,
   "metadata": {},
   "outputs": [],
   "source": [
    "def binary_search(list1, item):\n",
    "    low = 0\n",
    "    high = len(list1) - 1\n",
    "    while low <= high:\n",
    "        mid = (low + high) + 1 // 2\n",
    "        guess = list1[mid]\n",
    "        if guess == item:\n",
    "            return mid\n",
    "        if guess > mid:\n",
    "            high = mid - 1\n",
    "        else:\n",
    "            low = mid + 1\n",
    "    return None\n",
    "my_list = [ 1, 3, 5, 7, 9, 11, 12]\n",
    "print (binary_search(my_list, 9))\n",
    "    "
   ]
  },
  {
   "cell_type": "code",
   "execution_count": null,
   "metadata": {},
   "outputs": [],
   "source": [
    "import string\n",
    "import random\n",
    "\n",
    "def generate_password(length):\n",
    "    letters = [i for i in string.ascii_lowercase if i not in 'lIoO']\n",
    "    digits = [str(i) for i in string.digits if str(i) not in '10']\n",
    "    letters_2 = [i for i in string.ascii_uppercase if i not in 'lIoO']\n",
    "    parol = random.sample(letters, length - 2) + [random.choice(letters_2)] + [random.choice(digits)]\n",
    "    random.shuffle(parol)\n",
    "    return ''.join(parol)\n",
    "def generate_passwords(counts, length):\n",
    "    a = [generate_password(length) for _ in range(counts)]\n",
    "    return a\n",
    "print (*generate_passwords(int(input()), int(input())), sep='\\n')"
   ]
  },
  {
   "cell_type": "code",
   "execution_count": null,
   "metadata": {},
   "outputs": [],
   "source": [
    "import string\n",
    "import random\n",
    "\n",
    "def generate_password(length):\n",
    "    letters = [i for i in string.ascii_lowercase if i not in 'lIoO']\n",
    "    digits = [str(i) for i in string.digits if str(i) not in '10']\n",
    "    letters_2 = [i for i in string.ascii_uppercase if i not in 'lIoO']\n",
    "    parol = random.sample(letters, length - 2) + [random.choice(letters_2)] + [random.choice(digits)]\n",
    "    random.shuffle(parol)\n",
    "    return ''.join(parol)\n",
    "print(generate_password(6))"
   ]
  },
  {
   "cell_type": "code",
   "execution_count": null,
   "metadata": {},
   "outputs": [],
   "source": [
    "n = 10**6\n",
    "cnt = 0\n",
    "s0 = 16\n",
    "for _ in range(n):\n",
    "    y = random.uniform(-2, 2)\n",
    "    x = random.uniform(-2, 2)\n",
    "    if x**3 + y**4 + 2 >= 0 and 3*x + y**2 <= 2:\n",
    "        cnt += 1\n",
    "print((cnt/n)*s0)"
   ]
  },
  {
   "cell_type": "code",
   "execution_count": null,
   "metadata": {},
   "outputs": [],
   "source": [
    "print(max(int(input()) for i in range(2)))"
   ]
  },
  {
   "cell_type": "code",
   "execution_count": null,
   "metadata": {},
   "outputs": [],
   "source": [
    "from fractions import Fraction as fr\n",
    "\n",
    "s = '0.78 4.3 9.6 3.88 7.08 5.88 0.23 4.65 2.79 0.90 4.23 2.15 3.24 8.57 0.10 8.57 1.49 5.64 3.63 8.36 1.56 6.67 1.46 5.26 4.83 7.13 1.22 1.02 7.82 9.97 5.40 9.79 9.82 2.78 2.96 0.07 1.72 7.24 7.84 9.23 1.71 6.24 5.78 5.37 0.03 9.60 8.86 2.73 5.83 6.50 0.123 0.00021'\n",
    "s = [fr(i) for i in s.split()]\n",
    "print(max(s) + min(s))"
   ]
  },
  {
   "cell_type": "code",
   "execution_count": null,
   "metadata": {},
   "outputs": [],
   "source": [
    "from fractions import Fraction as fr\n",
    "a = input()\n",
    "b = input()\n",
    "s = fr(a) + fr(b)\n",
    "r = fr(a) - fr(b)\n",
    "m = fr(a) * fr(b)\n",
    "n = fr(a) / fr(b)\n",
    "print(f'{a} + {b} = {s}')\n",
    "print(f'{a} - {b} = {r}')\n",
    "print(f'{a} * {b} = {m}')\n",
    "print(f'{a} / {b} = {n}')"
   ]
  },
  {
   "cell_type": "code",
   "execution_count": null,
   "metadata": {},
   "outputs": [],
   "source": [
    "from fractions import Fraction as fr\n",
    "n = int(input())\n",
    "s = sum([fr(1, i) for i in range (1, n + 1)])\n",
    "print(s)"
   ]
  },
  {
   "cell_type": "code",
   "execution_count": null,
   "metadata": {},
   "outputs": [],
   "source": [
    "from fractions import Fraction as fr\n",
    "import math\n",
    "n = int(input())\n",
    "s = sum([fr(1, math.factorial(i)) for i in range (1, n + 1)])\n",
    "print(fr(s))"
   ]
  },
  {
   "cell_type": "code",
   "execution_count": null,
   "metadata": {},
   "outputs": [],
   "source": [
    "import math\n",
    "from fractions import Fraction as fr\n",
    "num = int(input())\n",
    "num1 = num // 2\n",
    "num2 = num - num1\n",
    "while math.gcd(num1, num2)!= 1:\n",
    "    num1 -= 1\n",
    "    num2 += 1\n",
    "print(fr(num1, num2))"
   ]
  },
  {
   "cell_type": "code",
   "execution_count": null,
   "metadata": {},
   "outputs": [],
   "source": [
    "from fractions import Fraction as F\n",
    "from math import gcd\n",
    "\n",
    "n = int(input())\n",
    "a = n // 2\n",
    "b = n - a\n",
    "while gcd(a, b) != 1:\n",
    "    a -= 1\n",
    "    b += 1\n",
    "print(F(a, b))"
   ]
  },
  {
   "cell_type": "code",
   "execution_count": null,
   "metadata": {},
   "outputs": [],
   "source": [
    "import math\n",
    "h = int(input())\n",
    "x = int(input())\n",
    "y = int(input())\n",
    "t = (h - x) / (x - y)\n",
    "print(math.ceil(t) + 1) \n"
   ]
  },
  {
   "cell_type": "code",
   "execution_count": null,
   "metadata": {},
   "outputs": [],
   "source": [
    "from fractions import Fraction as F\n",
    "\n",
    "n = int(input())\n",
    "a = n / n\n",
    "b = n - a\n",
    "s = set()\n",
    "for i in range(1, n + 1):\n",
    "    for j in range(1, n + 1):\n",
    "        if i != j and i < j:\n",
    "            x = F(i, j)\n",
    "            s.add(x)\n",
    "s = sorted(s, reverse=False)\n",
    "print(*s, sep = '\\n')"
   ]
  },
  {
   "cell_type": "code",
   "execution_count": null,
   "metadata": {},
   "outputs": [],
   "source": [
    "numbers = [3 + 4j, 3 + 1j, -7 + 3j, 4 + 8j, -8 + 10j, -3 + 2j, 3 - 2j, -9 + 9j, -1 - 1j, -1 - 10j, -20 + 15j, -21 + 1j, 1j, -3 + 8j, 4 - 6j, 8 + 2j, 2 + 3j]\n",
    "mx = abs(numbers[0])\n",
    "a = 0\n",
    "for i in range(1, len(numbers) - 1):\n",
    "    if abs(numbers[i]) > mx:\n",
    "        mx = abs(numbers[i])\n",
    "        a = numbers[i]\n",
    "print(mx, a, sep='\\n')\n",
    "\n",
    "    "
   ]
  },
  {
   "cell_type": "markdown",
   "metadata": {},
   "source": []
  },
  {
   "cell_type": "code",
   "execution_count": null,
   "metadata": {},
   "outputs": [],
   "source": [
    "numbers = [3 + 4j, 3 + 1j, -7 + 3j, 4 + 8j, -8 + 10j, -3 + 2j, 3 - 2j, -9 + 9j, -1 - 1j, -1 - 10j, -20 + 15j, -21 + 1j, 1j, -3 + 8j, 4 - 6j, 8 + 2j, 2 + 3j]\n",
    "print(len(numbers))"
   ]
  },
  {
   "cell_type": "code",
   "execution_count": null,
   "metadata": {},
   "outputs": [],
   "source": [
    "n = int(input())\n",
    "z1 = complex(input())\n",
    "z2 = complex(input())\n",
    "a = z1**n + z2**n\n",
    "b = z1.conjugate()**n + z2.conjugate()**(n + 1)\n",
    "print(a + b)"
   ]
  },
  {
   "cell_type": "code",
   "execution_count": null,
   "metadata": {},
   "outputs": [],
   "source": [
    "import turtle as tar\n",
    "def rectangle(width, height):\n",
    "    a = tar.forward(width)\n",
    "    b = tar.left(90)\n",
    "    c = tar.forward(height)\n",
    "    return tar.forward(width)\n",
    "\n",
    "    "
   ]
  },
  {
   "cell_type": "code",
   "execution_count": null,
   "metadata": {},
   "outputs": [],
   "source": [
    "print(rectangle(3, 4))"
   ]
  },
  {
   "cell_type": "code",
   "execution_count": null,
   "metadata": {},
   "outputs": [],
   "source": [
    "import turtle\n",
    "\n",
    "turtle.shape()\n",
    "\n",
    "def triangle(side):\n",
    "  turtle.left(240)\n",
    "  for _ in range(3):\n",
    "    turtle.forward(side)\n",
    "    turtle.left(120)\n",
    "\n",
    "def proton():\n",
    "  def o():\n",
    "    turtle.left(90)\n",
    "    turtle.forward(50)\n",
    "    turtle.right(90)\n",
    "    turtle.forward(30)\n",
    "    turtle.right(90)\n",
    "    turtle.forward(50)\n",
    "    turtle.left(90)\n",
    "    turtle.forward(25)\n",
    " \n",
    "  turtle.right(60)\n",
    "  turtle.forward(150)\n",
    "  turtle.right(90)\n",
    "  turtle.forward(80)\n",
    "  for _ in range(3):\n",
    "    turtle.right(90)\n",
    "    turtle.forward(40)\n",
    "  for _ in range(2):\n",
    "    turtle.left(90)\n",
    "    turtle.forward(40)\n",
    "  turtle.forward(10)\n",
    "  turtle.left(90)\n",
    "  turtle.forward(50)\n",
    "  for _ in range(3):\n",
    "    turtle.right(90)\n",
    "    turtle.forward(25)\n",
    "  turtle.left(135)\n",
    "  turtle.forward(35)\n",
    "  turtle.left(45)\n",
    "  turtle.forward(10)\n",
    "  o()\n",
    "  turtle.left(90)\n",
    "  turtle.forward(50)\n",
    "  turtle.left(90)\n",
    "  turtle.backward(15)\n",
    "  turtle.forward(30)\n",
    "  turtle.backward(15)\n",
    "  turtle.left(90)\n",
    "  turtle.forward(50)\n",
    "  turtle.left(90)\n",
    "  turtle.forward(25)\n",
    "  o()\n",
    "  turtle.forward(15)\n",
    "  turtle.backward(30)\n",
    "  turtle.left(90)\n",
    "  turtle.forward(50)\n",
    "  turtle.right(149)\n",
    "  turtle.forward(59)\n",
    "  turtle.right(121)\n",
    "  turtle.forward(70)\n",
    "  turtle.backward(70)\n",
    "  turtle.right(90)\n",
    "  turtle.forward(50)\n",
    "  turtle.left(990)\n",
    "  turtle.forward(30)\n",
    " \n",
    "\n",
    "triangle(220)\n",
    "proton()"
   ]
  },
  {
   "cell_type": "code",
   "execution_count": null,
   "metadata": {},
   "outputs": [],
   "source": [
    "def findSmallest(arr):\n",
    "    smallest = arr[0]\n",
    "    smallest_index = 0\n",
    "    for i in range(1, len(arr)):\n",
    "        if arr[i] < smallest:\n",
    "            smallest = arr[i]\n",
    "            smallest_index = i\n",
    "    return smallest_index"
   ]
  },
  {
   "cell_type": "code",
   "execution_count": null,
   "metadata": {},
   "outputs": [],
   "source": [
    "def selectionSort(arr):\n",
    "    newArr = []\n",
    "    for i in range(len(arr)):\n",
    "        smallest = findSmallest(arr)\n",
    "        newArr.append(arr.pop(smallest))\n",
    "    return newArr"
   ]
  },
  {
   "cell_type": "code",
   "execution_count": null,
   "metadata": {},
   "outputs": [],
   "source": [
    "print(selectionSort([5, 2, 8, 4, 5]))"
   ]
  },
  {
   "cell_type": "code",
   "execution_count": null,
   "metadata": {},
   "outputs": [],
   "source": [
    "import turtle as tar\n",
    "def square(side):\n",
    "    tar.lt(20)\n",
    "    for _ in range(4):\n",
    "        tar.fd(side)\n",
    "        tar.lt(90)\n",
    "\n"
   ]
  },
  {
   "cell_type": "code",
   "execution_count": null,
   "metadata": {},
   "outputs": [],
   "source": [
    "n = int(input())\n",
    "city = input()\n",
    "lang = input().split(', ')\n",
    "if n < 7 or city != 'Рим' or ('английский' not in lang and 'русский' not in lang ):\n",
    "    print('Не подходит')\n",
    "else:\n",
    "    print(\"Подходит\")"
   ]
  },
  {
   "cell_type": "code",
   "execution_count": null,
   "metadata": {},
   "outputs": [],
   "source": [
    "def look_for_key(main_box):\n",
    "    pile = main_box.make_a_pile_to_look_through()\n",
    "    while pile is not empty:\n",
    "        box = pile"
   ]
  },
  {
   "cell_type": "code",
   "execution_count": null,
   "metadata": {},
   "outputs": [],
   "source": [
    "import turtle as t\n",
    "from math import sin, cos\n",
    "\n",
    "def square(n):\n",
    "  for _ in range(4):\n",
    "    t.lt(90 + sin(n))\n",
    "    t.fd(n)\n",
    "    \n",
    "    \n",
    "\n",
    "t.tracer(60)\n",
    "t.up()\n",
    "t.goto(180, -50)\n",
    "t.down()\n",
    "n = 40\n",
    "for i, n in enumerate(range(130)):\n",
    "#while n < 260:\n",
    "  n += cos(n) * n\n",
    "  square(n)\n",
    "  t.width(sin(n/10))"
   ]
  },
  {
   "cell_type": "markdown",
   "metadata": {},
   "source": [
    "новогодня  елка"
   ]
  },
  {
   "cell_type": "code",
   "execution_count": null,
   "metadata": {},
   "outputs": [],
   "source": [
    "import turtle as t\n",
    "from math import cos, radians\n",
    "from random import randint as ri\n",
    "\n",
    "\n",
    "def get_branch(y0, length):\n",
    "  branches = ri(3, 7)\n",
    "  d0 = ri(200, 250)\n",
    "  for _ in range(branches):\n",
    "    segments = ri(3, 7)\n",
    "    t.up()\n",
    "    t.goto(0, y0)\n",
    "    t.seth(d0)\n",
    "    t.down()\n",
    "    for b in range(segments):\n",
    "      t.color('green')\n",
    "      t.fd(length//segments)\n",
    "      if t.pos()[0] > 0:\n",
    "        k = 1\n",
    "      else:\n",
    "        k = -1\n",
    "      t.lt(ri(0, 10)*k)\n",
    "    d0 += (270 - d0)*8//branches\n",
    "    \n",
    " \n",
    " \n",
    "\n",
    "#t.hideturtle()\n",
    "t.tracer(15)\n",
    "a, k = 100, 0.52\n",
    "t.up()\n",
    "t.goto(-50, 140)\n",
    "t.down()\n",
    "\n",
    "for _ in range(5):\n",
    "  t.fd(a)\n",
    "  t.rt(144)\n",
    "\n",
    "t.rt(18)\n",
    "t.fd(a*k)\n",
    "for _ in range(5):\n",
    "  t.rt(144)\n",
    " \n",
    "  t.backward(a*k)\n",
    "  t.fd(a*k)\n",
    " \n",
    "t.up()\n",
    "t.goto(0, 150)\n",
    "t.seth(90)\n",
    "t.down()\n",
    "w = 2\n",
    "#while t.pos()[0] > -10:\n",
    "for _ in range(500):\n",
    "  t.backward(1)\n",
    "  w += 0.01\n",
    "  t.width(w)\n",
    "t.width(10)  \n",
    "for b in range(100, -100, -20):\n",
    "    get_branch(b, (b - 97)**2/100)"
   ]
  },
  {
   "cell_type": "code",
   "execution_count": null,
   "metadata": {},
   "outputs": [],
   "source": []
  },
  {
   "cell_type": "code",
   "execution_count": null,
   "metadata": {},
   "outputs": [],
   "source": [
    "ast = [str(i) for i in range(int(input()), int(input()) + 1)]\n",
    "ast_filtr = [i for i in ast if all([int(j) for j in i])]\n",
    "for a in ast_filtr:\n",
    "    if all([int(a) % int(a[i]) == 0 for i in range(len(a))]):\n",
    "        print(a, end=(' '))"
   ]
  },
  {
   "cell_type": "code",
   "execution_count": null,
   "metadata": {},
   "outputs": [],
   "source": [
    "a, b = int(input()), int(input())\n",
    "\n",
    "for i in range(a, b + 1):\n",
    "    # создаем кортеж со всеми цифрами числа\n",
    "    digits = tuple(map(int, str(i)))\n",
    "    \n",
    "    # проверяем, что число не содержит 0 и делится на все свои цифры\n",
    "    if 0 not in digits and all(map(lambda cur_digit: i % cur_digit == 0, digits)):\n",
    "        print(i, end=\" \")"
   ]
  },
  {
   "cell_type": "code",
   "execution_count": null,
   "metadata": {},
   "outputs": [],
   "source": [
    "s = input()\n",
    "print('YES' if all((any(i.isupper() for i in s), \n",
    "                    any(i.islower() for i in s), \n",
    "                    any(i.isdigit() for i in s), \n",
    "                    len(s) >= 7)) else 'NO')"
   ]
  },
  {
   "cell_type": "markdown",
   "metadata": {},
   "source": [
    "4\n",
    "3\n",
    "Васечкин 4\n",
    "Илюшин 5\n",
    "Кривцов 3\n",
    "2\n",
    "Боталов 5\n",
    "Петров 5\n",
    "3\n",
    "Лебеда 4\n",
    "Ивлев 4\n",
    "Суворов 4\n",
    "2\n",
    "Ласкер 4\n",
    "Козлов 5"
   ]
  },
  {
   "cell_type": "code",
   "execution_count": null,
   "metadata": {},
   "outputs": [],
   "source": [
    "n = int(input())\n",
    "classer = [[input() for _ in range(int(input()))] for _ in range(n)]\n",
    "asd = [any(x[-1] == '5' for x in i) for i in classer]\n",
    "print('YES' if all(asd) else 'NO')"
   ]
  },
  {
   "cell_type": "code",
   "execution_count": null,
   "metadata": {},
   "outputs": [],
   "source": [
    "classer"
   ]
  },
  {
   "cell_type": "code",
   "execution_count": null,
   "metadata": {},
   "outputs": [],
   "source": [
    "num = int('1000001', 2)\n",
    "print(num)"
   ]
  },
  {
   "cell_type": "markdown",
   "metadata": {},
   "source": [
    "To: <mail>\n",
    "Приветствую, <name>!\n",
    "Вам назначен экзамен, который пройдет <date>, в <time>.\n",
    "По адресу: <place>. \n",
    "Экзамен будет проводить <teacher> в кабинете <number>. \n",
    "Желаем удачи на экзамене!"
   ]
  },
  {
   "cell_type": "code",
   "execution_count": null,
   "metadata": {},
   "outputs": [],
   "source": [
    "def generate_letter(mail, name, date, time, place, teacher='Тимур Гуев', number=17):\n",
    "    print(f'To: {mail}')\n",
    "    print(f'Приветствую, {name}!')\n",
    "    print(f'Вам назначен экзамен, который пройдет {date}, в {time}.')\n",
    "    print(f'По адресу: {place}.')\n",
    "    print(f'Экзамен будет проводить {teacher} в кабинете {number}.')\n",
    "    return f'Желаем удачи на экзамене!'\n",
    "    "
   ]
  },
  {
   "cell_type": "markdown",
   "metadata": {},
   "source": [
    "Напишите функцию concat(), принимающую переменное количество аргументов и объединяющую их в одну строку через разделитель (sep). Если разделитель не задан, им служит пробел.\n",
    "\n",
    "Примечание 1. Обратите внимание, что функция concat() должна принимать не список, а именно переменное количество аргументов.\n",
    "\n",
    "Примечание 2. Приведенный ниже код, при условии, что функция concat() написана правильно"
   ]
  },
  {
   "cell_type": "code",
   "execution_count": null,
   "metadata": {},
   "outputs": [],
   "source": [
    "def concat(*args, sep=' '):\n",
    "    ads = list(map(str, args))\n",
    "    return sep.join(ads)"
   ]
  },
  {
   "cell_type": "code",
   "execution_count": null,
   "metadata": {},
   "outputs": [],
   "source": [
    "print(concat(100, 2, 3, 4, 5, 6, 7, 8, 9987, sep='!!!'))"
   ]
  },
  {
   "cell_type": "code",
   "execution_count": null,
   "metadata": {},
   "outputs": [],
   "source": [
    "from functools import reduce\n",
    "import operator\n",
    "\n",
    "def flatten(data):\n",
    "    return reduce(operator.concat, data, [])\n",
    "\n",
    "result = flatten([[1, 2], [3, 4], [], [5]])\n",
    "\n",
    "print(result)"
   ]
  },
  {
   "cell_type": "code",
   "execution_count": null,
   "metadata": {},
   "outputs": [],
   "source": [
    "from functools import reduce\n",
    "def product_of_odds(data):\n",
    "    result = list(filter(lambda x: x % 2 == 1, data))\n",
    "    return reduce(lambda x, y: x * y, result, 1)\n",
    "print(product_of_odds([1, 2, 3, 4, 5, 6, 7, 8, 9, 10]))"
   ]
  },
  {
   "cell_type": "code",
   "execution_count": null,
   "metadata": {},
   "outputs": [],
   "source": [
    "words = 'the world is mine take a look what you have started'.split()\n",
    "\n",
    "words = list(map(lambda x: f'\"{x}\"', words))\n",
    "print(*words)"
   ]
  },
  {
   "cell_type": "code",
   "execution_count": null,
   "metadata": {},
   "outputs": [],
   "source": [
    "numbers = [18, 191, 9009, 5665, 78, 77, 45, 23, 19991, 908, 8976, 6565, 5665, 10, 1000, 908, 909, 232, 45654, 786]\n",
    "numbers = list(filter(lambda x: str(x) != str(x)[::-1], numbers))\n",
    "print(*numbers)"
   ]
  },
  {
   "cell_type": "markdown",
   "metadata": {},
   "source": [
    "numbers = [(10, -2, 3, 4), (-13, 56), (1, 9, 2), (-1, -9, -45, 32), (-1, 5, 1), (17, 0, 1), (0, 1), (3,), (39, 12), (11, -23), (10, -100, 21, 32), (3, -8), (1, 1)]\n",
    "\n",
    "sorted_numbers = sorted(numbers, key=lambda x; sum(x))\n",
    "\n",
    "print(sorted_numbers)"
   ]
  },
  {
   "cell_type": "code",
   "execution_count": null,
   "metadata": {},
   "outputs": [],
   "source": [
    "numbers = [(10, -2, 3, 4), (-13, 56), (1, 9, 2), (-1, -9, -45, 32), (-1, 5, 1), (17, 0, 1), (0, 1), (3,), (39, 12), (11, -23), (10, -100, 21, 32), (3, -8), (1, 1)]\n",
    "\n",
    "sorted_numbers = sorted(numbers, key=lambda x: sum(x) / len(x))\n",
    "\n",
    "print(sorted_numbers)"
   ]
  },
  {
   "cell_type": "code",
   "execution_count": null,
   "metadata": {},
   "outputs": [],
   "source": [
    "def call(func, *args):\n",
    "\n",
    "    return func(*args)"
   ]
  },
  {
   "cell_type": "code",
   "execution_count": null,
   "metadata": {},
   "outputs": [],
   "source": [
    "def mul7(x):\n",
    "    return x * 7\n",
    "\n",
    "\n",
    "def add2(x, y):\n",
    "    return x + y\n",
    "\n",
    "\n",
    "def add3(x, y, z):\n",
    "    return x + y + z\n",
    "\n",
    "\n",
    "print(call(mul7, 10))\n",
    "print(call(add2, 2, 7))\n",
    "print(call(add3, 10, 30, 40))\n",
    "print(call(bool, 0))"
   ]
  },
  {
   "cell_type": "markdown",
   "metadata": {},
   "source": [
    "Напишите функцию compose(), которая принимает на вход две других одноаргументных функции f и g и возвращает новую функцию. Эта новая функция также должна принимать один аргумент x и применять к нему исходные функции в нужном порядке: для функций f и g порядок применения должен выглядеть, как f(g(x))"
   ]
  },
  {
   "cell_type": "markdown",
   "metadata": {},
   "source": [
    "def add3(x):\n",
    "    return x + 3\n",
    "\n",
    "\n",
    "def mul7(x):\n",
    "    return x * 7\n",
    "\n",
    "\n",
    "print(compose(mul7, add3)(1))\n",
    "print(compose(add3, mul7)(2))\n",
    "print(compose(mul7, str)(3))\n",
    "print(compose(str, mul7)(5))"
   ]
  },
  {
   "cell_type": "code",
   "execution_count": null,
   "metadata": {},
   "outputs": [],
   "source": [
    "def compose(f, g):\n",
    "    return lambda x: f(g(x))\n"
   ]
  },
  {
   "cell_type": "code",
   "execution_count": null,
   "metadata": {},
   "outputs": [],
   "source": [
    "def add3(x):\n",
    "    return x + 3\n",
    "\n",
    "\n",
    "def mul7(x):\n",
    "    return x * 7\n",
    "\n",
    "\n",
    "print(compose(mul7, add3)(1))\n",
    "print(compose(add3, mul7)(2))\n",
    "print(compose(mul7, str)(3))\n",
    "print(compose(str, mul7)(5))"
   ]
  },
  {
   "cell_type": "markdown",
   "metadata": {},
   "source": [
    "Напишите функцию arithmetic_operation(), которая принимает символ одной из четырех арифметических операций (+, -, *, /) и возвращает функцию двух аргументов для соответствующей операции."
   ]
  },
  {
   "cell_type": "code",
   "execution_count": null,
   "metadata": {},
   "outputs": [],
   "source": [
    "def arithmetic_operation(operator):\n",
    "    return {'-' : lambda x, y: x - y,\n",
    "            '+' : lambda x, y: x + y,\n",
    "            '*' : lambda x, y: x * y,\n",
    "            '/' : lambda x, y: x / y}[operator]"
   ]
  },
  {
   "cell_type": "code",
   "execution_count": null,
   "metadata": {},
   "outputs": [],
   "source": [
    "add = arithmetic_operation('+')"
   ]
  },
  {
   "cell_type": "code",
   "execution_count": null,
   "metadata": {},
   "outputs": [],
   "source": [
    "add"
   ]
  },
  {
   "cell_type": "code",
   "execution_count": null,
   "metadata": {},
   "outputs": [],
   "source": [
    "add = arithmetic_operation('+')\n",
    "div = arithmetic_operation('/')\n",
    "print(add(10, 20))\n",
    "print(div(20, 5))"
   ]
  },
  {
   "cell_type": "code",
   "execution_count": null,
   "metadata": {},
   "outputs": [],
   "source": [
    "print(sorted(input().split(), key=lambda x: x.lower()))"
   ]
  },
  {
   "cell_type": "markdown",
   "metadata": {},
   "source": [
    "IP-адрес – уникальный числовой идентификатор устройства в компьютерной сети, работающий по протоколу TCP/IP.\n",
    "\n",
    "В \n",
    "4\n",
    "4-й версии IP-адрес представляет собой \n",
    "32\n",
    "32-битное число. Адрес записывается в виде четырёх десятичных чисел (октетов) со значением от \n",
    "0\n",
    "0 до \n",
    "255\n",
    "255, разделённых точками, например, \n",
    "192.168.1.2\n",
    "192.168.1.2.\n",
    "\n",
    "Напишите программу, которая считывает IP-адреса и выводит их в порядке возрастания в соответствии с десятичным"
   ]
  },
  {
   "cell_type": "code",
   "execution_count": null,
   "metadata": {},
   "outputs": [],
   "source": [
    "num = int(input())\n",
    "asd = [input() for _ in range(num)]\n",
    "asd = sorted(asd)\n",
    "asd = sorted(asd, key=(lambda x: sum([ord(a.upper()) - 65 for a in x])))\n",
    "print(*asd, sep='\\n')"
   ]
  },
  {
   "cell_type": "code",
   "execution_count": null,
   "metadata": {},
   "outputs": [],
   "source": [
    "num = input()\n",
    "asdf = [input() for _ in range(num)]\n",
    "asdf = sorted(asdf, key=lambda x: sum([int(item) * (256**(3 - index)) for index, item in enumerate(x.split('.'))]))\n",
    "print(*asdf, sep='\\n')"
   ]
  },
  {
   "cell_type": "code",
   "execution_count": null,
   "metadata": {},
   "outputs": [],
   "source": [
    "дэф претти принт(*дата, сайд=\"-\", делиметр=\"|\"):\n",
    "        #создаем строку, которая будет у нас в середине\n",
    "        строка = ф' {делиметр} '.джоин(мап(стр, *дата))\n",
    "       #затем создаем пол и потолок\n",
    "        www = сайд*(длина(строка)+2)\n",
    "        печать(ф' {www} ')\n",
    "        печать(ф'{делиметр} {строка} {делиметр}')\n",
    "        печать(ф' {www} ')"
   ]
  },
  {
   "cell_type": "code",
   "execution_count": null,
   "metadata": {},
   "outputs": [],
   "source": [
    "def pretty_print(data, side='-', delimiter='|'):\n",
    "    s = f' {delimiter} '.join(map(str, data))\n",
    "    print(s)\n",
    "    www = side*(len(s)+2)\n",
    "    print(f' {www} ')\n",
    "    print(f'{delimiter} {s} {delimiter}')\n",
    "    print(f' {www} ')\n",
    "    "
   ]
  },
  {
   "cell_type": "code",
   "execution_count": 3,
   "metadata": {},
   "outputs": [
    {
     "name": "stdout",
     "output_type": "stream",
     "text": [
      "4mSiat\n"
     ]
    }
   ],
   "source": [
    "import string\n",
    "import random\n",
    "\n",
    "def generate_password(length):\n",
    "    letters = [i for i in string.ascii_lowercase if i not in 'lIoO']\n",
    "    digits = [str(i) for i in string.digits if str(i) not in '10']\n",
    "    letters_2 = [i for i in string.ascii_uppercase if i not in 'lIoO']\n",
    "    parol = random.sample(letters, length - 2) + [random.choice(letters_2)] + [random.choice(digits)]\n",
    "    random.shuffle(parol)\n",
    "    parol = ''.join(parol)\n",
    "    return parol\n",
    "def generate_passwords(counts, length):\n",
    "    a = [generate_password(length) for _ in range(counts)]\n",
    "    return a\n",
    "print (*generate_passwords(int(input()), int(input())), sep='\\n')"
   ]
  },
  {
   "cell_type": "code",
   "execution_count": null,
   "metadata": {},
   "outputs": [],
   "source": [
    "numb = open('prices.txt', 'r', encoding='utf-8')\n",
    "s = [[j.split('\\t') for j in i.strip().split('\\n')] for i in numb.readlines()]\n",
    "sumn = 0\n",
    "for i in s:\n",
    "    for j in i:\n",
    "        sumn += int(j[1]) * int(j[2])\n",
    "print(sumn) "
   ]
  },
  {
   "cell_type": "code",
   "execution_count": null,
   "metadata": {},
   "outputs": [],
   "source": [
    "with open('text.txt', 'r', encoding='utf-8') as te:\n",
    "    tee = te.read()\n",
    "    for i in tee[:: -1]:\n",
    "        print(i, end='')   \n",
    "      "
   ]
  },
  {
   "cell_type": "code",
   "execution_count": null,
   "metadata": {},
   "outputs": [],
   "source": [
    "with open('data.txt', encoding='utf-8') as file:\n",
    "    print(file.readlines()[::-1], sep='')"
   ]
  },
  {
   "cell_type": "code",
   "execution_count": null,
   "metadata": {},
   "outputs": [],
   "source": [
    "with open('lines.txt', 'r', encoding='utf-8') as lines:\n",
    "    a = max(len(line) for line in lines.readlines())\n",
    "    lines.seek(0)\n",
    "    print(*filter(lambda x: len(x) == a, lines.readlines()), sep='\\n')"
   ]
  },
  {
   "cell_type": "code",
   "execution_count": null,
   "metadata": {},
   "outputs": [],
   "source": [
    "with open('numbers.txt', 'r', encoding='utf-8') as numbs:\n",
    "    # a = [[sum(int(i.strip()) for i in j.split() if i)] for j in numbs.read().strip().split('\\n')]\n",
    "    # for i in a:\n",
    "    for line in numbs.readlines():\n",
    "        print(line)"
   ]
  },
  {
   "cell_type": "code",
   "execution_count": null,
   "metadata": {},
   "outputs": [],
   "source": [
    "with open('nums.txt', 'r', encoding='utf-8') as nums:\n",
    "    b = 0\n",
    "    for a in nums.readlines():\n",
    "        for j in a:\n",
    "            if j not in ' 0123456789':\n",
    "                a = a.replace(j, ' ')        \n",
    "        b += sum(map(int, filter(int, a.split())))\n",
    "    print(b)"
   ]
  },
  {
   "cell_type": "code",
   "execution_count": null,
   "metadata": {},
   "outputs": [],
   "source": [
    "words = [input() for _ in range(4)]\n",
    "my_dict={}\n",
    "for word in words:\n",
    "    my_dict.setdefault(sum((ord(i)) for i in word), word)\n",
    "print(my_dict[max(my_dict)])"
   ]
  },
  {
   "cell_type": "code",
   "execution_count": null,
   "metadata": {},
   "outputs": [],
   "source": [
    "my_dict"
   ]
  },
  {
   "cell_type": "markdown",
   "metadata": {},
   "source": [
    "строки\n",
    "списки\n",
    "кортежи\n",
    "множества"
   ]
  },
  {
   "cell_type": "code",
   "execution_count": null,
   "metadata": {},
   "outputs": [],
   "source": [
    "my_list = [1, 2, 3, 1, 2, 3, 1, 2, 3, 1, 2, 3, 1, 2, 3]\n",
    "\n",
    "def counts(my_list):\n",
    "    my_dict = {}\n",
    "    new_list = []\n",
    "    for i in my_list:\n",
    "        my_dict[i] = my_dict.setdefault(i, 0) + 1\n",
    "        if my_dict[i] <= 2:\n",
    "            new_list.append(i)\n",
    "    return new_list"
   ]
  },
  {
   "cell_type": "code",
   "execution_count": null,
   "metadata": {},
   "outputs": [],
   "source": [
    "print(counts(my_list))"
   ]
  },
  {
   "cell_type": "code",
   "execution_count": null,
   "metadata": {},
   "outputs": [],
   "source": [
    "def counts(my_list):\n",
    "    new_list = []\n",
    "    my_dict = {}\n",
    "    for i in my_list:\n",
    "        if my_dict.setdefault(i, 0) < 2 and not my_dict.update({i : my_dict[i] + 1}):\n",
    "            new_list.append(i)\n",
    "    return new_list"
   ]
  },
  {
   "cell_type": "code",
   "execution_count": null,
   "metadata": {},
   "outputs": [],
   "source": [
    "eng = 'eyopaxcETOPAHXCBM'\n",
    "rus = 'еуорахсЕТОРАНХСВМ'\n",
    "text = input()\n",
    "a = sum([ord(i) * 3 for i in text])\n",
    "for i in text:\n",
    "    if i in eng:\n",
    "        text = text.replace(i, rus[eng.find(i)])\n",
    "b = sum([ord(i) * 3 for i in text])\n",
    "print(f'Старая стоимость: {a}🐝')\n",
    "print(f'Новая стоимость: {b}🐝')"
   ]
  },
  {
   "cell_type": "markdown",
   "metadata": {},
   "source": [
    "[u-1093][u-1086]-Santa Claus-[u-1093][u-1086]\n",
    "\t\n",
    "Hello, my name is [u-1061][u-1072][u-1082][u-1080]!"
   ]
  },
  {
   "cell_type": "code",
   "execution_count": null,
   "metadata": {},
   "outputs": [],
   "source": [
    "text = input()\n",
    "text_start, text_end = text.split('[', 1)\n",
    "print(text_end, text_start)\n",
    "    \n",
    "    "
   ]
  },
  {
   "cell_type": "code",
   "execution_count": null,
   "metadata": {},
   "outputs": [],
   "source": [
    "def rus_word(word):\n",
    "    num = ''\n",
    "    word_rus = ''\n",
    "    for i in word:\n",
    "        if i.isdigit():\n",
    "            num += i\n",
    "            if len(num) == 4:\n",
    "                word_rus +=chr(int(num))\n",
    "                num = ''\n",
    "    if word[-1] == ']':\n",
    "        return word_rus\n",
    "    else:\n",
    "        return word_rus + word[word.rfind(']') + 1:]\n",
    "    \n",
    "text = input().split()\n",
    "new_text = [rus_word(word) if word.startswith('[u') else word for word in text]\n",
    "new_text_str = ''.join(new_text)\n",
    "for i in new_text_str:\n",
    "    if i.find('[u'):\n",
    "        aaa = new_text_str[new_text_str[new_text_str.find('[u'), new_text_str.rfind(']')]]\n",
    "        new_text_str = new_text_str.replace\n",
    "print(*new_text)"
   ]
  },
  {
   "cell_type": "code",
   "execution_count": null,
   "metadata": {},
   "outputs": [],
   "source": [
    "print(text)"
   ]
  },
  {
   "cell_type": "code",
   "execution_count": null,
   "metadata": {},
   "outputs": [],
   "source": [
    "new_text_str = input()\n",
    "while '[u-' in new_text_str:\n",
    "    aaa = new_text_str[new_text_str.rfind('['): new_text_str.rfind(']') + 1]\n",
    "    new_text_str = new_text_str.replace(aaa, chr(int(aaa[3: -1])))\n",
    "print(new_text_str)"
   ]
  },
  {
   "cell_type": "markdown",
   "metadata": {},
   "source": [
    "Hello, my name is [u-1061][u-1072][u-1082][u-1080]!"
   ]
  },
  {
   "cell_type": "code",
   "execution_count": null,
   "metadata": {},
   "outputs": [],
   "source": [
    "new_text_str = input()\n",
    "\n",
    "aaa = new_text_str[new_text_str.rfind('['): new_text_str.rfind(']') + 1]\n",
    "new_text_str = new_text_str.replace(aaa, chr(int(aaa[3: -1])))\n",
    "new_text_str"
   ]
  },
  {
   "cell_type": "code",
   "execution_count": null,
   "metadata": {},
   "outputs": [],
   "source": [
    "text = input()\n",
    "while '[u-' in text:\n",
    "    text = text.replace(f'[u-')"
   ]
  },
  {
   "cell_type": "code",
   "execution_count": null,
   "metadata": {},
   "outputs": [],
   "source": [
    "word = input()\n",
    "my_list = []\n",
    "while word != 'КОНЕЦ':\n",
    "    my_list.append(word)\n",
    "    word = input()\n",
    "print('Минимальная строка ⬇️:', min(my_list[: -1]))\n",
    "print('Максимальная строка ⬆️:', max(my_list[: -1]))\n",
    "    \n"
   ]
  },
  {
   "cell_type": "code",
   "execution_count": null,
   "metadata": {},
   "outputs": [],
   "source": [
    "magic = [input() for _ in range(4)]\n",
    "a = (ord(max(magic)[-1]) * ord(min(magic)[-1])) ** 2\n",
    "print(a)"
   ]
  },
  {
   "cell_type": "code",
   "execution_count": null,
   "metadata": {},
   "outputs": [],
   "source": [
    "ord(\"П\")"
   ]
  },
  {
   "cell_type": "code",
   "execution_count": null,
   "metadata": {},
   "outputs": [],
   "source": [
    "num = int(input())\n",
    "for i in range(num):\n",
    "    i = input()\n",
    "    if len(i) > 0 and 1055 >= ord(i[-1]) >= 1040 and i[: -1] in '0123456789':\n",
    "        print('YES')\n",
    "    else:\n",
    "        print('NO')"
   ]
  },
  {
   "cell_type": "code",
   "execution_count": null,
   "metadata": {},
   "outputs": [],
   "source": [
    "a = input()\n",
    "b = input()\n",
    "def normal(my_list):\n",
    "    new_list = [i.lower() for i in my_list if i.isalpha()]\n",
    "    return new_list\n",
    "print(('NO', 'YES')[normal(a) == normal(b)])"
   ]
  },
  {
   "cell_type": "code",
   "execution_count": null,
   "metadata": {},
   "outputs": [],
   "source": [
    "print(*sorted([input() for _ in range(3)]))"
   ]
  },
  {
   "cell_type": "markdown",
   "metadata": {},
   "source": [
    "5\n",
    "Гоголь Н.В., «Мертвые души»\n",
    "Гончаров И.А., «Обломов»\n",
    "Пушкин А.С., «Капитанская дочка»\n",
    "Тургенев И.С., «Ася»\n",
    "Тургенев И.С., «Первая любовь»"
   ]
  },
  {
   "cell_type": "code",
   "execution_count": null,
   "metadata": {},
   "outputs": [],
   "source": [
    "ml = [input().split(' ', 2)[::2] for _ in range(int(input()))]\n",
    "print('YES' if ml == sorted(ml) else \"NO\")"
   ]
  },
  {
   "cell_type": "markdown",
   "metadata": {},
   "source": [
    "To be, or not to be, that is the question!"
   ]
  },
  {
   "cell_type": "code",
   "execution_count": null,
   "metadata": {},
   "outputs": [],
   "source": [
    "text = input()\n",
    "new_text = ''\n",
    "for i in text:\n",
    "    if ord(i) + 17 <= 122 and 122 >= ord(i) >= 65:\n",
    "        i = chr(ord(i) + 17)\n",
    "    elif 122 >= ord(i) >= 65 and ord(i) + 17 > 122:\n",
    "        i = chr(abs(122 - (ord(i) + 17)) + 65)\n",
    "    else:\n",
    "        i = i\n",
    "    new_text += i\n",
    "print(new_text)"
   ]
  },
  {
   "cell_type": "code",
   "execution_count": null,
   "metadata": {},
   "outputs": [],
   "source": [
    "ord('T')"
   ]
  },
  {
   "cell_type": "code",
   "execution_count": null,
   "metadata": {},
   "outputs": [],
   "source": [
    "# isx='Шсъцхр щмчжмщ йшм, нмтзж йшм лхшщзщг.'\n",
    "# k=7\n",
    "# abc=('А Б В Г Д Е Ж З И Й К Л М Н О П Р С Т У Ф Х Ц Ч Ш Щ Ъ Ы Ь Э Ю Я').split()\n",
    "isx=input()\n",
    "k=22\n",
    "abc = ('A B C D E F G H I J K L M N O P Q R S T U V W X Y Z').split()\n",
    "\n",
    "str=''\n",
    "for i  in range(len(isx)):\n",
    "    if isx[i].upper() not in (abc):\n",
    "        str +=(isx[i])\n",
    "    if isx[i].upper() in (abc):\n",
    "        c = abc[(abc.index(isx[i].upper()) - k) % len(abc)]\n",
    "        if isx[i].isupper():\n",
    "            str +=c.upper()\n",
    "        else:\n",
    "            str += c.lower()\n",
    "print(str)"
   ]
  },
  {
   "cell_type": "markdown",
   "metadata": {},
   "source": [
    "Day, mice. \"Year\" is a mistake!"
   ]
  },
  {
   "cell_type": "code",
   "execution_count": 48,
   "metadata": {},
   "outputs": [
    {
     "name": "stdout",
     "output_type": "stream",
     "text": [
      "6\n"
     ]
    }
   ],
   "source": [
    "isx = input().split()\n",
    "abc = ('A B C D E F G H I J K L M N O P Q R S T U V W X Y Z').split()\n",
    "str=[]\n",
    "for word in isx:\n",
    "    k = len(word.strip('.?\",!-'))\n",
    "    \n",
    "    for i in range(len(word)):\n",
    "        if word[i].upper() not in (abc):\n",
    "            str +=(word[i])\n",
    "        if word[i].upper() in (abc):\n",
    "            c = abc[(abc.index(word[i].upper()) + k) % len(abc)]\n",
    "            if word[i].isupper():\n",
    "                str +=c.upper()\n",
    "            else:\n",
    "                str += c.lower()\n",
    "    str += ' '\n",
    "print(''.join(str).rstrip())"
   ]
  },
  {
   "cell_type": "markdown",
   "metadata": {},
   "source": [
    "Input file contains:\n",
    "108 letters \n",
    "20 words \n",
    "4 lines"
   ]
  },
  {
   "cell_type": "code",
   "execution_count": null,
   "metadata": {},
   "outputs": [],
   "source": [
    "print('Input file contains:')\n",
    "summa = 1\n",
    "with open('file.txt') as text:\n",
    "    for i in text.read().split():\n",
    "        if i.strip('.,!?\" ').isalpha():\n",
    "            summa += len(i.strip('.,!?\" '))\n",
    "    print(f'{summa} letters')\n",
    "    text.seek(0)\n",
    "    print(len(text.read().split()), 'words')\n",
    "    text.seek(0)\n",
    "    print(len(text.readlines()), 'lines')"
   ]
  },
  {
   "cell_type": "code",
   "execution_count": null,
   "metadata": {},
   "outputs": [],
   "source": [
    "with open('file.txt') as f:\n",
    "    txt = f.read()\n",
    "    print(txt)\n",
    "    print('Input file contains:')\n",
    "    txt.seek(0)\n",
    "    print(sum(map(str.isalpha, txt)), 'letters')\n",
    "    print(len(txt.split()), 'words')\n",
    "    print(txt.count('\\n') + 1, 'lines')"
   ]
  },
  {
   "cell_type": "code",
   "execution_count": null,
   "metadata": {},
   "outputs": [],
   "source": [
    "with open('file.txt') as text:\n",
    "    for i in text.readlines():\n",
    "        print(i)\n",
    "    text.seek(0)\n",
    "    for i in text.read().split():\n",
    "        if i.strip(' .,!?-\"').isalpha():\n",
    "            print(i.strip('.,!?-\"').strip())"
   ]
  },
  {
   "cell_type": "markdown",
   "metadata": {},
   "source": [
    "Input file contains:\n",
    "108 letters \n",
    "20 words \n",
    "4 lines"
   ]
  },
  {
   "cell_type": "code",
   "execution_count": null,
   "metadata": {},
   "outputs": [],
   "source": [
    "with open('file.txt') as f:\n",
    "    txt = f.read()\n",
    "    \n",
    "    print('Input file contains:')\n",
    "    print(f\"{sum(map(str.isalpha, txt))} letters\")      # Подсчет букв\n",
    "    print(f\"{len(txt.split())} words\")                  # Подсчет слов\n",
    "    print(f'{txt.count(\"\\n\") + (1 if txt else 0)} lines')  # Подсчет строк, проверка для пустого файла\n"
   ]
  },
  {
   "cell_type": "code",
   "execution_count": null,
   "metadata": {},
   "outputs": [],
   "source": [
    "with open('file.txt') as f:\n",
    "    txt = f.read()\n",
    "    \n",
    "    print('Input file contains:')\n",
    "    print(f\"{sum(map(str.isalpha, txt))} letters\")          # Подсчет букв\n",
    "    print(f\"{len(txt.split())} words\")                      # Подсчет слов\n",
    "    line_count = txt.count('\\n') + (1 if txt else 0)        # Подсчет строк, проверка для пустого файла\n",
    "    print(f\"{line_count} lines\")\n"
   ]
  },
  {
   "cell_type": "code",
   "execution_count": null,
   "metadata": {},
   "outputs": [],
   "source": [
    "import random\n",
    "with open('first_names.txt') as name, open('last_names.txt') as sername:\n",
    "    name = name.read().split()\n",
    "    sername = sername.read().split()\n",
    "    for i in range(3):\n",
    "        print(random.choice(name), random.choice(sername))\n",
    "        "
   ]
  },
  {
   "cell_type": "code",
   "execution_count": null,
   "metadata": {},
   "outputs": [],
   "source": [
    "with open('population.txt') as c:\n",
    "    country = list(map(lambda x: x.split('\\t'), c.readlines()))\n",
    "    for i in country:\n",
    "        if i[0][0] == 'G' and int(i[-1][:-1]) > 500_000:\n",
    "            print(i[0])"
   ]
  },
  {
   "cell_type": "code",
   "execution_count": null,
   "metadata": {},
   "outputs": [],
   "source": [
    "def read_file():\n",
    "    with open"
   ]
  },
  {
   "cell_type": "code",
   "execution_count": null,
   "metadata": {},
   "outputs": [],
   "source": [
    "def print_csv():\n",
    "    with open('data.csv') as text:\n",
    "        keys = text.readline().strip().split(',')\n",
    "        data = list(map(lambda x: x.strip(), text.read().split('\\n')))\n",
    "        lst = [dict(zip(keys, i.split(','))) for i in data]\n",
    "    return lst\n",
    "    "
   ]
  },
  {
   "cell_type": "code",
   "execution_count": 84,
   "metadata": {},
   "outputs": [],
   "source": [
    "def read_csv():\n",
    "    with open('data.csv') as text:\n",
    "        keys = text.readline().strip().split(',')\n",
    "        data = [line.strip().split(',') for line in text]\n",
    "        lst = [dict(zip(keys, i)) for i in data]\n",
    "    return lst\n"
   ]
  },
  {
   "cell_type": "code",
   "execution_count": 80,
   "metadata": {},
   "outputs": [],
   "source": [
    "def read_csv():\n",
    "    with open('data.csv') as file:\n",
    "        keys = file.readline().strip().split(',')\n",
    "        return [dict(zip(keys, line.strip().split(','))) for line in file]"
   ]
  },
  {
   "cell_type": "code",
   "execution_count": 85,
   "metadata": {},
   "outputs": [
    {
     "name": "stdout",
     "output_type": "stream",
     "text": [
      "[{'policyID': '119736', 'statecode': 'FL', 'county': 'CLAY COUNTY', 'eq_site_limit': '498960', 'hu_site_limit': '498960', 'fl_site_limit': '498960', 'fr_site_limit': '498960', 'tiv_2011': '498960', 'tiv_2012': '792148.9', 'eq_site_deductible': '0', 'hu_site_deductible': '9979.2', 'fl_site_deductible': '0', 'fr_site_deductible': '0', 'point_latitude': '30.102261', 'point_longitude': '-81.711777', 'line': 'Residential', 'construction': 'Masonry', 'point_granularity': '1'}, {'policyID': '448094', 'statecode': 'FL', 'county': 'CLAY COUNTY', 'eq_site_limit': '1322376.3', 'hu_site_limit': '1322376.3', 'fl_site_limit': '1322376.3', 'fr_site_limit': '1322376.3', 'tiv_2011': '1322376.3', 'tiv_2012': '1438163.57', 'eq_site_deductible': '0', 'hu_site_deductible': '0', 'fl_site_deductible': '0', 'fr_site_deductible': '0', 'point_latitude': '30.063936', 'point_longitude': '-81.707664', 'line': 'Residential', 'construction': 'Masonry', 'point_granularity': '3'}, {'policyID': '206893', 'statecode': 'FL', 'county': 'CLAY COUNTY', 'eq_site_limit': '190724.4', 'hu_site_limit': '190724.4', 'fl_site_limit': '190724.4', 'fr_site_limit': '190724.4', 'tiv_2011': '190724.4', 'tiv_2012': '192476.78', 'eq_site_deductible': '0', 'hu_site_deductible': '0', 'fl_site_deductible': '0', 'fr_site_deductible': '0', 'point_latitude': '30.089579', 'point_longitude': '-81.700455', 'line': 'Residential', 'construction': 'Wood', 'point_granularity': '1'}, {'policyID': '333743', 'statecode': 'FL', 'county': 'CLAY COUNTY', 'eq_site_limit': '0', 'hu_site_limit': '79520.76', 'fl_site_limit': '0', 'fr_site_limit': '0', 'tiv_2011': '79520.76', 'tiv_2012': '86854.48', 'eq_site_deductible': '0', 'hu_site_deductible': '0', 'fl_site_deductible': '0', 'fr_site_deductible': '0', 'point_latitude': '30.063236', 'point_longitude': '-81.707703', 'line': 'Residential', 'construction': 'Wood', 'point_granularity': '3'}, {'policyID': '172534', 'statecode': 'FL', 'county': 'CLAY COUNTY', 'eq_site_limit': '0', 'hu_site_limit': '254281.5', 'fl_site_limit': '0', 'fr_site_limit': '254281.5', 'tiv_2011': '254281.5', 'tiv_2012': '246144.49', 'eq_site_deductible': '0', 'hu_site_deductible': '0', 'fl_site_deductible': '0', 'fr_site_deductible': '0', 'point_latitude': '30.060614', 'point_longitude': '-81.702675', 'line': 'Residential', 'construction': 'Wood', 'point_granularity': '1'}, {'policyID': '785275', 'statecode': 'FL', 'county': 'CLAY COUNTY', 'eq_site_limit': '0', 'hu_site_limit': '515035.62', 'fl_site_limit': '0', 'fr_site_limit': '0', 'tiv_2011': '515035.62', 'tiv_2012': '884419.17', 'eq_site_deductible': '0', 'hu_site_deductible': '0', 'fl_site_deductible': '0', 'fr_site_deductible': '0', 'point_latitude': '30.063236', 'point_longitude': '-81.707703', 'line': 'Residential', 'construction': 'Masonry', 'point_granularity': '3'}, {'policyID': '995932', 'statecode': 'FL', 'county': 'CLAY COUNTY', 'eq_site_limit': '0', 'hu_site_limit': '19260000', 'fl_site_limit': '0', 'fr_site_limit': '0', 'tiv_2011': '19260000', 'tiv_2012': '20610000', 'eq_site_deductible': '0', 'hu_site_deductible': '0', 'fl_site_deductible': '0', 'fr_site_deductible': '0', 'point_latitude': '30.102226', 'point_longitude': '-81.713882', 'line': 'Commercial', 'construction': 'Reinforced Concrete', 'point_granularity': '1'}, {'policyID': '223488', 'statecode': 'FL', 'county': 'CLAY COUNTY', 'eq_site_limit': '328500', 'hu_site_limit': '328500', 'fl_site_limit': '328500', 'fr_site_limit': '328500', 'tiv_2011': '328500', 'tiv_2012': '348374.25', 'eq_site_deductible': '0', 'hu_site_deductible': '16425', 'fl_site_deductible': '0', 'fr_site_deductible': '0', 'point_latitude': '30.102217', 'point_longitude': '-81.707146', 'line': 'Residential', 'construction': 'Wood', 'point_granularity': '1'}, {'policyID': '433512', 'statecode': 'FL', 'county': 'CLAY COUNTY', 'eq_site_limit': '315000', 'hu_site_limit': '315000', 'fl_site_limit': '315000', 'fr_site_limit': '315000', 'tiv_2011': '315000', 'tiv_2012': '265821.57', 'eq_site_deductible': '0', 'hu_site_deductible': '15750', 'fl_site_deductible': '0', 'fr_site_deductible': '0', 'point_latitude': '30.118774', 'point_longitude': '-81.704613', 'line': 'Residential', 'construction': 'Wood', 'point_granularity': '1'}, {'policyID': '142071', 'statecode': 'FL', 'county': 'CLAY COUNTY', 'eq_site_limit': '705600', 'hu_site_limit': '705600', 'fl_site_limit': '705600', 'fr_site_limit': '705600', 'tiv_2011': '705600', 'tiv_2012': '1010842.56', 'eq_site_deductible': '14112', 'hu_site_deductible': '35280', 'fl_site_deductible': '0', 'fr_site_deductible': '0', 'point_latitude': '30.100628', 'point_longitude': '-81.703751', 'line': 'Residential', 'construction': 'Masonry', 'point_granularity': '1'}]\n"
     ]
    }
   ],
   "source": [
    "print(read_csv())"
   ]
  },
  {
   "cell_type": "code",
   "execution_count": 86,
   "metadata": {},
   "outputs": [
    {
     "name": "stdout",
     "output_type": "stream",
     "text": [
      "stepik*beegeek*iq-option+\n",
      "python\n"
     ]
    }
   ],
   "source": [
    "print('stepik', 'beegeek', 'iq-option', sep='*', end='+\\n')\n",
    "print('python')"
   ]
  },
  {
   "cell_type": "code",
   "execution_count": 87,
   "metadata": {},
   "outputs": [],
   "source": [
    "with open('random.txt', 'w', encoding='utf-8') as file:\n",
    "    for i in range(25):\n",
    "        print(random.randrange(111, 777), file=file)"
   ]
  },
  {
   "cell_type": "code",
   "execution_count": 95,
   "metadata": {},
   "outputs": [],
   "source": [
    "with open('input.txt', 'r', encoding='utf-8') as first, open('output.txt', 'w', encoding='utf-8') as second:\n",
    "    a = len(first.readlines())\n",
    "    first.seek(0)\n",
    "    for i in range(1, a + 1):\n",
    "        second.write(f'{i}) ' + first.readline())"
   ]
  },
  {
   "cell_type": "code",
   "execution_count": 5,
   "metadata": {},
   "outputs": [],
   "source": [
    "with open('class_scores.txt', 'r', encoding='utf-8') as class_1, open('new_scores.txt', 'w', encoding='utf-8') as new_s:\n",
    "    for line in class_1:\n",
    "        line = line.split()\n",
    "        if int(line[-1]) + 5 > 100:\n",
    "            new_s.write(f'{line[0]} {str(100)}' + '\\n')\n",
    "        else:\n",
    "            new_s.write(f'{line[0]} {str(int(line[-1]) + 5)}' + '\\n')\n",
    "        "
   ]
  },
  {
   "cell_type": "code",
   "execution_count": 38,
   "metadata": {},
   "outputs": [],
   "source": [
    "with open('goats.txt', 'r', encoding='utf-8') as g, open('answer.txt', 'w', encoding='utf-8') as a:\n",
    "    text = g.read().split('GOATS')\n",
    "    text_2 = [i.strip().split('\\n') for i in text]\n",
    "    values = text_2[1]\n",
    "    my_dict = {values.count(i) : i for i in values}\n",
    "    for i in my_dict:\n",
    "        if i / sum(my_dict) * 100 > 7:\n",
    "            print(my_dict[i], file = a)\n",
    "    \n",
    "    \n",
    "        \n",
    "    "
   ]
  },
  {
   "cell_type": "code",
   "execution_count": 40,
   "metadata": {},
   "outputs": [],
   "source": [
    "n = int(input())\n",
    "list_t = [input() for _ in range(n)]\n",
    "with open('output.txt', 'w', encoding='utf-8') as con:\n",
    "    for i in list_t:\n",
    "        text = open(i, 'r', encoding='utf-8')\n",
    "        for line in text:\n",
    "            con.write(line)\n",
    "        text.close()"
   ]
  },
  {
   "cell_type": "code",
   "execution_count": 41,
   "metadata": {},
   "outputs": [],
   "source": [
    "with open('logfile.txt', 'r', encoding='utf-8') as log, open('output.txt', 'w', encoding='utf-8') as out:\n",
    "    for line in log:\n",
    "        line = line.replace(':', '').split(', ')\n",
    "        if int(line[-1]) - int(line[-2]) >= 100:\n",
    "            print(line[0], file=out)\n",
    "        "
   ]
  },
  {
   "cell_type": "code",
   "execution_count": 44,
   "metadata": {},
   "outputs": [
    {
     "name": "stdout",
     "output_type": "stream",
     "text": [
      "8\n"
     ]
    }
   ],
   "source": [
    "ext = input()\n",
    "with open(ext, 'r', encoding='utf-8') as t:\n",
    "    print(len(t.readlines()))"
   ]
  },
  {
   "cell_type": "code",
   "execution_count": 47,
   "metadata": {},
   "outputs": [
    {
     "name": "stdout",
     "output_type": "stream",
     "text": [
      "$26127\n"
     ]
    }
   ],
   "source": [
    "with open('ledger.txt', 'r', encoding='utf-8') as pr:\n",
    "    a = sum(int(i[1:]) for i in pr)\n",
    "    print(f'${a}')"
   ]
  },
  {
   "cell_type": "code",
   "execution_count": null,
   "metadata": {},
   "outputs": [],
   "source": [
    "cnt = 0\n",
    "with open('grades.txt', 'r', encoding='utf-8') as gr:\n",
    "    b = [list(filter(lambda x: x >= 65, map(int, i.split()[1:]))) for i in gr]\n",
    "    for i in b:\n",
    "        if len(i) == 3:\n",
    "            cnt += 1\n",
    "print(cnt)  "
   ]
  },
  {
   "cell_type": "code",
   "execution_count": 77,
   "metadata": {},
   "outputs": [
    {
     "name": "stdout",
     "output_type": "stream",
     "text": [
      "responsibility\n",
      "administration\n",
      "recommendation\n",
      "transportation\n"
     ]
    }
   ],
   "source": [
    "with open('words.txt', 'r', encoding='utf-8') as words:\n",
    "    words = words.read().split()\n",
    "    max_len = max(list(map(lambda x: len(x.strip('')), words)))\n",
    "    word_max = list(filter(lambda x: len(x) == max_len, words))\n",
    "print(*word_max, sep='\\n')\n",
    "    "
   ]
  },
  {
   "cell_type": "code",
   "execution_count": null,
   "metadata": {},
   "outputs": [
    {
     "data": {
      "text/plain": [
       "['responsibility', 'administration', 'recommendation', 'transportation']"
      ]
     },
     "execution_count": 75,
     "metadata": {},
     "output_type": "execute_result"
    }
   ],
   "source": []
  },
  {
   "cell_type": "code",
   "execution_count": null,
   "metadata": {},
   "outputs": [
    {
     "name": "stdout",
     "output_type": "stream",
     "text": [
      "of february is the day of the\n",
      "defenders of the motherland\n",
      "or the army day then comes\n",
      "easter and radonitsa the\n",
      "first of may is the labour\n",
      "day the ninth of may is\n",
      "victory day the third of july\n",
      "is independence day then comes\n",
      "the seventh of november the day\n",
      "of the october revolution and so on\n"
     ]
    }
   ],
   "source": [
    "kak = input()\n",
    "with open(kak, 'r', encoding='utf-8') as fil:\n",
    "    a = len(fil.readlines())\n",
    "            "
   ]
  },
  {
   "cell_type": "code",
   "execution_count": null,
   "metadata": {},
   "outputs": [
    {
     "name": "stdout",
     "output_type": "stream",
     "text": [
      "abcd\n",
      "xcnvmnvkje\n",
      "32432423\n",
      "sdflsdjkn34r43\n",
      "345349854395#$%$#\n",
      "jksdfkjsdfkjsd\n",
      "lwerjlwerlkwe\n",
      "jwfhjkwehkjwefkjwebfjkwe\n"
     ]
    }
   ],
   "source": [
    "kak = input()\n",
    "with open(kak, 'r', encoding='utf-8') as fil:\n",
    "    a = fil.read().split('\\n')[-10:]\n",
    "    for i in a:\n",
    "        print(i.strip())"
   ]
  },
  {
   "cell_type": "markdown",
   "metadata": {},
   "source": [
    "Код использует компактный способ решения задачи с заменой запрещенных слов на звездочки:\n",
    "\n",
    "Открытие файла forbidden_words.txt с помощью конструкции with open('forbidden_words.txt') as f:.\n",
    "Создание словаря forbidden_words с помощью генератора словаря, где ключами являются слова из файла forbidden_words.txt, а значениями - звездочки той же длины. Генератор словаря строится на основе метода .split() строки, считанной из файла forbidden_words.txt.\n",
    "Открытие файла с помощью конструкции with open(input()) as f: и чтение его содержимого в переменную s.\n",
    "Преобразование строки s к нижнему регистру и сохранение результата в переменную s_lower.\n",
    "Проход циклом по ключам словаря forbidden_words. В каждой итерации заменяем все вхождения слова из ключа на соответствующее значение (звездочки той же длины) в строке s_lower с помощью метода .replace().\n",
    "Используем функцию map() с аргументами lambda c1, c2: '*' if c2 == '*' else c1, где c1 и c2 - символы на одной позиции в строках s и s_lower. Если символ c2 равен звездочке, возвращаем звездочку, иначе - символ c1.\n",
    "Результат функции map() преобразуем в список и распаковываем его в функцию print() с аргументом sep='', чтобы вывести замененную строку без пробелов между символами"
   ]
  },
  {
   "cell_type": "code",
   "execution_count": null,
   "metadata": {},
   "outputs": [],
   "source": [
    "data = input()\n",
    "with open('forbidden_words.txt', 'r', encoding='utf-8') as zap, open(data, 'r', encoding='utf-8') as text:\n",
    "    zap = zap.read().split()\n",
    "    s = text.read()\n",
    "    s_lower = s.lower()\n",
    "    \n",
    "    mdict = {i : '*'*len(i) for i in zap}\n",
    "    for i in mdict.keys():\n",
    "        s_lower = s_lower.replace(i, mdict[i])\n",
    "    new_s = list(map(lambda c1, c2: '*' if c2 == '*' else c1, s, s_lower))\n",
    "    print(*new_s, sep='')"
   ]
  },
  {
   "cell_type": "code",
   "execution_count": 144,
   "metadata": {},
   "outputs": [],
   "source": [
    "d = {\n",
    "    'а': 'a', 'к': 'k', 'х': 'h', 'б': 'b', 'л': 'l', 'ц': 'c', 'в': 'v', 'м': 'm', 'ч': 'ch',\n",
    "    'г': 'g', 'н': 'n', 'ш': 'sh', 'д': 'd', 'о': 'o', 'щ': 'shh', 'е': 'e', 'п': 'p', 'ъ': '*',\n",
    "    'ё': 'jo', 'р': 'r', 'ы': 'y', 'ж': 'zh', 'с': 's', 'ь': \"'\", 'з': 'z', 'т': 't', 'э': 'je',\n",
    "    'и': 'i', 'у': 'u', 'ю': 'ju', 'й': 'j', 'ф': 'f', 'я': 'ya', 'А': 'A', 'К': 'K', 'Х': 'H', 'Б': 'B', 'Л': 'L',\n",
    "    'Ц': 'C', 'В': 'V', 'М': 'M', 'Ч': 'Ch',\n",
    "    'Г': 'G', 'Н': 'N', 'Ш': 'Sh', 'Д': 'D', 'О': 'O', 'Щ': 'Shh', 'Е': 'E', 'П': 'P', 'Ъ': '*',\n",
    "    'Ё': 'Jo', 'Р': 'R', 'Ы': 'Y', 'Ж': 'Zh', 'С': 'S', 'Ь': \"'\", 'З': 'Z', 'Т': 'T', 'Э': 'Je',\n",
    "    'И': 'I', 'У': 'U', 'Ю': 'Ju', 'Й': 'J', 'Ф': 'F', 'Я': 'Ya'\n",
    "}\n",
    "\n",
    "with open('cyrillic.txt', 'r', encoding='utf-8')as k, open('transliteration.txt', 'w', encoding='utf-8') as t:\n",
    "    k = k.read()\n",
    "    for i in k:\n",
    "        t.write(d[i] if i in d else i)\n",
    "\n"
   ]
  },
  {
   "cell_type": "code",
   "execution_count": 150,
   "metadata": {},
   "outputs": [
    {
     "name": "stdout",
     "output_type": "stream",
     "text": [
      "Best Programming Team\n"
     ]
    }
   ],
   "source": [
    "data = input()\n",
    "b=[]\n",
    "with open(data, 'r', encoding='utf-8') as test:\n",
    "    test = test.readlines()\n",
    "    for i in range(len(test)):\n",
    "        if test[i].startswith('def ') and not test[i - 1].startswith('#'):\n",
    "            a =test[i].split('(')\n",
    "            b.append(a[0][4:])\n",
    "if len(b) == 0:\n",
    "    print('Best Programming Team')\n",
    "else:\n",
    "    print(*b, sep='\\n')\n",
    "        "
   ]
  },
  {
   "cell_type": "code",
   "execution_count": 3,
   "metadata": {},
   "outputs": [
    {
     "data": {
      "text/plain": [
       "-1"
      ]
     },
     "execution_count": 3,
     "metadata": {},
     "output_type": "execute_result"
    }
   ],
   "source": [
    "int(-1.6)"
   ]
  },
  {
   "cell_type": "code",
   "execution_count": 4,
   "metadata": {},
   "outputs": [
    {
     "data": {
      "text/plain": [
       "89"
      ]
     },
     "execution_count": 4,
     "metadata": {},
     "output_type": "execute_result"
    }
   ],
   "source": [
    "9**19 - int(float(9**19))"
   ]
  },
  {
   "cell_type": "code",
   "execution_count": 5,
   "metadata": {},
   "outputs": [
    {
     "data": {
      "text/plain": [
       "True"
      ]
     },
     "execution_count": 5,
     "metadata": {},
     "output_type": "execute_result"
    }
   ],
   "source": [
    "x = 5\n",
    "y = 10\n",
    "y > x * x or y >= 2 * x and x < y\n"
   ]
  },
  {
   "cell_type": "code",
   "execution_count": 1,
   "metadata": {},
   "outputs": [],
   "source": [
    "def quicksort(array):\n",
    "    if len(array) < 2:\n",
    "        return array\n",
    "    else:\n",
    "        pivot = array[0]\n",
    "        less = [i for i in array[1:] if i > pivot]\n",
    "        greater = [i for i in array[1:] if i < pivot]\n",
    "        return less + [pivot] + greater"
   ]
  },
  {
   "cell_type": "code",
   "execution_count": 5,
   "metadata": {},
   "outputs": [
    {
     "name": "stdout",
     "output_type": "stream",
     "text": [
      "[10, 5, 2, 3]\n"
     ]
    }
   ],
   "source": [
    "print(quicksort([10, 5, 2, 3]))"
   ]
  },
  {
   "cell_type": "code",
   "execution_count": null,
   "metadata": {},
   "outputs": [],
   "source": [
    "import pandas as pd"
   ]
  },
  {
   "cell_type": "code",
   "execution_count": null,
   "metadata": {},
   "outputs": [],
   "source": [
    "ob1 = pd.read_excel()"
   ]
  },
  {
   "cell_type": "code",
   "execution_count": null,
   "metadata": {},
   "outputs": [],
   "source": [
    "text = input()\n",
    "text_lst = ''\n",
    "cnt = 0\n",
    "\n",
    "while len(text) > 0:\n",
    "    for i in text:\n",
    "        cnt = 0\n",
    "        for j in text:\n",
    "            if i == j:\n",
    "                cnt += 1\n",
    "            else:\n",
    "                text = text[cnt:]\n",
    "                break\n",
    "        text_lst += i + str(cnt)\n",
    "            \n",
    "            \n",
    "        "
   ]
  },
  {
   "cell_type": "code",
   "execution_count": null,
   "metadata": {},
   "outputs": [
    {
     "data": {
      "text/plain": [
       "'a3a-1a-1a-1b1b-1c0a1a1'"
      ]
     },
     "execution_count": 24,
     "metadata": {},
     "output_type": "execute_result"
    }
   ],
   "source": [
    "text = input()\n",
    "text_lst = ''\n",
    "\n",
    "while len(text) > 0:\n",
    "    for i in text:\n",
    "        cnt = 0\n",
    "        for j in text:\n",
    "            if i == j:\n",
    "                cnt += 1\n",
    "            else:  \n",
    "                break\n",
    "        text_lst += i + str(cnt)\n",
    "        text = text[cnt:]\n",
    "        break"
   ]
  },
  {
   "cell_type": "code",
   "execution_count": 26,
   "metadata": {},
   "outputs": [
    {
     "name": "stdout",
     "output_type": "stream",
     "text": [
      "a3b2c1a3\n"
     ]
    }
   ],
   "source": [
    "s=input()\n",
    "temp=1\n",
    "st=\"\"\n",
    "for i in range(len(s)-1):\n",
    "    if s[i]==s[i+1]:\n",
    "        temp+=1\n",
    "        \n",
    "    else:\n",
    "        print(s[i]+str(temp),end=\"\")\n",
    "        temp=1\n",
    "print(s[-1]+str(temp))"
   ]
  },
  {
   "cell_type": "code",
   "execution_count": 27,
   "metadata": {},
   "outputs": [],
   "source": [
    "students = ['Ivan', 'Masha', 'Sasha']\n",
    "students += ['Olga']\n",
    "students += 'Olga'"
   ]
  },
  {
   "cell_type": "code",
   "execution_count": 28,
   "metadata": {},
   "outputs": [
    {
     "data": {
      "text/plain": [
       "['Ivan', 'Masha', 'Sasha', 'Olga', 'O', 'l', 'g', 'a']"
      ]
     },
     "execution_count": 28,
     "metadata": {},
     "output_type": "execute_result"
    }
   ],
   "source": [
    "students"
   ]
  },
  {
   "cell_type": "code",
   "execution_count": 40,
   "metadata": {},
   "outputs": [
    {
     "name": "stdout",
     "output_type": "stream",
     "text": [
      "10 4\n"
     ]
    }
   ],
   "source": [
    "numbers = list(map(int, input().split()))\n",
    "numbers_sum = []\n",
    "if len(numbers) > 1:\n",
    "    for i in range(len(numbers) - 1):\n",
    "        numbers_sum.append(numbers[i - 1] + numbers[i + 1])\n",
    "    numbers_sum.append(numbers[-2] + numbers[0])\n",
    "    print(*numbers_sum)\n",
    "\n",
    "else:\n",
    "    print(*numbers)"
   ]
  },
  {
   "cell_type": "code",
   "execution_count": 47,
   "metadata": {},
   "outputs": [],
   "source": [
    "numbers = list(map(int, input().split()))\n",
    "num_dict = {}\n",
    "for i in numbers:\n",
    "    num_dict[i] = num_dict.get(i, 0) + 1\n",
    "for key, value in num_dict.items():\n",
    "    if value > 3:\n",
    "        print(key, end=' ')\n",
    "    \n"
   ]
  },
  {
   "cell_type": "code",
   "execution_count": 5,
   "metadata": {},
   "outputs": [
    {
     "name": "stdout",
     "output_type": "stream",
     "text": [
      "340\n"
     ]
    }
   ],
   "source": [
    "num = int(input())\n",
    "nums = []\n",
    "s = 0\n",
    "while s + num != 0:\n",
    "    nums.append(num)\n",
    "    s += num\n",
    "    num = int(input())\n",
    "nums.append(num)\n",
    "sun_nums_2 = sum(map(lambda x: x ** 2, nums))    \n",
    "print(sun_nums_2)"
   ]
  },
  {
   "cell_type": "code",
   "execution_count": 7,
   "metadata": {},
   "outputs": [
    {
     "name": "stdout",
     "output_type": "stream",
     "text": [
      "340\n"
     ]
    }
   ],
   "source": [
    "s = 0\n",
    "sun_nums_2 = 0\n",
    "\n",
    "while True:\n",
    "    num = int(input())\n",
    "    sun_nums_2 += num ** 2\n",
    "    if s + num == 0:\n",
    "        break\n",
    "    s += num\n",
    "    \n",
    "\n",
    "print(sun_nums_2)"
   ]
  },
  {
   "cell_type": "markdown",
   "metadata": {},
   "source": [
    "1, -3, 5, -6, -10, 13"
   ]
  },
  {
   "cell_type": "code",
   "execution_count": 11,
   "metadata": {},
   "outputs": [
    {
     "name": "stdout",
     "output_type": "stream",
     "text": [
      "340\n"
     ]
    }
   ],
   "source": [
    "s = 0\n",
    "s_2 = 0\n",
    "while True:\n",
    "    num = int(input())\n",
    "    s_2 += num ** 2\n",
    "    s += num\n",
    "    if s == 0:\n",
    "        break\n",
    "    \n",
    "print(s_2)"
   ]
  },
  {
   "cell_type": "code",
   "execution_count": 40,
   "metadata": {},
   "outputs": [
    {
     "name": "stdout",
     "output_type": "stream",
     "text": [
      "1 2 2 3 3 3 4\n"
     ]
    }
   ],
   "source": [
    "num = int(input())\n",
    "nums = []\n",
    "for i in range(num):\n",
    "    if len(nums) < num:\n",
    "        for _ in range(i + 1):\n",
    "            nums.append(i + 1)\n",
    "    else:\n",
    "        break\n",
    "print(*nums[:num])\n",
    "        \n"
   ]
  },
  {
   "cell_type": "code",
   "execution_count": 3,
   "metadata": {},
   "outputs": [
    {
     "name": "stdout",
     "output_type": "stream",
     "text": [
      "1 2 2 3 3 3 4 4 4 4 5 5 5 5 5 6 6 6 6 6 6 7 7 7 7 7 7 7 8 8 8 8 8 8 8 8 9 9 9 9 9 9 9 9 9 10 10\n"
     ]
    }
   ],
   "source": [
    "num = int(input())\n",
    "nums = []\n",
    "for i in range(num):\n",
    "        nums.extend([i + 1] * (i + 1))\n",
    "print(*nums[:num])"
   ]
  },
  {
   "cell_type": "code",
   "execution_count": 42,
   "metadata": {},
   "outputs": [
    {
     "name": "stdout",
     "output_type": "stream",
     "text": [
      "1 2 2 3 3 3 4 4 4 4 5 5 5 5 5 6 6 6 6 6 6 7 7 7 7 7 7 7 8 8 8 8 8 8 8 8 9 9 9 9 9 9 9 9 9 10 10\n"
     ]
    }
   ],
   "source": [
    "num = int(input())\n",
    "nums = []\n",
    "for i in range(num):\n",
    "    nums.extend([i + 1] * (i+1))\n",
    "print(*nums[:num])\n"
   ]
  },
  {
   "cell_type": "code",
   "execution_count": 8,
   "metadata": {},
   "outputs": [
    {
     "name": "stdout",
     "output_type": "stream",
     "text": [
      "1 3 5 "
     ]
    }
   ],
   "source": [
    "nums = [int(i) for i in input().split()]\n",
    "num = int(input())\n",
    "flag = True\n",
    "for i, j in enumerate(nums):\n",
    "    if j == num:\n",
    "        flag = False\n",
    "        print(i, end=' ')\n",
    "if flag:\n",
    "    print('Отсутствует')\n",
    "        \n"
   ]
  },
  {
   "cell_type": "code",
   "execution_count": 27,
   "metadata": {},
   "outputs": [
    {
     "name": "stdout",
     "output_type": "stream",
     "text": [
      "4\n"
     ]
    }
   ],
   "source": [
    "matrix = []\n",
    "\n",
    "rows = input()\n",
    "while rows != 'end':\n",
    "    matrix.append([int(i) for i in rows.split()])\n",
    "    rows = input()\n",
    "    \n",
    "matrix_new = [[0 for _ in range(len(matrix[0]))] for _ in range (len(matrix))]\n",
    "    \n",
    "for i in range(len(matrix)):\n",
    "    for j in range(len(matrix[i])):\n",
    "        matrix_new[i][j] = matrix[i - 1][j] + matrix[(i+1)%len(matrix)][j] + matrix[i][j-1] + matrix[i][(j + 1) % len(matrix[i])]\n",
    "        \n",
    "for row in matrix_new:\n",
    "    print(*row)"
   ]
  },
  {
   "cell_type": "code",
   "execution_count": 6,
   "metadata": {},
   "outputs": [
    {
     "name": "stdout",
     "output_type": "stream",
     "text": [
      "1\t2\t3\t4\t5\t6\t7\t8\t9\t10\n",
      "36\t37\t38\t39\t40\t41\t42\t43\t44\t11\n",
      "35\t64\t65\t66\t67\t68\t69\t70\t45\t12\n",
      "34\t63\t84\t85\t86\t87\t88\t71\t46\t13\n",
      "33\t62\t83\t96\t97\t98\t89\t72\t47\t14\n",
      "32\t61\t82\t95\t100\t99\t90\t73\t48\t15\n",
      "31\t60\t81\t94\t93\t92\t91\t74\t49\t16\n",
      "30\t59\t80\t79\t78\t77\t76\t75\t50\t17\n",
      "29\t58\t57\t56\t55\t54\t53\t52\t51\t18\n",
      "28\t27\t26\t25\t24\t23\t22\t21\t20\t19\n"
     ]
    }
   ],
   "source": [
    "num = int(input())\n",
    "matrix = [[0 for _ in range(num)]for _ in range(num)]\n",
    "top = 0\n",
    "left = 0\n",
    "right = num - 1\n",
    "bottom = num - 1\n",
    "n = 1\n",
    "\n",
    "for g in range(num * 2 - 1):\n",
    "    for i in range(left, right + 1):\n",
    "        matrix[top][i] = n\n",
    "        n += 1\n",
    "    top += 1\n",
    "    \n",
    "    for i in range(top, bottom + 1):\n",
    "        matrix[i][right] = n\n",
    "        n += 1\n",
    "    right -= 1\n",
    "    \n",
    "    for i in range(right, left - 1, - 1):\n",
    "        matrix[bottom][i] = n\n",
    "        n += 1\n",
    "    bottom -= 1\n",
    "    \n",
    "    for i in range(bottom, top - 1, - 1):\n",
    "        matrix[i][left] = n\n",
    "        n += 1\n",
    "    left += 1\n",
    "    \n",
    "for row in matrix:\n",
    "    print(*row, sep = '\\t')\n",
    "        \n",
    "        \n",
    "        "
   ]
  },
  {
   "cell_type": "code",
   "execution_count": null,
   "metadata": {},
   "outputs": [],
   "source": [
    "def xxx(x):\n",
    "    if x <= - 2:\n",
    "        return 1 - (x + 2) ** 2\n",
    "    elif x > 2:\n",
    "        return (x - 2) ** 2 + 1\n",
    "    return - x / 2"
   ]
  },
  {
   "cell_type": "code",
   "execution_count": null,
   "metadata": {},
   "outputs": [],
   "source": [
    "def modify_list(l):\n",
    "    l[:] = list(map (lambda x: x // 2, (filter(lambda x: x % 2 == 0, l))))"
   ]
  },
  {
   "cell_type": "code",
   "execution_count": null,
   "metadata": {},
   "outputs": [],
   "source": [
    "def modify_list(l):\n",
    "    l[:] = [i // 2 for i in l if not i % 2]"
   ]
  },
  {
   "cell_type": "code",
   "execution_count": null,
   "metadata": {},
   "outputs": [],
   "source": [
    "def update_dictionary(d, key, value):\n",
    "    if key in d:\n",
    "        d[key].append(value)\n",
    "    else:\n",
    "        if key * 2 in d:\n",
    "            d[key * 2].append(value)\n",
    "        else:\n",
    "            d[2 * key] = [value]"
   ]
  },
  {
   "cell_type": "code",
   "execution_count": null,
   "metadata": {},
   "outputs": [],
   "source": [
    "def update_dictionary(d, key, value):\n",
    "    if key in d:\n",
    "        d[key].append(value)  # Добавляем значение в список по ключу key\n",
    "    else:\n",
    "        if 2 * key in d:\n",
    "            d[2 * key].append(value)  # Добавляем значение в список по ключу 2 * key\n",
    "        else:\n",
    "            d[2 * key] = [value]  # Создаем новый список с элементом value\n"
   ]
  },
  {
   "cell_type": "code",
   "execution_count": null,
   "metadata": {},
   "outputs": [],
   "source": [
    "my_set = set(input() for _ in range(int(input())))"
   ]
  },
  {
   "cell_type": "code",
   "execution_count": 27,
   "metadata": {},
   "outputs": [
    {
     "name": "stdout",
     "output_type": "stream",
     "text": [
      "62.83185307179586\n"
     ]
    }
   ],
   "source": [
    "from math import pi\n",
    "r = int(input())\n",
    "print(pi * r * 2)"
   ]
  },
  {
   "cell_type": "code",
   "execution_count": null,
   "metadata": {},
   "outputs": [],
   "source": [
    "from functools import reduce\n",
    "fac = 0\n",
    "fac_dict = {}\n",
    "def check_num(num):\n",
    "    if num in fac_dict:\n",
    "        print(f'Get from cache value factorial({num})')\n",
    "        return fac_dict[num]\n",
    "    else:\n",
    "        fac_list = [i for i in range(1, num + 1)]\n",
    "        global fac, fac_dict\n",
    "        fac = reduce(lambda x, y: x * y, fac_list, 1)\n",
    "        fac_dict[num] = fac\n",
    "        return fac\n",
    "    \n",
    "    "
   ]
  },
  {
   "cell_type": "code",
   "execution_count": 42,
   "metadata": {},
   "outputs": [
    {
     "name": "stdout",
     "output_type": "stream",
     "text": [
      "{'__name__': '__main__', '__doc__': 'Automatically created module for IPython interactive environment', '__package__': None, '__loader__': None, '__spec__': None, '__builtin__': <module 'builtins' (built-in)>, '__builtins__': <module 'builtins' (built-in)>, '_ih': ['', 'num = int(input())\\nmatrix = [[0 for _ in range(num)]for _ in range(num)]\\ntop = 0\\nleft = 0\\nright = num - 1\\nbottom = num - 1\\nn = 1\\n\\nfor g in range(num * 2 - 1):\\n    for i in range(left, right + 1):\\n        matrix[top][i] = n\\n        n += 1\\n    top += 1\\n    \\n    for i in range(top, bottom + 1):\\n        matrix[right][i] = n\\n        n += 1\\n    right -= 1\\n    \\n    for i in range(right, left - 1, - 1):\\n        matrix[bottom][i] = n\\n        n += 1\\n    bottom -= 1\\n    \\n    for i in range(bottom, top - 1, - 1):\\n        matrix[left][i] = n\\n        n += 1\\n    left += 1\\n    \\n    print(matrix)\\n        \\n        \\n        ', 'num = int(input())\\nmatrix = [[0 for _ in range(num)]for _ in range(num)]\\ntop = 0\\nleft = 0\\nright = num - 1\\nbottom = num - 1\\nn = 1\\n\\nfor g in range(num * 2 - 1):\\n    for i in range(left, right + 1):\\n        matrix[top][i] = n\\n        n += 1\\n    top += 1\\n    \\n    for i in range(top, bottom + 1):\\n        matrix[right][i] = n\\n        n += 1\\n    right -= 1\\n    \\n    for i in range(right, left - 1, - 1):\\n        matrix[bottom][i] = n\\n        n += 1\\n    bottom -= 1\\n    \\n    for i in range(bottom, top - 1, - 1):\\n        matrix[left][i] = n\\n        n += 1\\n    left += 1\\n    \\nprint(matrix)\\n        \\n        \\n        ', \"num = int(input())\\nmatrix = [[0 for _ in range(num)]for _ in range(num)]\\ntop = 0\\nleft = 0\\nright = num - 1\\nbottom = num - 1\\nn = 1\\n\\nfor g in range(num * 2 - 1):\\n    for i in range(left, right + 1):\\n        matrix[top][i] = n\\n        n += 1\\n    top += 1\\n    \\n    for i in range(top, bottom + 1):\\n        matrix[right][i] = n\\n        n += 1\\n    right -= 1\\n    \\n    for i in range(right, left - 1, - 1):\\n        matrix[bottom][i] = n\\n        n += 1\\n    bottom -= 1\\n    \\n    for i in range(bottom, top - 1, - 1):\\n        matrix[left][i] = n\\n        n += 1\\n    left += 1\\n    \\nfor row in matrix:\\n    print(*row, sep = '\\\\t')\\n        \\n        \\n        \", \"num = int(input())\\nmatrix = [[0 for _ in range(num)]for _ in range(num)]\\ntop = 0\\nleft = 0\\nright = num - 1\\nbottom = num - 1\\nn = 1\\n\\nfor g in range(num * 2 - 1):\\n    for i in range(left, right + 1):\\n        matrix[top][i] = n\\n        n += 1\\n    top += 1\\n    \\n    for i in range(top, bottom + 1):\\n        matrix[i][right] = n\\n        n += 1\\n    right -= 1\\n    \\n    for i in range(right, left - 1, - 1):\\n        matrix[bottom][i] = n\\n        n += 1\\n    bottom -= 1\\n    \\n    for i in range(bottom, top - 1, - 1):\\n        matrix[i][left] = n\\n        n += 1\\n    left += 1\\n    \\nfor row in matrix:\\n    print(*row, sep = '\\\\t')\\n        \\n        \\n        \", 'def spiral_fill(rows, cols):\\n    # Создаем пустую матрицу rows x cols\\n    matrix = [[0] * cols for _ in range(rows)]\\n    \\n    left, right = 0, cols - 1\\n    top, bottom = 0, rows - 1\\n    num = 1  # Начальное значение для заполнения\\n\\n    while left <= right and top <= bottom:\\n        # Заполняем верхнюю строку\\n        for i in range(left, right + 1):\\n            matrix[top][i] = num\\n            num += 1\\n        top += 1\\n\\n        # Заполняем правый столбец\\n        for i in range(top, bottom + 1):\\n            matrix[i][right] = num\\n            num += 1\\n        right -= 1\\n\\n        # Заполняем нижнюю строку, если еще не заполнена\\n        if top <= bottom:\\n            for i in range(right, left - 1, -1):\\n                matrix[bottom][i] = num\\n                num += 1\\n            bottom -= 1\\n\\n        # Заполняем левый столбец, если еще не заполнен\\n        if left <= right:\\n            for i in range(bottom, top - 1, -1):\\n                matrix[i][left] = num\\n                num += 1\\n            left += 1\\n\\n    return matrix\\n\\n# Пример использования\\nrows = 3  # Количество строк\\ncols = 5  # Количество столбцов\\nspiral_matrix = spiral_fill(rows, cols)\\nfor row in spiral_matrix:\\n    print(row)', \"num = int(input())\\nmatrix = [[0 for _ in range(num)]for _ in range(num)]\\ntop = 0\\nleft = 0\\nright = num - 1\\nbottom = num - 1\\nn = 1\\n\\nfor g in range(num * 2 - 1):\\n    for i in range(left, right + 1):\\n        matrix[top][i] = n\\n        n += 1\\n    top += 1\\n    \\n    for i in range(top, bottom + 1):\\n        matrix[i][right] = n\\n        n += 1\\n    right -= 1\\n    \\n    for i in range(right, left - 1, - 1):\\n        matrix[bottom][i] = n\\n        n += 1\\n    bottom -= 1\\n    \\n    for i in range(bottom, top - 1, - 1):\\n        matrix[i][left] = n\\n        n += 1\\n    left += 1\\n    \\nfor row in matrix:\\n    print(*row, sep = '\\\\t')\\n        \\n        \\n        \", 'def modify_list(l):\\n    return list(map lambda x: x // 2, (filter(lambda x: x % 2 == 0, l)))', 'def modify_list(l):\\n    return list(map (lambda x: x // 2, (filter(lambda x: x % 2 == 0, l))))', 'def modify_list([1, 2, 3, 4, 5, 6])', 'modify_list([1, 2, 3, 4, 5, 6])', 'def modify_list(l):\\n    return map (lambda x: x // 2, (filter(lambda x: x % 2 == 0, l)))', 'modify_list([1, 2, 3, 4, 5, 6])', 'def modify_list(l):\\n    return list(map (lambda x: x // 2, (filter(lambda x: x % 2 == 0, l))))', 'modify_list([1, 2, 3, 4, 5, 6])', 'def modify_list(l):\\n    list(map (lambda x: x // 2, (filter(lambda x: x % 2 == 0, l))))', 'modify_list([1, 2, 3, 4, 5, 6])', 'def modify_list(l):\\n    list(map (lambda x: x // 2, (filter(lambda x: x % 2 == 0, l))))', 'lst = [1, 2, 3, 4, 5, 6]', 'print(modify_list(lst))', 'print(lst) ', 'def modify_list(l):\\n    l = list(map (lambda x: x // 2, (filter(lambda x: x % 2 == 0, l))))', 'lst = [1, 2, 3, 4, 5, 6]', 'print(modify_list(lst))', 'print(lst) ', 'def update_dictionary(d, key, value):\\n    for kkey, vvalue in d.items():\\n        if kkey == key:\\n            d[key].append(value)\\n        elif kkey == 2 * key:\\n            d[kkey].append(value)\\n        else:\\n            d[2 * key] = value', 'from math import pi\\nr = int(input())\\nprint(pi * r**2)', 'from math import pi\\nr = int(input())\\nprint(pi * r * 2)', 'from functools import reduce\\nfac = 1\\nfac_dict = {}\\ndef factorial(num):\\n    fac_list = [i for i in range(num )]\\n    fac = reduce(lambda x: x * y, fac_list, 1)\\n    return fac\\n    \\n    ', 'print(factorial(5))', 'from functools import reduce\\nfac = 1\\nfac_dict = {}\\ndef factorial(num):\\n    fac_list = [i for i in range(num )]\\n    fac = reduce(lambda x, y: x * y, fac_list, 1)\\n    return fac\\n    \\n    ', 'print(factorial(5))', 'from functools import reduce\\nfac = 0\\nfac_dict = {}\\ndef factorial(num):\\n    fac_list = [i for i in range(num )]\\n    fac = reduce(lambda x, y: x * y, fac_list, 1)\\n    return fac\\n    \\n    ', 'print(factorial(5))', 'from functools import reduce\\nfac = 5\\nfac_dict = {}\\ndef factorial(num):\\n    fac_list = [i for i in range(num )]\\n    fac = reduce(lambda x, y: x * y, fac_list, 1)\\n    return fac\\n    \\n    ', 'print(factorial(5))', 'from functools import reduce\\nfac = 5\\nfac_dict = {}\\ndef factorial(num):\\n    fac_list = [i for i in range(num )]\\n    global fac = reduce(lambda x, y: x * y, fac_list, 1)\\n    return fac\\n    \\n    ', 'from functools import reduce\\nfac = 5\\nfac_dict = {}\\ndef factorial(num):\\n    fac_list = [i for i in range(1, num + 1)]\\n    global fac = reduce(lambda x, y: x * y, fac_list, 1)\\n    return fac\\n    \\n    ', 'from functools import reduce\\nfac = 5\\nfac_dict = {}\\ndef factorial(num):\\n    fac_list = [i for i in range(1, num + 1)]\\n    fac = reduce(lambda x, y: x * y, fac_list, 1)\\n    return fac\\n    \\n    ', 'print(factorial(5))', 'from functools import reduce\\nfac = 5\\nfac_dict = {}\\ndef factorial(num):\\n    fac_list = [i for i in range(1, num + 1)]\\n    global fac\\n    fac = reduce(lambda x, y: x * y, fac_list, 1)\\n    return fac\\n    \\n    ', 'print(factorial(5))\\nprint(fac)', 'x = 1\\n\\n\\ndef my_func():\\n    a = 1\\n    b = 2\\n    c = 3\\n    print(globals())\\n\\n\\nmy_func()\\n\\ny = 2'], '_oh': {10: [1, 2, 3], 12: <map object at 0x0000028330BE56C0>, 14: [1, 2, 3]}, '_dh': [WindowsPath('c:/Users/koreshilova_ea/Desktop/koreshok/games')], 'In': ['', 'num = int(input())\\nmatrix = [[0 for _ in range(num)]for _ in range(num)]\\ntop = 0\\nleft = 0\\nright = num - 1\\nbottom = num - 1\\nn = 1\\n\\nfor g in range(num * 2 - 1):\\n    for i in range(left, right + 1):\\n        matrix[top][i] = n\\n        n += 1\\n    top += 1\\n    \\n    for i in range(top, bottom + 1):\\n        matrix[right][i] = n\\n        n += 1\\n    right -= 1\\n    \\n    for i in range(right, left - 1, - 1):\\n        matrix[bottom][i] = n\\n        n += 1\\n    bottom -= 1\\n    \\n    for i in range(bottom, top - 1, - 1):\\n        matrix[left][i] = n\\n        n += 1\\n    left += 1\\n    \\n    print(matrix)\\n        \\n        \\n        ', 'num = int(input())\\nmatrix = [[0 for _ in range(num)]for _ in range(num)]\\ntop = 0\\nleft = 0\\nright = num - 1\\nbottom = num - 1\\nn = 1\\n\\nfor g in range(num * 2 - 1):\\n    for i in range(left, right + 1):\\n        matrix[top][i] = n\\n        n += 1\\n    top += 1\\n    \\n    for i in range(top, bottom + 1):\\n        matrix[right][i] = n\\n        n += 1\\n    right -= 1\\n    \\n    for i in range(right, left - 1, - 1):\\n        matrix[bottom][i] = n\\n        n += 1\\n    bottom -= 1\\n    \\n    for i in range(bottom, top - 1, - 1):\\n        matrix[left][i] = n\\n        n += 1\\n    left += 1\\n    \\nprint(matrix)\\n        \\n        \\n        ', \"num = int(input())\\nmatrix = [[0 for _ in range(num)]for _ in range(num)]\\ntop = 0\\nleft = 0\\nright = num - 1\\nbottom = num - 1\\nn = 1\\n\\nfor g in range(num * 2 - 1):\\n    for i in range(left, right + 1):\\n        matrix[top][i] = n\\n        n += 1\\n    top += 1\\n    \\n    for i in range(top, bottom + 1):\\n        matrix[right][i] = n\\n        n += 1\\n    right -= 1\\n    \\n    for i in range(right, left - 1, - 1):\\n        matrix[bottom][i] = n\\n        n += 1\\n    bottom -= 1\\n    \\n    for i in range(bottom, top - 1, - 1):\\n        matrix[left][i] = n\\n        n += 1\\n    left += 1\\n    \\nfor row in matrix:\\n    print(*row, sep = '\\\\t')\\n        \\n        \\n        \", \"num = int(input())\\nmatrix = [[0 for _ in range(num)]for _ in range(num)]\\ntop = 0\\nleft = 0\\nright = num - 1\\nbottom = num - 1\\nn = 1\\n\\nfor g in range(num * 2 - 1):\\n    for i in range(left, right + 1):\\n        matrix[top][i] = n\\n        n += 1\\n    top += 1\\n    \\n    for i in range(top, bottom + 1):\\n        matrix[i][right] = n\\n        n += 1\\n    right -= 1\\n    \\n    for i in range(right, left - 1, - 1):\\n        matrix[bottom][i] = n\\n        n += 1\\n    bottom -= 1\\n    \\n    for i in range(bottom, top - 1, - 1):\\n        matrix[i][left] = n\\n        n += 1\\n    left += 1\\n    \\nfor row in matrix:\\n    print(*row, sep = '\\\\t')\\n        \\n        \\n        \", 'def spiral_fill(rows, cols):\\n    # Создаем пустую матрицу rows x cols\\n    matrix = [[0] * cols for _ in range(rows)]\\n    \\n    left, right = 0, cols - 1\\n    top, bottom = 0, rows - 1\\n    num = 1  # Начальное значение для заполнения\\n\\n    while left <= right and top <= bottom:\\n        # Заполняем верхнюю строку\\n        for i in range(left, right + 1):\\n            matrix[top][i] = num\\n            num += 1\\n        top += 1\\n\\n        # Заполняем правый столбец\\n        for i in range(top, bottom + 1):\\n            matrix[i][right] = num\\n            num += 1\\n        right -= 1\\n\\n        # Заполняем нижнюю строку, если еще не заполнена\\n        if top <= bottom:\\n            for i in range(right, left - 1, -1):\\n                matrix[bottom][i] = num\\n                num += 1\\n            bottom -= 1\\n\\n        # Заполняем левый столбец, если еще не заполнен\\n        if left <= right:\\n            for i in range(bottom, top - 1, -1):\\n                matrix[i][left] = num\\n                num += 1\\n            left += 1\\n\\n    return matrix\\n\\n# Пример использования\\nrows = 3  # Количество строк\\ncols = 5  # Количество столбцов\\nspiral_matrix = spiral_fill(rows, cols)\\nfor row in spiral_matrix:\\n    print(row)', \"num = int(input())\\nmatrix = [[0 for _ in range(num)]for _ in range(num)]\\ntop = 0\\nleft = 0\\nright = num - 1\\nbottom = num - 1\\nn = 1\\n\\nfor g in range(num * 2 - 1):\\n    for i in range(left, right + 1):\\n        matrix[top][i] = n\\n        n += 1\\n    top += 1\\n    \\n    for i in range(top, bottom + 1):\\n        matrix[i][right] = n\\n        n += 1\\n    right -= 1\\n    \\n    for i in range(right, left - 1, - 1):\\n        matrix[bottom][i] = n\\n        n += 1\\n    bottom -= 1\\n    \\n    for i in range(bottom, top - 1, - 1):\\n        matrix[i][left] = n\\n        n += 1\\n    left += 1\\n    \\nfor row in matrix:\\n    print(*row, sep = '\\\\t')\\n        \\n        \\n        \", 'def modify_list(l):\\n    return list(map lambda x: x // 2, (filter(lambda x: x % 2 == 0, l)))', 'def modify_list(l):\\n    return list(map (lambda x: x // 2, (filter(lambda x: x % 2 == 0, l))))', 'def modify_list([1, 2, 3, 4, 5, 6])', 'modify_list([1, 2, 3, 4, 5, 6])', 'def modify_list(l):\\n    return map (lambda x: x // 2, (filter(lambda x: x % 2 == 0, l)))', 'modify_list([1, 2, 3, 4, 5, 6])', 'def modify_list(l):\\n    return list(map (lambda x: x // 2, (filter(lambda x: x % 2 == 0, l))))', 'modify_list([1, 2, 3, 4, 5, 6])', 'def modify_list(l):\\n    list(map (lambda x: x // 2, (filter(lambda x: x % 2 == 0, l))))', 'modify_list([1, 2, 3, 4, 5, 6])', 'def modify_list(l):\\n    list(map (lambda x: x // 2, (filter(lambda x: x % 2 == 0, l))))', 'lst = [1, 2, 3, 4, 5, 6]', 'print(modify_list(lst))', 'print(lst) ', 'def modify_list(l):\\n    l = list(map (lambda x: x // 2, (filter(lambda x: x % 2 == 0, l))))', 'lst = [1, 2, 3, 4, 5, 6]', 'print(modify_list(lst))', 'print(lst) ', 'def update_dictionary(d, key, value):\\n    for kkey, vvalue in d.items():\\n        if kkey == key:\\n            d[key].append(value)\\n        elif kkey == 2 * key:\\n            d[kkey].append(value)\\n        else:\\n            d[2 * key] = value', 'from math import pi\\nr = int(input())\\nprint(pi * r**2)', 'from math import pi\\nr = int(input())\\nprint(pi * r * 2)', 'from functools import reduce\\nfac = 1\\nfac_dict = {}\\ndef factorial(num):\\n    fac_list = [i for i in range(num )]\\n    fac = reduce(lambda x: x * y, fac_list, 1)\\n    return fac\\n    \\n    ', 'print(factorial(5))', 'from functools import reduce\\nfac = 1\\nfac_dict = {}\\ndef factorial(num):\\n    fac_list = [i for i in range(num )]\\n    fac = reduce(lambda x, y: x * y, fac_list, 1)\\n    return fac\\n    \\n    ', 'print(factorial(5))', 'from functools import reduce\\nfac = 0\\nfac_dict = {}\\ndef factorial(num):\\n    fac_list = [i for i in range(num )]\\n    fac = reduce(lambda x, y: x * y, fac_list, 1)\\n    return fac\\n    \\n    ', 'print(factorial(5))', 'from functools import reduce\\nfac = 5\\nfac_dict = {}\\ndef factorial(num):\\n    fac_list = [i for i in range(num )]\\n    fac = reduce(lambda x, y: x * y, fac_list, 1)\\n    return fac\\n    \\n    ', 'print(factorial(5))', 'from functools import reduce\\nfac = 5\\nfac_dict = {}\\ndef factorial(num):\\n    fac_list = [i for i in range(num )]\\n    global fac = reduce(lambda x, y: x * y, fac_list, 1)\\n    return fac\\n    \\n    ', 'from functools import reduce\\nfac = 5\\nfac_dict = {}\\ndef factorial(num):\\n    fac_list = [i for i in range(1, num + 1)]\\n    global fac = reduce(lambda x, y: x * y, fac_list, 1)\\n    return fac\\n    \\n    ', 'from functools import reduce\\nfac = 5\\nfac_dict = {}\\ndef factorial(num):\\n    fac_list = [i for i in range(1, num + 1)]\\n    fac = reduce(lambda x, y: x * y, fac_list, 1)\\n    return fac\\n    \\n    ', 'print(factorial(5))', 'from functools import reduce\\nfac = 5\\nfac_dict = {}\\ndef factorial(num):\\n    fac_list = [i for i in range(1, num + 1)]\\n    global fac\\n    fac = reduce(lambda x, y: x * y, fac_list, 1)\\n    return fac\\n    \\n    ', 'print(factorial(5))\\nprint(fac)', 'x = 1\\n\\n\\ndef my_func():\\n    a = 1\\n    b = 2\\n    c = 3\\n    print(globals())\\n\\n\\nmy_func()\\n\\ny = 2'], 'Out': {10: [1, 2, 3], 12: <map object at 0x0000028330BE56C0>, 14: [1, 2, 3]}, 'get_ipython': <bound method InteractiveShell.get_ipython of <ipykernel.zmqshell.ZMQInteractiveShell object at 0x0000028330B78510>>, 'exit': <IPython.core.autocall.ZMQExitAutocall object at 0x0000028330B85110>, 'quit': <IPython.core.autocall.ZMQExitAutocall object at 0x0000028330B85110>, 'open': <function open at 0x000002832EC7BF60>, '_': [1, 2, 3], '__': <map object at 0x0000028330BE56C0>, '___': [1, 2, 3], '__vsc_ipynb_file__': 'c:\\\\Users\\\\koreshilova_ea\\\\Desktop\\\\koreshok\\\\games\\\\stepbystep.ipynb', '_i': 'print(factorial(5))\\nprint(fac)', '_ii': 'from functools import reduce\\nfac = 5\\nfac_dict = {}\\ndef factorial(num):\\n    fac_list = [i for i in range(1, num + 1)]\\n    global fac\\n    fac = reduce(lambda x, y: x * y, fac_list, 1)\\n    return fac\\n    \\n    ', '_iii': 'print(factorial(5))', '_i1': 'num = int(input())\\nmatrix = [[0 for _ in range(num)]for _ in range(num)]\\ntop = 0\\nleft = 0\\nright = num - 1\\nbottom = num - 1\\nn = 1\\n\\nfor g in range(num * 2 - 1):\\n    for i in range(left, right + 1):\\n        matrix[top][i] = n\\n        n += 1\\n    top += 1\\n    \\n    for i in range(top, bottom + 1):\\n        matrix[right][i] = n\\n        n += 1\\n    right -= 1\\n    \\n    for i in range(right, left - 1, - 1):\\n        matrix[bottom][i] = n\\n        n += 1\\n    bottom -= 1\\n    \\n    for i in range(bottom, top - 1, - 1):\\n        matrix[left][i] = n\\n        n += 1\\n    left += 1\\n    \\n    print(matrix)\\n        \\n        \\n        ', 'num': 10, 'matrix': [[1, 2, 3, 4, 5, 6, 7, 8, 9, 10], [36, 37, 38, 39, 40, 41, 42, 43, 44, 11], [35, 64, 65, 66, 67, 68, 69, 70, 45, 12], [34, 63, 84, 85, 86, 87, 88, 71, 46, 13], [33, 62, 83, 96, 97, 98, 89, 72, 47, 14], [32, 61, 82, 95, 100, 99, 90, 73, 48, 15], [31, 60, 81, 94, 93, 92, 91, 74, 49, 16], [30, 59, 80, 79, 78, 77, 76, 75, 50, 17], [29, 58, 57, 56, 55, 54, 53, 52, 51, 18], [28, 27, 26, 25, 24, 23, 22, 21, 20, 19]], 'top': 19, 'left': 19, 'right': -10, 'bottom': -10, 'n': 101, 'g': 18, 'i': 4, '_i2': 'num = int(input())\\nmatrix = [[0 for _ in range(num)]for _ in range(num)]\\ntop = 0\\nleft = 0\\nright = num - 1\\nbottom = num - 1\\nn = 1\\n\\nfor g in range(num * 2 - 1):\\n    for i in range(left, right + 1):\\n        matrix[top][i] = n\\n        n += 1\\n    top += 1\\n    \\n    for i in range(top, bottom + 1):\\n        matrix[right][i] = n\\n        n += 1\\n    right -= 1\\n    \\n    for i in range(right, left - 1, - 1):\\n        matrix[bottom][i] = n\\n        n += 1\\n    bottom -= 1\\n    \\n    for i in range(bottom, top - 1, - 1):\\n        matrix[left][i] = n\\n        n += 1\\n    left += 1\\n    \\nprint(matrix)\\n        \\n        \\n        ', '_i3': \"num = int(input())\\nmatrix = [[0 for _ in range(num)]for _ in range(num)]\\ntop = 0\\nleft = 0\\nright = num - 1\\nbottom = num - 1\\nn = 1\\n\\nfor g in range(num * 2 - 1):\\n    for i in range(left, right + 1):\\n        matrix[top][i] = n\\n        n += 1\\n    top += 1\\n    \\n    for i in range(top, bottom + 1):\\n        matrix[right][i] = n\\n        n += 1\\n    right -= 1\\n    \\n    for i in range(right, left - 1, - 1):\\n        matrix[bottom][i] = n\\n        n += 1\\n    bottom -= 1\\n    \\n    for i in range(bottom, top - 1, - 1):\\n        matrix[left][i] = n\\n        n += 1\\n    left += 1\\n    \\nfor row in matrix:\\n    print(*row, sep = '\\\\t')\\n        \\n        \\n        \", 'row': [28, 27, 26, 25, 24, 23, 22, 21, 20, 19], '_i4': \"num = int(input())\\nmatrix = [[0 for _ in range(num)]for _ in range(num)]\\ntop = 0\\nleft = 0\\nright = num - 1\\nbottom = num - 1\\nn = 1\\n\\nfor g in range(num * 2 - 1):\\n    for i in range(left, right + 1):\\n        matrix[top][i] = n\\n        n += 1\\n    top += 1\\n    \\n    for i in range(top, bottom + 1):\\n        matrix[i][right] = n\\n        n += 1\\n    right -= 1\\n    \\n    for i in range(right, left - 1, - 1):\\n        matrix[bottom][i] = n\\n        n += 1\\n    bottom -= 1\\n    \\n    for i in range(bottom, top - 1, - 1):\\n        matrix[i][left] = n\\n        n += 1\\n    left += 1\\n    \\nfor row in matrix:\\n    print(*row, sep = '\\\\t')\\n        \\n        \\n        \", '_i5': 'def spiral_fill(rows, cols):\\n    # Создаем пустую матрицу rows x cols\\n    matrix = [[0] * cols for _ in range(rows)]\\n    \\n    left, right = 0, cols - 1\\n    top, bottom = 0, rows - 1\\n    num = 1  # Начальное значение для заполнения\\n\\n    while left <= right and top <= bottom:\\n        # Заполняем верхнюю строку\\n        for i in range(left, right + 1):\\n            matrix[top][i] = num\\n            num += 1\\n        top += 1\\n\\n        # Заполняем правый столбец\\n        for i in range(top, bottom + 1):\\n            matrix[i][right] = num\\n            num += 1\\n        right -= 1\\n\\n        # Заполняем нижнюю строку, если еще не заполнена\\n        if top <= bottom:\\n            for i in range(right, left - 1, -1):\\n                matrix[bottom][i] = num\\n                num += 1\\n            bottom -= 1\\n\\n        # Заполняем левый столбец, если еще не заполнен\\n        if left <= right:\\n            for i in range(bottom, top - 1, -1):\\n                matrix[i][left] = num\\n                num += 1\\n            left += 1\\n\\n    return matrix\\n\\n# Пример использования\\nrows = 3  # Количество строк\\ncols = 5  # Количество столбцов\\nspiral_matrix = spiral_fill(rows, cols)\\nfor row in spiral_matrix:\\n    print(row)', 'spiral_fill': <function spiral_fill at 0x0000028330CB6A20>, 'rows': 3, 'cols': 5, 'spiral_matrix': [[1, 2, 3, 4, 5], [12, 13, 14, 15, 6], [11, 10, 9, 8, 7]], '_i6': \"num = int(input())\\nmatrix = [[0 for _ in range(num)]for _ in range(num)]\\ntop = 0\\nleft = 0\\nright = num - 1\\nbottom = num - 1\\nn = 1\\n\\nfor g in range(num * 2 - 1):\\n    for i in range(left, right + 1):\\n        matrix[top][i] = n\\n        n += 1\\n    top += 1\\n    \\n    for i in range(top, bottom + 1):\\n        matrix[i][right] = n\\n        n += 1\\n    right -= 1\\n    \\n    for i in range(right, left - 1, - 1):\\n        matrix[bottom][i] = n\\n        n += 1\\n    bottom -= 1\\n    \\n    for i in range(bottom, top - 1, - 1):\\n        matrix[i][left] = n\\n        n += 1\\n    left += 1\\n    \\nfor row in matrix:\\n    print(*row, sep = '\\\\t')\\n        \\n        \\n        \", '_i7': 'def modify_list(l):\\n    return list(map lambda x: x // 2, (filter(lambda x: x % 2 == 0, l)))', '_i8': 'def modify_list(l):\\n    return list(map (lambda x: x // 2, (filter(lambda x: x % 2 == 0, l))))', 'modify_list': <function modify_list at 0x0000028330C299E0>, '_i9': 'def modify_list([1, 2, 3, 4, 5, 6])', '_i10': 'modify_list([1, 2, 3, 4, 5, 6])', '_10': [1, 2, 3], '_i11': 'def modify_list(l):\\n    return map (lambda x: x // 2, (filter(lambda x: x % 2 == 0, l)))', '_i12': 'modify_list([1, 2, 3, 4, 5, 6])', '_12': <map object at 0x0000028330BE56C0>, '_i13': 'def modify_list(l):\\n    return list(map (lambda x: x // 2, (filter(lambda x: x % 2 == 0, l))))', '_i14': 'modify_list([1, 2, 3, 4, 5, 6])', '_14': [1, 2, 3], '_i15': 'def modify_list(l):\\n    list(map (lambda x: x // 2, (filter(lambda x: x % 2 == 0, l))))', '_i16': 'modify_list([1, 2, 3, 4, 5, 6])', '_i17': 'def modify_list(l):\\n    list(map (lambda x: x // 2, (filter(lambda x: x % 2 == 0, l))))', '_i18': 'lst = [1, 2, 3, 4, 5, 6]', 'lst': [1, 2, 3, 4, 5, 6], '_i19': 'print(modify_list(lst))', '_i20': 'print(lst) ', '_i21': 'def modify_list(l):\\n    l = list(map (lambda x: x // 2, (filter(lambda x: x % 2 == 0, l))))', '_i22': 'lst = [1, 2, 3, 4, 5, 6]', '_i23': 'print(modify_list(lst))', '_i24': 'print(lst) ', '_i25': 'def update_dictionary(d, key, value):\\n    for kkey, vvalue in d.items():\\n        if kkey == key:\\n            d[key].append(value)\\n        elif kkey == 2 * key:\\n            d[kkey].append(value)\\n        else:\\n            d[2 * key] = value', 'update_dictionary': <function update_dictionary at 0x0000028330D27880>, '_i26': 'from math import pi\\nr = int(input())\\nprint(pi * r**2)', 'pi': 3.141592653589793, 'r': 10, '_i27': 'from math import pi\\nr = int(input())\\nprint(pi * r * 2)', '_i28': 'from functools import reduce\\nfac = 1\\nfac_dict = {}\\ndef factorial(num):\\n    fac_list = [i for i in range(num )]\\n    fac = reduce(lambda x: x * y, fac_list, 1)\\n    return fac\\n    \\n    ', 'reduce': <built-in function reduce>, 'fac': 120, 'fac_dict': {}, 'factorial': <function factorial at 0x0000028330D5B600>, '_i29': 'print(factorial(5))', '_i30': 'from functools import reduce\\nfac = 1\\nfac_dict = {}\\ndef factorial(num):\\n    fac_list = [i for i in range(num )]\\n    fac = reduce(lambda x, y: x * y, fac_list, 1)\\n    return fac\\n    \\n    ', '_i31': 'print(factorial(5))', '_i32': 'from functools import reduce\\nfac = 0\\nfac_dict = {}\\ndef factorial(num):\\n    fac_list = [i for i in range(num )]\\n    fac = reduce(lambda x, y: x * y, fac_list, 1)\\n    return fac\\n    \\n    ', '_i33': 'print(factorial(5))', '_i34': 'from functools import reduce\\nfac = 5\\nfac_dict = {}\\ndef factorial(num):\\n    fac_list = [i for i in range(num )]\\n    fac = reduce(lambda x, y: x * y, fac_list, 1)\\n    return fac\\n    \\n    ', '_i35': 'print(factorial(5))', '_i36': 'from functools import reduce\\nfac = 5\\nfac_dict = {}\\ndef factorial(num):\\n    fac_list = [i for i in range(num )]\\n    global fac = reduce(lambda x, y: x * y, fac_list, 1)\\n    return fac\\n    \\n    ', '_i37': 'from functools import reduce\\nfac = 5\\nfac_dict = {}\\ndef factorial(num):\\n    fac_list = [i for i in range(1, num + 1)]\\n    global fac = reduce(lambda x, y: x * y, fac_list, 1)\\n    return fac\\n    \\n    ', '_i38': 'from functools import reduce\\nfac = 5\\nfac_dict = {}\\ndef factorial(num):\\n    fac_list = [i for i in range(1, num + 1)]\\n    fac = reduce(lambda x, y: x * y, fac_list, 1)\\n    return fac\\n    \\n    ', '_i39': 'print(factorial(5))', '_i40': 'from functools import reduce\\nfac = 5\\nfac_dict = {}\\ndef factorial(num):\\n    fac_list = [i for i in range(1, num + 1)]\\n    global fac\\n    fac = reduce(lambda x, y: x * y, fac_list, 1)\\n    return fac\\n    \\n    ', '_i41': 'print(factorial(5))\\nprint(fac)', '_i42': 'x = 1\\n\\n\\ndef my_func():\\n    a = 1\\n    b = 2\\n    c = 3\\n    print(globals())\\n\\n\\nmy_func()\\n\\ny = 2', 'x': 1, 'my_func': <function my_func at 0x000002833149FE20>}\n"
     ]
    }
   ],
   "source": [
    "x = 1\n",
    "\n",
    "\n",
    "def my_func():\n",
    "    a = 1\n",
    "    b = 2\n",
    "    c = 3\n",
    "    print(globals())\n",
    "\n",
    "\n",
    "my_func()\n",
    "\n",
    "y = 2"
   ]
  },
  {
   "cell_type": "code",
   "execution_count": null,
   "metadata": {},
   "outputs": [],
   "source": [
    "exchange_rates = {\n",
    "    \"USD\": 1.0,\n",
    "    \"EUR\": 0.861775,\n",
    "    \"GBP\": 0.726763,\n",
    "    \"INR\": 75.054725,\n",
    "    \"AUD\": 1.333679,\n",
    "    \"CAD\": 1.237816,\n",
    "    \"SGD\": 1.346851,\n",
    "}\n",
    "\n",
    "\n",
    "def convert(money_1, money_2, summa):\n",
    "    money = summa * exchange_rates[money_2] /exchange_rates[money_1]\n",
    "    return round(money, 2)"
   ]
  }
 ],
 "metadata": {
  "kernelspec": {
   "display_name": "gamesvenv",
   "language": "python",
   "name": "python3"
  },
  "language_info": {
   "codemirror_mode": {
    "name": "ipython",
    "version": 3
   },
   "file_extension": ".py",
   "mimetype": "text/x-python",
   "name": "python",
   "nbconvert_exporter": "python",
   "pygments_lexer": "ipython3",
   "version": "3.11.5"
  }
 },
 "nbformat": 4,
 "nbformat_minor": 2
}

{
 "cells": [
  {
   "cell_type": "code",
   "execution_count": 2,
   "metadata": {},
   "outputs": [
    {
     "name": "stdout",
     "output_type": "stream",
     "text": [
      "x9Utsy\n",
      "8wpkaX\n",
      "dcgkF9\n",
      "e5ujdR\n",
      "q6Uawg\n",
      "pfziL7\n"
     ]
    }
   ],
   "source": [
    "import string\n",
    "import random\n",
    "\n",
    "def generate_password(length):\n",
    "    letters = [i for i in string.ascii_lowercase if i not in 'lIoO']\n",
    "    digits = [str(i) for i in string.digits if str(i) not in '10']\n",
    "    letters_2 = [i for i in string.ascii_uppercase if i not in 'lIoO']\n",
    "    parol = random.sample(letters, length - 2) + [random.choice(letters_2)] + [random.choice(digits)]\n",
    "    random.shuffle(parol)\n",
    "    parol = ''.join(parol)\n",
    "    return parol\n",
    "def generate_passwords(counts, length):\n",
    "    a = [generate_password(length) for _ in range(counts)]\n",
    "    return a\n",
    "print (*generate_passwords(int(input()), int(input())), sep='\\n')"
   ]
  }
 ],
 "metadata": {
  "kernelspec": {
   "display_name": "venv",
   "language": "python",
   "name": "python3"
  },
  "language_info": {
   "codemirror_mode": {
    "name": "ipython",
    "version": 3
   },
   "file_extension": ".py",
   "mimetype": "text/x-python",
   "name": "python",
   "nbconvert_exporter": "python",
   "pygments_lexer": "ipython3",
   "version": "3.11.5"
  }
 },
 "nbformat": 4,
 "nbformat_minor": 2
}

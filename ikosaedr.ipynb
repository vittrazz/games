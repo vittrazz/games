{
 "cells": [
  {
   "cell_type": "code",
   "execution_count": 1,
   "metadata": {},
   "outputs": [],
   "source": [
    "import random"
   ]
  },
  {
   "cell_type": "code",
   "execution_count": 2,
   "metadata": {},
   "outputs": [],
   "source": [
    "answers = ['Бесспорно', 'Предрешено', 'Никаких сомнений', 'Определённо да', 'Можешь быть уверен в этом', 'Мне кажется - да', 'Вероятнее всего', 'Хорошие перспективы', 'Знаки говорят - да', 'Да', 'Пока неясно, попробуй снова', 'Спроси позже', 'Лучше не рассказывать', 'Сейчас нельзя предсказать', 'Сконцентрируйся и спроси опять', 'Даже не думай', 'Мой ответ - нет', 'По моим данным - нет', 'Перспективы не очень хорошие', 'Весьма сомнительно']"
   ]
  },
  {
   "cell_type": "code",
   "execution_count": null,
   "metadata": {},
   "outputs": [
    {
     "name": "stdout",
     "output_type": "stream",
     "text": [
      "Привет Мир, я магический шар, и я знаю ответ на любой твой вопрос.\n",
      "Как тебя зовут?\n",
      "Привет, !\n",
      "Какой у тебя вопрос ко мне?\n",
      "Весьма сомнительно\n",
      "\n",
      "Хочешь ли задать еще один вопрос? Да/Нет\n",
      "Возвращайся если возникнут вопросы!\n"
     ]
    }
   ],
   "source": [
    "print('Привет Мир, я магический шар, и я знаю ответ на любой твой вопрос.')\n",
    "print(\"Как тебя зовут?\")\n",
    "name = input(\"введи свое имя: \")\n",
    "print(f'Привет, {name}!')\n",
    "print('Какой у тебя вопрос ко мне?')\n",
    "quetion_gen = input('вопрос:')\n",
    "flag = True\n",
    "while flag:\n",
    "    print(random.choice(answers))\n",
    "    print()\n",
    "    print('Хочешь ли задать еще один вопрос? Да/Нет')\n",
    "    quetion = input()\n",
    "    if quetion.upper() == 'ДА' or quetion.upper() == \"LF\":\n",
    "        print('Какой у тебя вопрос?')\n",
    "        quetion_gen = input()\n",
    "        continue\n",
    "    else:\n",
    "        flag = False\n",
    "        break\n",
    "print('Возвращайся, если возникнут вопросы!')\n"
   ]
  }
 ],
 "metadata": {
  "kernelspec": {
   "display_name": "gamesvenv",
   "language": "python",
   "name": "python3"
  },
  "language_info": {
   "codemirror_mode": {
    "name": "ipython",
    "version": 3
   },
   "file_extension": ".py",
   "mimetype": "text/x-python",
   "name": "python",
   "nbconvert_exporter": "python",
   "pygments_lexer": "ipython3",
   "version": "3.11.5"
  }
 },
 "nbformat": 4,
 "nbformat_minor": 2
}
